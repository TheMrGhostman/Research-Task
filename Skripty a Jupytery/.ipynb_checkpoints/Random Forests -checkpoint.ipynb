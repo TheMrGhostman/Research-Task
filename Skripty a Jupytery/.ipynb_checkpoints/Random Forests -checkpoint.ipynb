{
 "cells": [
  {
   "cell_type": "code",
   "execution_count": 1,
   "metadata": {},
   "outputs": [
    {
     "name": "stdout",
     "output_type": "stream",
     "text": [
      "Populating the interactive namespace from numpy and matplotlib\n"
     ]
    }
   ],
   "source": [
    "%pylab --no-import-all notebook\n",
    "import sys \n",
    "sys.path.append(\"../modules\")"
   ]
  },
  {
   "cell_type": "code",
   "execution_count": 2,
   "metadata": {
    "collapsed": true
   },
   "outputs": [],
   "source": [
    "import Classification as CL\n",
    "import datasets as d\n",
    "\n",
    "from sklearn.ensemble import RandomForestClassifier, AdaBoostClassifier, GradientBoostingClassifier\n",
    "import pandas as pd\n",
    "from bunch import Bunch\n",
    "import copy\n",
    "import progressbar\n",
    "from time import time"
   ]
  },
  {
   "cell_type": "code",
   "execution_count": 3,
   "metadata": {
    "collapsed": true
   },
   "outputs": [],
   "source": [
    "import os \n",
    "path = os.getcwd()\n",
    "path = path.replace(path.split('/')[-1],'')\n",
    "valid_path = path + \"/Validační tabulky/\""
   ]
  },
  {
   "cell_type": "code",
   "execution_count": 4,
   "metadata": {
    "collapsed": true
   },
   "outputs": [],
   "source": [
    "data = d.load_dataset(name=\"first_dataset\")"
   ]
  },
  {
   "cell_type": "code",
   "execution_count": 5,
   "metadata": {
    "collapsed": true
   },
   "outputs": [],
   "source": [
    "train, test = d.PrepareCrossFold(data.data)"
   ]
  },
  {
   "cell_type": "code",
   "execution_count": 6,
   "metadata": {
    "collapsed": true
   },
   "outputs": [],
   "source": [
    "def CrossVal(model, estimator_list, train_data, test_data, kombinace, params, \n",
    "             model_nm=\"RandomForest\", dataset_nm=\"first\", model_name_param=True):\n",
    "    \"\"\"\n",
    "    Ještě není hotový\n",
    "    \"\"\"\n",
    "    start = time()\n",
    "    tab = np.empty([10]).tolist()\n",
    "    \n",
    "    for cross in range(10):\n",
    "        bar = progressbar.ProgressBar(maxval=len(estimator_list),#+10,\n",
    "                                      widgets=[progressbar.Bar('#', '[', ']'),\n",
    "                                                   ' ', progressbar.Percentage()])\n",
    "        \n",
    "        train_matrix = CL.make_matrix(train_data[cross], kombinace, params)\n",
    "        test_matrix = CL.make_matrix(test_data[cross], kombinace, params)\n",
    "        \n",
    "        \n",
    "        labels = train_data[cross][0][2]\n",
    "        for lab in train_data[cross][1:]:\n",
    "            labels = np.hstack((labels, lab[2]))\n",
    "        labels = labels.T\n",
    "        \n",
    "        [comb, estim, acc, miss, F0, F1, F2, F_avr, P0, P1, P2, R0, R1, R2, okno] = [[], [], [], [], [], [],\n",
    "                                                                          [], [], [], [], [], [],\n",
    "                                                                          [], [], []]\n",
    " \n",
    "        bar.start()\n",
    "        \n",
    "        for i, est in enumerate(estimator_list):\n",
    "            clf = copy.copy(model)\n",
    "            clf.n_estimators = est\n",
    "            #clf = RandomForestClassifier(n_estimators=est, criterion=\"entropy\", max_depth=3)\n",
    "            \n",
    "            states = CL.train_and_predict(clf, \n",
    "                                          train_matrix, test_matrix, [], labels,\n",
    "                                          unsupervised=False, HMMmodified=False)\n",
    "            \n",
    "            [a, m, f, f_a, p, r] = CL.score(states, test_data[cross][0][2], unsupervised=False)\n",
    "            \n",
    "            if kombinace == \"all\":\n",
    "                kombinace = tuple(np.ones(5, dtype=int).tolist())\n",
    "            \n",
    "            comb.append(kombinace)\n",
    "            estim.append(est)\n",
    "            okno.append(params)\n",
    "            acc.append(a)\n",
    "            miss.append(m)\n",
    "            F0.append(f[0])\n",
    "            F1.append(f[1])\n",
    "            F2.append(f[2])\n",
    "            F_avr.append(f_a)\n",
    "            P0.append(p[0])\n",
    "            P1.append(p[1])\n",
    "            P2.append(p[2])\n",
    "            R0.append(r[0])\n",
    "            R1.append(r[1])\n",
    "            R2.append(r[2])\n",
    "            bar.update(i)\n",
    "            \n",
    "           \n",
    "        panda = list(zip(estim, comb, okno, acc, miss, F0, F1, F2, F_avr,\n",
    "                     P0, P1, P2, R0, R1, R2))\n",
    "        dpanda = pd.DataFrame(data=panda,\n",
    "                          columns=['n_estim', 'Kombinace rysů', 'délky úseku', 'Accuracy', 'Chyby',\n",
    "                                   'F míra stavu 0', 'F míra stavu 1', 'F míra stavu 2',\n",
    "                                   'F míra průměrná', 'Precision stavu 0', 'Precision stavu 1',\n",
    "                                   'Precision stavu 2', 'Recall stavu 0', 'Recall stavu 1',\n",
    "                                   'Recall stavu 2'])\n",
    "        tab[cross]=dpanda\n",
    "        \n",
    "        if model_name_param:\n",
    "            model_name = f\"{model_nm}_criterion={clf.criterion}_md={clf.max_depth}_{dataset_nm}_dataset_{cross}.csv\"\n",
    "        else:\n",
    "            model_name = f\"{model_nm}_dataset_{dataset_nm}_{cross}.csv\"\n",
    "        dpanda.to_csv(valid_path + model_name, index=False)\n",
    "        \n",
    "        bar.finish()\n",
    "        print(cross + 1, '. -> ', round(time()-start))\n",
    "        \n",
    "        \n",
    "    print(round(time()-start))\n",
    "    return tab"
   ]
  },
  {
   "cell_type": "code",
   "execution_count": 7,
   "metadata": {},
   "outputs": [
    {
     "data": {
      "text/plain": [
       "'\\nCLF = RandomForestClassifier(n_estimators=20, criterion=\"entropy\", max_depth=3)\\n\\nmodel_name = f\"RandomForest_n-est={CLF.n_estimators}_crit=entropy_md=3_first_dataset_\"\\n\\ntab = np.empty([10]).tolist()\\n\\nfor i in range(10):\\n    tab[i] = CL.validace_hromadna(CLF, train[i], test[i], delka_okna=[[4, 6], [8, 10], [12, 14, 16], range(5,17)],                           pocet_stavu=3, unsupervised = False, HMMmodified=False)\\n    tab[i].to_csv(valid_path + model_name + str(i)+ \\'.csv\\',index=False)\\n    \\n'"
      ]
     },
     "execution_count": 7,
     "metadata": {},
     "output_type": "execute_result"
    }
   ],
   "source": [
    "\"\"\"\n",
    "CLF = RandomForestClassifier(n_estimators=20, criterion=\"entropy\", max_depth=3)\n",
    "\n",
    "model_name = f\"RandomForest_n-est={CLF.n_estimators}_crit=entropy_md=3_first_dataset_\"\n",
    "\n",
    "tab = np.empty([10]).tolist()\n",
    "\n",
    "for i in range(10):\n",
    "    tab[i] = CL.validace_hromadna(CLF, train[i], test[i], delka_okna=[[4, 6], [8, 10], [12, 14, 16], range(5,17)],\\\n",
    "                           pocet_stavu=3, unsupervised = False, HMMmodified=False)\n",
    "    tab[i].to_csv(valid_path + model_name + str(i)+ '.csv',index=False)\n",
    "    \n",
    "\"\"\""
   ]
  },
  {
   "cell_type": "code",
   "execution_count": 40,
   "metadata": {
    "collapsed": true
   },
   "outputs": [
    {
     "name": "stderr",
     "output_type": "stream",
     "text": [
      "[########################################################################] 100%\n"
     ]
    },
    {
     "name": "stdout",
     "output_type": "stream",
     "text": [
      "382\n"
     ]
    },
    {
     "name": "stderr",
     "output_type": "stream",
     "text": [
      "[########################################################################] 100%\n"
     ]
    },
    {
     "name": "stdout",
     "output_type": "stream",
     "text": [
      "786\n"
     ]
    },
    {
     "name": "stderr",
     "output_type": "stream",
     "text": [
      "[########################################################################] 100%\n"
     ]
    },
    {
     "name": "stdout",
     "output_type": "stream",
     "text": [
      "1194\n"
     ]
    },
    {
     "name": "stderr",
     "output_type": "stream",
     "text": [
      "[########################################################################] 100%\n"
     ]
    },
    {
     "name": "stdout",
     "output_type": "stream",
     "text": [
      "1611\n"
     ]
    },
    {
     "name": "stderr",
     "output_type": "stream",
     "text": [
      "[########################################################################] 100%\n"
     ]
    },
    {
     "name": "stdout",
     "output_type": "stream",
     "text": [
      "1987\n"
     ]
    },
    {
     "name": "stderr",
     "output_type": "stream",
     "text": [
      "[########################################################################] 100%\n"
     ]
    },
    {
     "name": "stdout",
     "output_type": "stream",
     "text": [
      "2389\n"
     ]
    },
    {
     "name": "stderr",
     "output_type": "stream",
     "text": [
      "[########################################################################] 100%\n"
     ]
    },
    {
     "name": "stdout",
     "output_type": "stream",
     "text": [
      "2789\n"
     ]
    },
    {
     "name": "stderr",
     "output_type": "stream",
     "text": [
      "[########################################################################] 100%\n"
     ]
    },
    {
     "name": "stdout",
     "output_type": "stream",
     "text": [
      "3189\n"
     ]
    },
    {
     "name": "stderr",
     "output_type": "stream",
     "text": [
      "[########################################################################] 100%\n"
     ]
    },
    {
     "name": "stdout",
     "output_type": "stream",
     "text": [
      "3592\n"
     ]
    },
    {
     "name": "stderr",
     "output_type": "stream",
     "text": [
      "[########################################################################] 100%\n"
     ]
    },
    {
     "name": "stdout",
     "output_type": "stream",
     "text": [
      "3996\n",
      "3996\n"
     ]
    }
   ],
   "source": [
    "tabulky = CrossVal(model = RandomForestClassifier(criterion=\"entropy\", max_depth=3), \n",
    "                   estimator_list=np.linspace(5,250,50,dtype=int).tolist(), \n",
    "                   train_data=train, \n",
    "                   test_data=test, \n",
    "                   kombinace=\"all\", \n",
    "                   params = [[4, 6], [8, 10], [12, 14, 16], range(5,17)])"
   ]
  },
  {
   "cell_type": "code",
   "execution_count": 41,
   "metadata": {
    "collapsed": true
   },
   "outputs": [
    {
     "data": {
      "text/html": [
       "<div>\n",
       "<style>\n",
       "    .dataframe thead tr:only-child th {\n",
       "        text-align: right;\n",
       "    }\n",
       "\n",
       "    .dataframe thead th {\n",
       "        text-align: left;\n",
       "    }\n",
       "\n",
       "    .dataframe tbody tr th {\n",
       "        vertical-align: top;\n",
       "    }\n",
       "</style>\n",
       "<table border=\"1\" class=\"dataframe\">\n",
       "  <thead>\n",
       "    <tr style=\"text-align: right;\">\n",
       "      <th></th>\n",
       "      <th>n_estim</th>\n",
       "      <th>Kombinace rysů</th>\n",
       "      <th>délky úseku</th>\n",
       "      <th>Accuracy</th>\n",
       "      <th>Chyby</th>\n",
       "      <th>F míra stavu 0</th>\n",
       "      <th>F míra stavu 1</th>\n",
       "      <th>F míra stavu 2</th>\n",
       "      <th>F míra průměrná</th>\n",
       "      <th>Precision stavu 0</th>\n",
       "      <th>Precision stavu 1</th>\n",
       "      <th>Precision stavu 2</th>\n",
       "      <th>Recall stavu 0</th>\n",
       "      <th>Recall stavu 1</th>\n",
       "      <th>Recall stavu 2</th>\n",
       "    </tr>\n",
       "  </thead>\n",
       "  <tbody>\n",
       "    <tr>\n",
       "      <th>20</th>\n",
       "      <td>105</td>\n",
       "      <td>(1, 1, 1, 1, 1)</td>\n",
       "      <td>[[4, 6], [8, 10], [12, 14, 16], (5, 6, 7, 8, 9...</td>\n",
       "      <td>0.852336</td>\n",
       "      <td>531</td>\n",
       "      <td>0.885263</td>\n",
       "      <td>0.861728</td>\n",
       "      <td>0.800930</td>\n",
       "      <td>0.849307</td>\n",
       "      <td>0.881090</td>\n",
       "      <td>0.920844</td>\n",
       "      <td>0.790520</td>\n",
       "      <td>0.889476</td>\n",
       "      <td>0.809745</td>\n",
       "      <td>0.811617</td>\n",
       "    </tr>\n",
       "    <tr>\n",
       "      <th>13</th>\n",
       "      <td>70</td>\n",
       "      <td>(1, 1, 1, 1, 1)</td>\n",
       "      <td>[[4, 6], [8, 10], [12, 14, 16], (5, 6, 7, 8, 9...</td>\n",
       "      <td>0.850945</td>\n",
       "      <td>536</td>\n",
       "      <td>0.883574</td>\n",
       "      <td>0.865598</td>\n",
       "      <td>0.798137</td>\n",
       "      <td>0.849103</td>\n",
       "      <td>0.878265</td>\n",
       "      <td>0.923684</td>\n",
       "      <td>0.789555</td>\n",
       "      <td>0.888948</td>\n",
       "      <td>0.814385</td>\n",
       "      <td>0.806907</td>\n",
       "    </tr>\n",
       "    <tr>\n",
       "      <th>7</th>\n",
       "      <td>40</td>\n",
       "      <td>(1, 1, 1, 1, 1)</td>\n",
       "      <td>[[4, 6], [8, 10], [12, 14, 16], (5, 6, 7, 8, 9...</td>\n",
       "      <td>0.848165</td>\n",
       "      <td>546</td>\n",
       "      <td>0.879022</td>\n",
       "      <td>0.868389</td>\n",
       "      <td>0.797555</td>\n",
       "      <td>0.848322</td>\n",
       "      <td>0.883957</td>\n",
       "      <td>0.924084</td>\n",
       "      <td>0.776786</td>\n",
       "      <td>0.874141</td>\n",
       "      <td>0.819026</td>\n",
       "      <td>0.819466</td>\n",
       "    </tr>\n",
       "    <tr>\n",
       "      <th>34</th>\n",
       "      <td>175</td>\n",
       "      <td>(1, 1, 1, 1, 1)</td>\n",
       "      <td>[[4, 6], [8, 10], [12, 14, 16], (5, 6, 7, 8, 9...</td>\n",
       "      <td>0.850111</td>\n",
       "      <td>539</td>\n",
       "      <td>0.882275</td>\n",
       "      <td>0.862454</td>\n",
       "      <td>0.800153</td>\n",
       "      <td>0.848294</td>\n",
       "      <td>0.886752</td>\n",
       "      <td>0.925532</td>\n",
       "      <td>0.778190</td>\n",
       "      <td>0.877842</td>\n",
       "      <td>0.807425</td>\n",
       "      <td>0.823391</td>\n",
       "    </tr>\n",
       "    <tr>\n",
       "      <th>5</th>\n",
       "      <td>30</td>\n",
       "      <td>(1, 1, 1, 1, 1)</td>\n",
       "      <td>[[4, 6], [8, 10], [12, 14, 16], (5, 6, 7, 8, 9...</td>\n",
       "      <td>0.850667</td>\n",
       "      <td>537</td>\n",
       "      <td>0.883844</td>\n",
       "      <td>0.861042</td>\n",
       "      <td>0.799076</td>\n",
       "      <td>0.847987</td>\n",
       "      <td>0.882446</td>\n",
       "      <td>0.925333</td>\n",
       "      <td>0.783988</td>\n",
       "      <td>0.885246</td>\n",
       "      <td>0.805104</td>\n",
       "      <td>0.814757</td>\n",
       "    </tr>\n",
       "  </tbody>\n",
       "</table>\n",
       "</div>"
      ],
      "text/plain": [
       "    n_estim   Kombinace rysů  \\\n",
       "20      105  (1, 1, 1, 1, 1)   \n",
       "13       70  (1, 1, 1, 1, 1)   \n",
       "7        40  (1, 1, 1, 1, 1)   \n",
       "34      175  (1, 1, 1, 1, 1)   \n",
       "5        30  (1, 1, 1, 1, 1)   \n",
       "\n",
       "                                          délky úseku  Accuracy  Chyby  \\\n",
       "20  [[4, 6], [8, 10], [12, 14, 16], (5, 6, 7, 8, 9...  0.852336    531   \n",
       "13  [[4, 6], [8, 10], [12, 14, 16], (5, 6, 7, 8, 9...  0.850945    536   \n",
       "7   [[4, 6], [8, 10], [12, 14, 16], (5, 6, 7, 8, 9...  0.848165    546   \n",
       "34  [[4, 6], [8, 10], [12, 14, 16], (5, 6, 7, 8, 9...  0.850111    539   \n",
       "5   [[4, 6], [8, 10], [12, 14, 16], (5, 6, 7, 8, 9...  0.850667    537   \n",
       "\n",
       "    F míra stavu 0  F míra stavu 1  F míra stavu 2  F míra průměrná  \\\n",
       "20        0.885263        0.861728        0.800930         0.849307   \n",
       "13        0.883574        0.865598        0.798137         0.849103   \n",
       "7         0.879022        0.868389        0.797555         0.848322   \n",
       "34        0.882275        0.862454        0.800153         0.848294   \n",
       "5         0.883844        0.861042        0.799076         0.847987   \n",
       "\n",
       "    Precision stavu 0  Precision stavu 1  Precision stavu 2  Recall stavu 0  \\\n",
       "20           0.881090           0.920844           0.790520        0.889476   \n",
       "13           0.878265           0.923684           0.789555        0.888948   \n",
       "7            0.883957           0.924084           0.776786        0.874141   \n",
       "34           0.886752           0.925532           0.778190        0.877842   \n",
       "5            0.882446           0.925333           0.783988        0.885246   \n",
       "\n",
       "    Recall stavu 1  Recall stavu 2  \n",
       "20        0.809745        0.811617  \n",
       "13        0.814385        0.806907  \n",
       "7         0.819026        0.819466  \n",
       "34        0.807425        0.823391  \n",
       "5         0.805104        0.814757  "
      ]
     },
     "execution_count": 41,
     "metadata": {},
     "output_type": "execute_result"
    }
   ],
   "source": [
    "tabulky[9].sort_values([\"F míra průměrná\"], ascending=False).head()\n"
   ]
  },
  {
   "cell_type": "code",
   "execution_count": 45,
   "metadata": {},
   "outputs": [
    {
     "data": {
      "application/javascript": [
       "/* Put everything inside the global mpl namespace */\n",
       "window.mpl = {};\n",
       "\n",
       "\n",
       "mpl.get_websocket_type = function() {\n",
       "    if (typeof(WebSocket) !== 'undefined') {\n",
       "        return WebSocket;\n",
       "    } else if (typeof(MozWebSocket) !== 'undefined') {\n",
       "        return MozWebSocket;\n",
       "    } else {\n",
       "        alert('Your browser does not have WebSocket support.' +\n",
       "              'Please try Chrome, Safari or Firefox ≥ 6. ' +\n",
       "              'Firefox 4 and 5 are also supported but you ' +\n",
       "              'have to enable WebSockets in about:config.');\n",
       "    };\n",
       "}\n",
       "\n",
       "mpl.figure = function(figure_id, websocket, ondownload, parent_element) {\n",
       "    this.id = figure_id;\n",
       "\n",
       "    this.ws = websocket;\n",
       "\n",
       "    this.supports_binary = (this.ws.binaryType != undefined);\n",
       "\n",
       "    if (!this.supports_binary) {\n",
       "        var warnings = document.getElementById(\"mpl-warnings\");\n",
       "        if (warnings) {\n",
       "            warnings.style.display = 'block';\n",
       "            warnings.textContent = (\n",
       "                \"This browser does not support binary websocket messages. \" +\n",
       "                    \"Performance may be slow.\");\n",
       "        }\n",
       "    }\n",
       "\n",
       "    this.imageObj = new Image();\n",
       "\n",
       "    this.context = undefined;\n",
       "    this.message = undefined;\n",
       "    this.canvas = undefined;\n",
       "    this.rubberband_canvas = undefined;\n",
       "    this.rubberband_context = undefined;\n",
       "    this.format_dropdown = undefined;\n",
       "\n",
       "    this.image_mode = 'full';\n",
       "\n",
       "    this.root = $('<div/>');\n",
       "    this._root_extra_style(this.root)\n",
       "    this.root.attr('style', 'display: inline-block');\n",
       "\n",
       "    $(parent_element).append(this.root);\n",
       "\n",
       "    this._init_header(this);\n",
       "    this._init_canvas(this);\n",
       "    this._init_toolbar(this);\n",
       "\n",
       "    var fig = this;\n",
       "\n",
       "    this.waiting = false;\n",
       "\n",
       "    this.ws.onopen =  function () {\n",
       "            fig.send_message(\"supports_binary\", {value: fig.supports_binary});\n",
       "            fig.send_message(\"send_image_mode\", {});\n",
       "            if (mpl.ratio != 1) {\n",
       "                fig.send_message(\"set_dpi_ratio\", {'dpi_ratio': mpl.ratio});\n",
       "            }\n",
       "            fig.send_message(\"refresh\", {});\n",
       "        }\n",
       "\n",
       "    this.imageObj.onload = function() {\n",
       "            if (fig.image_mode == 'full') {\n",
       "                // Full images could contain transparency (where diff images\n",
       "                // almost always do), so we need to clear the canvas so that\n",
       "                // there is no ghosting.\n",
       "                fig.context.clearRect(0, 0, fig.canvas.width, fig.canvas.height);\n",
       "            }\n",
       "            fig.context.drawImage(fig.imageObj, 0, 0);\n",
       "        };\n",
       "\n",
       "    this.imageObj.onunload = function() {\n",
       "        fig.ws.close();\n",
       "    }\n",
       "\n",
       "    this.ws.onmessage = this._make_on_message_function(this);\n",
       "\n",
       "    this.ondownload = ondownload;\n",
       "}\n",
       "\n",
       "mpl.figure.prototype._init_header = function() {\n",
       "    var titlebar = $(\n",
       "        '<div class=\"ui-dialog-titlebar ui-widget-header ui-corner-all ' +\n",
       "        'ui-helper-clearfix\"/>');\n",
       "    var titletext = $(\n",
       "        '<div class=\"ui-dialog-title\" style=\"width: 100%; ' +\n",
       "        'text-align: center; padding: 3px;\"/>');\n",
       "    titlebar.append(titletext)\n",
       "    this.root.append(titlebar);\n",
       "    this.header = titletext[0];\n",
       "}\n",
       "\n",
       "\n",
       "\n",
       "mpl.figure.prototype._canvas_extra_style = function(canvas_div) {\n",
       "\n",
       "}\n",
       "\n",
       "\n",
       "mpl.figure.prototype._root_extra_style = function(canvas_div) {\n",
       "\n",
       "}\n",
       "\n",
       "mpl.figure.prototype._init_canvas = function() {\n",
       "    var fig = this;\n",
       "\n",
       "    var canvas_div = $('<div/>');\n",
       "\n",
       "    canvas_div.attr('style', 'position: relative; clear: both; outline: 0');\n",
       "\n",
       "    function canvas_keyboard_event(event) {\n",
       "        return fig.key_event(event, event['data']);\n",
       "    }\n",
       "\n",
       "    canvas_div.keydown('key_press', canvas_keyboard_event);\n",
       "    canvas_div.keyup('key_release', canvas_keyboard_event);\n",
       "    this.canvas_div = canvas_div\n",
       "    this._canvas_extra_style(canvas_div)\n",
       "    this.root.append(canvas_div);\n",
       "\n",
       "    var canvas = $('<canvas/>');\n",
       "    canvas.addClass('mpl-canvas');\n",
       "    canvas.attr('style', \"left: 0; top: 0; z-index: 0; outline: 0\")\n",
       "\n",
       "    this.canvas = canvas[0];\n",
       "    this.context = canvas[0].getContext(\"2d\");\n",
       "\n",
       "    var backingStore = this.context.backingStorePixelRatio ||\n",
       "\tthis.context.webkitBackingStorePixelRatio ||\n",
       "\tthis.context.mozBackingStorePixelRatio ||\n",
       "\tthis.context.msBackingStorePixelRatio ||\n",
       "\tthis.context.oBackingStorePixelRatio ||\n",
       "\tthis.context.backingStorePixelRatio || 1;\n",
       "\n",
       "    mpl.ratio = (window.devicePixelRatio || 1) / backingStore;\n",
       "\n",
       "    var rubberband = $('<canvas/>');\n",
       "    rubberband.attr('style', \"position: absolute; left: 0; top: 0; z-index: 1;\")\n",
       "\n",
       "    var pass_mouse_events = true;\n",
       "\n",
       "    canvas_div.resizable({\n",
       "        start: function(event, ui) {\n",
       "            pass_mouse_events = false;\n",
       "        },\n",
       "        resize: function(event, ui) {\n",
       "            fig.request_resize(ui.size.width, ui.size.height);\n",
       "        },\n",
       "        stop: function(event, ui) {\n",
       "            pass_mouse_events = true;\n",
       "            fig.request_resize(ui.size.width, ui.size.height);\n",
       "        },\n",
       "    });\n",
       "\n",
       "    function mouse_event_fn(event) {\n",
       "        if (pass_mouse_events)\n",
       "            return fig.mouse_event(event, event['data']);\n",
       "    }\n",
       "\n",
       "    rubberband.mousedown('button_press', mouse_event_fn);\n",
       "    rubberband.mouseup('button_release', mouse_event_fn);\n",
       "    // Throttle sequential mouse events to 1 every 20ms.\n",
       "    rubberband.mousemove('motion_notify', mouse_event_fn);\n",
       "\n",
       "    rubberband.mouseenter('figure_enter', mouse_event_fn);\n",
       "    rubberband.mouseleave('figure_leave', mouse_event_fn);\n",
       "\n",
       "    canvas_div.on(\"wheel\", function (event) {\n",
       "        event = event.originalEvent;\n",
       "        event['data'] = 'scroll'\n",
       "        if (event.deltaY < 0) {\n",
       "            event.step = 1;\n",
       "        } else {\n",
       "            event.step = -1;\n",
       "        }\n",
       "        mouse_event_fn(event);\n",
       "    });\n",
       "\n",
       "    canvas_div.append(canvas);\n",
       "    canvas_div.append(rubberband);\n",
       "\n",
       "    this.rubberband = rubberband;\n",
       "    this.rubberband_canvas = rubberband[0];\n",
       "    this.rubberband_context = rubberband[0].getContext(\"2d\");\n",
       "    this.rubberband_context.strokeStyle = \"#000000\";\n",
       "\n",
       "    this._resize_canvas = function(width, height) {\n",
       "        // Keep the size of the canvas, canvas container, and rubber band\n",
       "        // canvas in synch.\n",
       "        canvas_div.css('width', width)\n",
       "        canvas_div.css('height', height)\n",
       "\n",
       "        canvas.attr('width', width * mpl.ratio);\n",
       "        canvas.attr('height', height * mpl.ratio);\n",
       "        canvas.attr('style', 'width: ' + width + 'px; height: ' + height + 'px;');\n",
       "\n",
       "        rubberband.attr('width', width);\n",
       "        rubberband.attr('height', height);\n",
       "    }\n",
       "\n",
       "    // Set the figure to an initial 600x600px, this will subsequently be updated\n",
       "    // upon first draw.\n",
       "    this._resize_canvas(600, 600);\n",
       "\n",
       "    // Disable right mouse context menu.\n",
       "    $(this.rubberband_canvas).bind(\"contextmenu\",function(e){\n",
       "        return false;\n",
       "    });\n",
       "\n",
       "    function set_focus () {\n",
       "        canvas.focus();\n",
       "        canvas_div.focus();\n",
       "    }\n",
       "\n",
       "    window.setTimeout(set_focus, 100);\n",
       "}\n",
       "\n",
       "mpl.figure.prototype._init_toolbar = function() {\n",
       "    var fig = this;\n",
       "\n",
       "    var nav_element = $('<div/>')\n",
       "    nav_element.attr('style', 'width: 100%');\n",
       "    this.root.append(nav_element);\n",
       "\n",
       "    // Define a callback function for later on.\n",
       "    function toolbar_event(event) {\n",
       "        return fig.toolbar_button_onclick(event['data']);\n",
       "    }\n",
       "    function toolbar_mouse_event(event) {\n",
       "        return fig.toolbar_button_onmouseover(event['data']);\n",
       "    }\n",
       "\n",
       "    for(var toolbar_ind in mpl.toolbar_items) {\n",
       "        var name = mpl.toolbar_items[toolbar_ind][0];\n",
       "        var tooltip = mpl.toolbar_items[toolbar_ind][1];\n",
       "        var image = mpl.toolbar_items[toolbar_ind][2];\n",
       "        var method_name = mpl.toolbar_items[toolbar_ind][3];\n",
       "\n",
       "        if (!name) {\n",
       "            // put a spacer in here.\n",
       "            continue;\n",
       "        }\n",
       "        var button = $('<button/>');\n",
       "        button.addClass('ui-button ui-widget ui-state-default ui-corner-all ' +\n",
       "                        'ui-button-icon-only');\n",
       "        button.attr('role', 'button');\n",
       "        button.attr('aria-disabled', 'false');\n",
       "        button.click(method_name, toolbar_event);\n",
       "        button.mouseover(tooltip, toolbar_mouse_event);\n",
       "\n",
       "        var icon_img = $('<span/>');\n",
       "        icon_img.addClass('ui-button-icon-primary ui-icon');\n",
       "        icon_img.addClass(image);\n",
       "        icon_img.addClass('ui-corner-all');\n",
       "\n",
       "        var tooltip_span = $('<span/>');\n",
       "        tooltip_span.addClass('ui-button-text');\n",
       "        tooltip_span.html(tooltip);\n",
       "\n",
       "        button.append(icon_img);\n",
       "        button.append(tooltip_span);\n",
       "\n",
       "        nav_element.append(button);\n",
       "    }\n",
       "\n",
       "    var fmt_picker_span = $('<span/>');\n",
       "\n",
       "    var fmt_picker = $('<select/>');\n",
       "    fmt_picker.addClass('mpl-toolbar-option ui-widget ui-widget-content');\n",
       "    fmt_picker_span.append(fmt_picker);\n",
       "    nav_element.append(fmt_picker_span);\n",
       "    this.format_dropdown = fmt_picker[0];\n",
       "\n",
       "    for (var ind in mpl.extensions) {\n",
       "        var fmt = mpl.extensions[ind];\n",
       "        var option = $(\n",
       "            '<option/>', {selected: fmt === mpl.default_extension}).html(fmt);\n",
       "        fmt_picker.append(option)\n",
       "    }\n",
       "\n",
       "    // Add hover states to the ui-buttons\n",
       "    $( \".ui-button\" ).hover(\n",
       "        function() { $(this).addClass(\"ui-state-hover\");},\n",
       "        function() { $(this).removeClass(\"ui-state-hover\");}\n",
       "    );\n",
       "\n",
       "    var status_bar = $('<span class=\"mpl-message\"/>');\n",
       "    nav_element.append(status_bar);\n",
       "    this.message = status_bar[0];\n",
       "}\n",
       "\n",
       "mpl.figure.prototype.request_resize = function(x_pixels, y_pixels) {\n",
       "    // Request matplotlib to resize the figure. Matplotlib will then trigger a resize in the client,\n",
       "    // which will in turn request a refresh of the image.\n",
       "    this.send_message('resize', {'width': x_pixels, 'height': y_pixels});\n",
       "}\n",
       "\n",
       "mpl.figure.prototype.send_message = function(type, properties) {\n",
       "    properties['type'] = type;\n",
       "    properties['figure_id'] = this.id;\n",
       "    this.ws.send(JSON.stringify(properties));\n",
       "}\n",
       "\n",
       "mpl.figure.prototype.send_draw_message = function() {\n",
       "    if (!this.waiting) {\n",
       "        this.waiting = true;\n",
       "        this.ws.send(JSON.stringify({type: \"draw\", figure_id: this.id}));\n",
       "    }\n",
       "}\n",
       "\n",
       "\n",
       "mpl.figure.prototype.handle_save = function(fig, msg) {\n",
       "    var format_dropdown = fig.format_dropdown;\n",
       "    var format = format_dropdown.options[format_dropdown.selectedIndex].value;\n",
       "    fig.ondownload(fig, format);\n",
       "}\n",
       "\n",
       "\n",
       "mpl.figure.prototype.handle_resize = function(fig, msg) {\n",
       "    var size = msg['size'];\n",
       "    if (size[0] != fig.canvas.width || size[1] != fig.canvas.height) {\n",
       "        fig._resize_canvas(size[0], size[1]);\n",
       "        fig.send_message(\"refresh\", {});\n",
       "    };\n",
       "}\n",
       "\n",
       "mpl.figure.prototype.handle_rubberband = function(fig, msg) {\n",
       "    var x0 = msg['x0'] / mpl.ratio;\n",
       "    var y0 = (fig.canvas.height - msg['y0']) / mpl.ratio;\n",
       "    var x1 = msg['x1'] / mpl.ratio;\n",
       "    var y1 = (fig.canvas.height - msg['y1']) / mpl.ratio;\n",
       "    x0 = Math.floor(x0) + 0.5;\n",
       "    y0 = Math.floor(y0) + 0.5;\n",
       "    x1 = Math.floor(x1) + 0.5;\n",
       "    y1 = Math.floor(y1) + 0.5;\n",
       "    var min_x = Math.min(x0, x1);\n",
       "    var min_y = Math.min(y0, y1);\n",
       "    var width = Math.abs(x1 - x0);\n",
       "    var height = Math.abs(y1 - y0);\n",
       "\n",
       "    fig.rubberband_context.clearRect(\n",
       "        0, 0, fig.canvas.width, fig.canvas.height);\n",
       "\n",
       "    fig.rubberband_context.strokeRect(min_x, min_y, width, height);\n",
       "}\n",
       "\n",
       "mpl.figure.prototype.handle_figure_label = function(fig, msg) {\n",
       "    // Updates the figure title.\n",
       "    fig.header.textContent = msg['label'];\n",
       "}\n",
       "\n",
       "mpl.figure.prototype.handle_cursor = function(fig, msg) {\n",
       "    var cursor = msg['cursor'];\n",
       "    switch(cursor)\n",
       "    {\n",
       "    case 0:\n",
       "        cursor = 'pointer';\n",
       "        break;\n",
       "    case 1:\n",
       "        cursor = 'default';\n",
       "        break;\n",
       "    case 2:\n",
       "        cursor = 'crosshair';\n",
       "        break;\n",
       "    case 3:\n",
       "        cursor = 'move';\n",
       "        break;\n",
       "    }\n",
       "    fig.rubberband_canvas.style.cursor = cursor;\n",
       "}\n",
       "\n",
       "mpl.figure.prototype.handle_message = function(fig, msg) {\n",
       "    fig.message.textContent = msg['message'];\n",
       "}\n",
       "\n",
       "mpl.figure.prototype.handle_draw = function(fig, msg) {\n",
       "    // Request the server to send over a new figure.\n",
       "    fig.send_draw_message();\n",
       "}\n",
       "\n",
       "mpl.figure.prototype.handle_image_mode = function(fig, msg) {\n",
       "    fig.image_mode = msg['mode'];\n",
       "}\n",
       "\n",
       "mpl.figure.prototype.updated_canvas_event = function() {\n",
       "    // Called whenever the canvas gets updated.\n",
       "    this.send_message(\"ack\", {});\n",
       "}\n",
       "\n",
       "// A function to construct a web socket function for onmessage handling.\n",
       "// Called in the figure constructor.\n",
       "mpl.figure.prototype._make_on_message_function = function(fig) {\n",
       "    return function socket_on_message(evt) {\n",
       "        if (evt.data instanceof Blob) {\n",
       "            /* FIXME: We get \"Resource interpreted as Image but\n",
       "             * transferred with MIME type text/plain:\" errors on\n",
       "             * Chrome.  But how to set the MIME type?  It doesn't seem\n",
       "             * to be part of the websocket stream */\n",
       "            evt.data.type = \"image/png\";\n",
       "\n",
       "            /* Free the memory for the previous frames */\n",
       "            if (fig.imageObj.src) {\n",
       "                (window.URL || window.webkitURL).revokeObjectURL(\n",
       "                    fig.imageObj.src);\n",
       "            }\n",
       "\n",
       "            fig.imageObj.src = (window.URL || window.webkitURL).createObjectURL(\n",
       "                evt.data);\n",
       "            fig.updated_canvas_event();\n",
       "            fig.waiting = false;\n",
       "            return;\n",
       "        }\n",
       "        else if (typeof evt.data === 'string' && evt.data.slice(0, 21) == \"data:image/png;base64\") {\n",
       "            fig.imageObj.src = evt.data;\n",
       "            fig.updated_canvas_event();\n",
       "            fig.waiting = false;\n",
       "            return;\n",
       "        }\n",
       "\n",
       "        var msg = JSON.parse(evt.data);\n",
       "        var msg_type = msg['type'];\n",
       "\n",
       "        // Call the  \"handle_{type}\" callback, which takes\n",
       "        // the figure and JSON message as its only arguments.\n",
       "        try {\n",
       "            var callback = fig[\"handle_\" + msg_type];\n",
       "        } catch (e) {\n",
       "            console.log(\"No handler for the '\" + msg_type + \"' message type: \", msg);\n",
       "            return;\n",
       "        }\n",
       "\n",
       "        if (callback) {\n",
       "            try {\n",
       "                // console.log(\"Handling '\" + msg_type + \"' message: \", msg);\n",
       "                callback(fig, msg);\n",
       "            } catch (e) {\n",
       "                console.log(\"Exception inside the 'handler_\" + msg_type + \"' callback:\", e, e.stack, msg);\n",
       "            }\n",
       "        }\n",
       "    };\n",
       "}\n",
       "\n",
       "// from http://stackoverflow.com/questions/1114465/getting-mouse-location-in-canvas\n",
       "mpl.findpos = function(e) {\n",
       "    //this section is from http://www.quirksmode.org/js/events_properties.html\n",
       "    var targ;\n",
       "    if (!e)\n",
       "        e = window.event;\n",
       "    if (e.target)\n",
       "        targ = e.target;\n",
       "    else if (e.srcElement)\n",
       "        targ = e.srcElement;\n",
       "    if (targ.nodeType == 3) // defeat Safari bug\n",
       "        targ = targ.parentNode;\n",
       "\n",
       "    // jQuery normalizes the pageX and pageY\n",
       "    // pageX,Y are the mouse positions relative to the document\n",
       "    // offset() returns the position of the element relative to the document\n",
       "    var x = e.pageX - $(targ).offset().left;\n",
       "    var y = e.pageY - $(targ).offset().top;\n",
       "\n",
       "    return {\"x\": x, \"y\": y};\n",
       "};\n",
       "\n",
       "/*\n",
       " * return a copy of an object with only non-object keys\n",
       " * we need this to avoid circular references\n",
       " * http://stackoverflow.com/a/24161582/3208463\n",
       " */\n",
       "function simpleKeys (original) {\n",
       "  return Object.keys(original).reduce(function (obj, key) {\n",
       "    if (typeof original[key] !== 'object')\n",
       "        obj[key] = original[key]\n",
       "    return obj;\n",
       "  }, {});\n",
       "}\n",
       "\n",
       "mpl.figure.prototype.mouse_event = function(event, name) {\n",
       "    var canvas_pos = mpl.findpos(event)\n",
       "\n",
       "    if (name === 'button_press')\n",
       "    {\n",
       "        this.canvas.focus();\n",
       "        this.canvas_div.focus();\n",
       "    }\n",
       "\n",
       "    var x = canvas_pos.x * mpl.ratio;\n",
       "    var y = canvas_pos.y * mpl.ratio;\n",
       "\n",
       "    this.send_message(name, {x: x, y: y, button: event.button,\n",
       "                             step: event.step,\n",
       "                             guiEvent: simpleKeys(event)});\n",
       "\n",
       "    /* This prevents the web browser from automatically changing to\n",
       "     * the text insertion cursor when the button is pressed.  We want\n",
       "     * to control all of the cursor setting manually through the\n",
       "     * 'cursor' event from matplotlib */\n",
       "    event.preventDefault();\n",
       "    return false;\n",
       "}\n",
       "\n",
       "mpl.figure.prototype._key_event_extra = function(event, name) {\n",
       "    // Handle any extra behaviour associated with a key event\n",
       "}\n",
       "\n",
       "mpl.figure.prototype.key_event = function(event, name) {\n",
       "\n",
       "    // Prevent repeat events\n",
       "    if (name == 'key_press')\n",
       "    {\n",
       "        if (event.which === this._key)\n",
       "            return;\n",
       "        else\n",
       "            this._key = event.which;\n",
       "    }\n",
       "    if (name == 'key_release')\n",
       "        this._key = null;\n",
       "\n",
       "    var value = '';\n",
       "    if (event.ctrlKey && event.which != 17)\n",
       "        value += \"ctrl+\";\n",
       "    if (event.altKey && event.which != 18)\n",
       "        value += \"alt+\";\n",
       "    if (event.shiftKey && event.which != 16)\n",
       "        value += \"shift+\";\n",
       "\n",
       "    value += 'k';\n",
       "    value += event.which.toString();\n",
       "\n",
       "    this._key_event_extra(event, name);\n",
       "\n",
       "    this.send_message(name, {key: value,\n",
       "                             guiEvent: simpleKeys(event)});\n",
       "    return false;\n",
       "}\n",
       "\n",
       "mpl.figure.prototype.toolbar_button_onclick = function(name) {\n",
       "    if (name == 'download') {\n",
       "        this.handle_save(this, null);\n",
       "    } else {\n",
       "        this.send_message(\"toolbar_button\", {name: name});\n",
       "    }\n",
       "};\n",
       "\n",
       "mpl.figure.prototype.toolbar_button_onmouseover = function(tooltip) {\n",
       "    this.message.textContent = tooltip;\n",
       "};\n",
       "mpl.toolbar_items = [[\"Home\", \"Reset original view\", \"fa fa-home icon-home\", \"home\"], [\"Back\", \"Back to previous view\", \"fa fa-arrow-left icon-arrow-left\", \"back\"], [\"Forward\", \"Forward to next view\", \"fa fa-arrow-right icon-arrow-right\", \"forward\"], [\"\", \"\", \"\", \"\"], [\"Pan\", \"Pan axes with left mouse, zoom with right\", \"fa fa-arrows icon-move\", \"pan\"], [\"Zoom\", \"Zoom to rectangle\", \"fa fa-square-o icon-check-empty\", \"zoom\"], [\"\", \"\", \"\", \"\"], [\"Download\", \"Download plot\", \"fa fa-floppy-o icon-save\", \"download\"]];\n",
       "\n",
       "mpl.extensions = [\"eps\", \"jpeg\", \"pdf\", \"png\", \"ps\", \"raw\", \"svg\", \"tif\"];\n",
       "\n",
       "mpl.default_extension = \"png\";var comm_websocket_adapter = function(comm) {\n",
       "    // Create a \"websocket\"-like object which calls the given IPython comm\n",
       "    // object with the appropriate methods. Currently this is a non binary\n",
       "    // socket, so there is still some room for performance tuning.\n",
       "    var ws = {};\n",
       "\n",
       "    ws.close = function() {\n",
       "        comm.close()\n",
       "    };\n",
       "    ws.send = function(m) {\n",
       "        //console.log('sending', m);\n",
       "        comm.send(m);\n",
       "    };\n",
       "    // Register the callback with on_msg.\n",
       "    comm.on_msg(function(msg) {\n",
       "        //console.log('receiving', msg['content']['data'], msg);\n",
       "        // Pass the mpl event to the overridden (by mpl) onmessage function.\n",
       "        ws.onmessage(msg['content']['data'])\n",
       "    });\n",
       "    return ws;\n",
       "}\n",
       "\n",
       "mpl.mpl_figure_comm = function(comm, msg) {\n",
       "    // This is the function which gets called when the mpl process\n",
       "    // starts-up an IPython Comm through the \"matplotlib\" channel.\n",
       "\n",
       "    var id = msg.content.data.id;\n",
       "    // Get hold of the div created by the display call when the Comm\n",
       "    // socket was opened in Python.\n",
       "    var element = $(\"#\" + id);\n",
       "    var ws_proxy = comm_websocket_adapter(comm)\n",
       "\n",
       "    function ondownload(figure, format) {\n",
       "        window.open(figure.imageObj.src);\n",
       "    }\n",
       "\n",
       "    var fig = new mpl.figure(id, ws_proxy,\n",
       "                           ondownload,\n",
       "                           element.get(0));\n",
       "\n",
       "    // Call onopen now - mpl needs it, as it is assuming we've passed it a real\n",
       "    // web socket which is closed, not our websocket->open comm proxy.\n",
       "    ws_proxy.onopen();\n",
       "\n",
       "    fig.parent_element = element.get(0);\n",
       "    fig.cell_info = mpl.find_output_cell(\"<div id='\" + id + \"'></div>\");\n",
       "    if (!fig.cell_info) {\n",
       "        console.error(\"Failed to find cell for figure\", id, fig);\n",
       "        return;\n",
       "    }\n",
       "\n",
       "    var output_index = fig.cell_info[2]\n",
       "    var cell = fig.cell_info[0];\n",
       "\n",
       "};\n",
       "\n",
       "mpl.figure.prototype.handle_close = function(fig, msg) {\n",
       "    var width = fig.canvas.width/mpl.ratio\n",
       "    fig.root.unbind('remove')\n",
       "\n",
       "    // Update the output cell to use the data from the current canvas.\n",
       "    fig.push_to_output();\n",
       "    var dataURL = fig.canvas.toDataURL();\n",
       "    // Re-enable the keyboard manager in IPython - without this line, in FF,\n",
       "    // the notebook keyboard shortcuts fail.\n",
       "    IPython.keyboard_manager.enable()\n",
       "    $(fig.parent_element).html('<img src=\"' + dataURL + '\" width=\"' + width + '\">');\n",
       "    fig.close_ws(fig, msg);\n",
       "}\n",
       "\n",
       "mpl.figure.prototype.close_ws = function(fig, msg){\n",
       "    fig.send_message('closing', msg);\n",
       "    // fig.ws.close()\n",
       "}\n",
       "\n",
       "mpl.figure.prototype.push_to_output = function(remove_interactive) {\n",
       "    // Turn the data on the canvas into data in the output cell.\n",
       "    var width = this.canvas.width/mpl.ratio\n",
       "    var dataURL = this.canvas.toDataURL();\n",
       "    this.cell_info[1]['text/html'] = '<img src=\"' + dataURL + '\" width=\"' + width + '\">';\n",
       "}\n",
       "\n",
       "mpl.figure.prototype.updated_canvas_event = function() {\n",
       "    // Tell IPython that the notebook contents must change.\n",
       "    IPython.notebook.set_dirty(true);\n",
       "    this.send_message(\"ack\", {});\n",
       "    var fig = this;\n",
       "    // Wait a second, then push the new image to the DOM so\n",
       "    // that it is saved nicely (might be nice to debounce this).\n",
       "    setTimeout(function () { fig.push_to_output() }, 1000);\n",
       "}\n",
       "\n",
       "mpl.figure.prototype._init_toolbar = function() {\n",
       "    var fig = this;\n",
       "\n",
       "    var nav_element = $('<div/>')\n",
       "    nav_element.attr('style', 'width: 100%');\n",
       "    this.root.append(nav_element);\n",
       "\n",
       "    // Define a callback function for later on.\n",
       "    function toolbar_event(event) {\n",
       "        return fig.toolbar_button_onclick(event['data']);\n",
       "    }\n",
       "    function toolbar_mouse_event(event) {\n",
       "        return fig.toolbar_button_onmouseover(event['data']);\n",
       "    }\n",
       "\n",
       "    for(var toolbar_ind in mpl.toolbar_items){\n",
       "        var name = mpl.toolbar_items[toolbar_ind][0];\n",
       "        var tooltip = mpl.toolbar_items[toolbar_ind][1];\n",
       "        var image = mpl.toolbar_items[toolbar_ind][2];\n",
       "        var method_name = mpl.toolbar_items[toolbar_ind][3];\n",
       "\n",
       "        if (!name) { continue; };\n",
       "\n",
       "        var button = $('<button class=\"btn btn-default\" href=\"#\" title=\"' + name + '\"><i class=\"fa ' + image + ' fa-lg\"></i></button>');\n",
       "        button.click(method_name, toolbar_event);\n",
       "        button.mouseover(tooltip, toolbar_mouse_event);\n",
       "        nav_element.append(button);\n",
       "    }\n",
       "\n",
       "    // Add the status bar.\n",
       "    var status_bar = $('<span class=\"mpl-message\" style=\"text-align:right; float: right;\"/>');\n",
       "    nav_element.append(status_bar);\n",
       "    this.message = status_bar[0];\n",
       "\n",
       "    // Add the close button to the window.\n",
       "    var buttongrp = $('<div class=\"btn-group inline pull-right\"></div>');\n",
       "    var button = $('<button class=\"btn btn-mini btn-primary\" href=\"#\" title=\"Stop Interaction\"><i class=\"fa fa-power-off icon-remove icon-large\"></i></button>');\n",
       "    button.click(function (evt) { fig.handle_close(fig, {}); } );\n",
       "    button.mouseover('Stop Interaction', toolbar_mouse_event);\n",
       "    buttongrp.append(button);\n",
       "    var titlebar = this.root.find($('.ui-dialog-titlebar'));\n",
       "    titlebar.prepend(buttongrp);\n",
       "}\n",
       "\n",
       "mpl.figure.prototype._root_extra_style = function(el){\n",
       "    var fig = this\n",
       "    el.on(\"remove\", function(){\n",
       "\tfig.close_ws(fig, {});\n",
       "    });\n",
       "}\n",
       "\n",
       "mpl.figure.prototype._canvas_extra_style = function(el){\n",
       "    // this is important to make the div 'focusable\n",
       "    el.attr('tabindex', 0)\n",
       "    // reach out to IPython and tell the keyboard manager to turn it's self\n",
       "    // off when our div gets focus\n",
       "\n",
       "    // location in version 3\n",
       "    if (IPython.notebook.keyboard_manager) {\n",
       "        IPython.notebook.keyboard_manager.register_events(el);\n",
       "    }\n",
       "    else {\n",
       "        // location in version 2\n",
       "        IPython.keyboard_manager.register_events(el);\n",
       "    }\n",
       "\n",
       "}\n",
       "\n",
       "mpl.figure.prototype._key_event_extra = function(event, name) {\n",
       "    var manager = IPython.notebook.keyboard_manager;\n",
       "    if (!manager)\n",
       "        manager = IPython.keyboard_manager;\n",
       "\n",
       "    // Check for shift+enter\n",
       "    if (event.shiftKey && event.which == 13) {\n",
       "        this.canvas_div.blur();\n",
       "        event.shiftKey = false;\n",
       "        // Send a \"J\" for go to next cell\n",
       "        event.which = 74;\n",
       "        event.keyCode = 74;\n",
       "        manager.command_mode();\n",
       "        manager.handle_keydown(event);\n",
       "    }\n",
       "}\n",
       "\n",
       "mpl.figure.prototype.handle_save = function(fig, msg) {\n",
       "    fig.ondownload(fig, null);\n",
       "}\n",
       "\n",
       "\n",
       "mpl.find_output_cell = function(html_output) {\n",
       "    // Return the cell and output element which can be found *uniquely* in the notebook.\n",
       "    // Note - this is a bit hacky, but it is done because the \"notebook_saving.Notebook\"\n",
       "    // IPython event is triggered only after the cells have been serialised, which for\n",
       "    // our purposes (turning an active figure into a static one), is too late.\n",
       "    var cells = IPython.notebook.get_cells();\n",
       "    var ncells = cells.length;\n",
       "    for (var i=0; i<ncells; i++) {\n",
       "        var cell = cells[i];\n",
       "        if (cell.cell_type === 'code'){\n",
       "            for (var j=0; j<cell.output_area.outputs.length; j++) {\n",
       "                var data = cell.output_area.outputs[j];\n",
       "                if (data.data) {\n",
       "                    // IPython >= 3 moved mimebundle to data attribute of output\n",
       "                    data = data.data;\n",
       "                }\n",
       "                if (data['text/html'] == html_output) {\n",
       "                    return [cell, data, j];\n",
       "                }\n",
       "            }\n",
       "        }\n",
       "    }\n",
       "}\n",
       "\n",
       "// Register the function which deals with the matplotlib target/channel.\n",
       "// The kernel may be null if the page has been refreshed.\n",
       "if (IPython.notebook.kernel != null) {\n",
       "    IPython.notebook.kernel.comm_manager.register_target('matplotlib', mpl.mpl_figure_comm);\n",
       "}\n"
      ],
      "text/plain": [
       "<IPython.core.display.Javascript object>"
      ]
     },
     "metadata": {},
     "output_type": "display_data"
    },
    {
     "data": {
      "text/html": [
       "<img src=\"data:image/png;base64,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\" width=\"640\">"
      ],
      "text/plain": [
       "<IPython.core.display.HTML object>"
      ]
     },
     "metadata": {},
     "output_type": "display_data"
    }
   ],
   "source": [
    "tab = tabulky[0]\n",
    "\n",
    "plt.figure(\"F míra vs n_est\")\n",
    "plt.plot(tab[\"n_estim\"], tab[\"F míra průměrná\"])\n",
    "plt.scatter(tab[\"n_estim\"], tab[\"F míra průměrná\"])\n",
    "plt.xlabel(\"Number of estimators\")\n",
    "plt.ylabel(\"F míra průměrná\")\n",
    "plt.grid(True)\n",
    "plt.show()"
   ]
  },
  {
   "cell_type": "code",
   "execution_count": 46,
   "metadata": {
    "collapsed": true
   },
   "outputs": [
    {
     "name": "stderr",
     "output_type": "stream",
     "text": [
      "[########################################################################] 100%\n"
     ]
    },
    {
     "name": "stdout",
     "output_type": "stream",
     "text": [
      "617\n"
     ]
    },
    {
     "name": "stderr",
     "output_type": "stream",
     "text": [
      "[########################################################################] 100%\n"
     ]
    },
    {
     "name": "stdout",
     "output_type": "stream",
     "text": [
      "1239\n"
     ]
    },
    {
     "name": "stderr",
     "output_type": "stream",
     "text": [
      "[########################################################################] 100%\n"
     ]
    },
    {
     "name": "stdout",
     "output_type": "stream",
     "text": [
      "1815\n"
     ]
    },
    {
     "name": "stderr",
     "output_type": "stream",
     "text": [
      "[########################################################################] 100%\n"
     ]
    },
    {
     "name": "stdout",
     "output_type": "stream",
     "text": [
      "2392\n"
     ]
    },
    {
     "name": "stderr",
     "output_type": "stream",
     "text": [
      "[########################################################################] 100%\n"
     ]
    },
    {
     "name": "stdout",
     "output_type": "stream",
     "text": [
      "2960\n"
     ]
    },
    {
     "name": "stderr",
     "output_type": "stream",
     "text": [
      "[########################################################################] 100%\n"
     ]
    },
    {
     "name": "stdout",
     "output_type": "stream",
     "text": [
      "3568\n"
     ]
    },
    {
     "name": "stderr",
     "output_type": "stream",
     "text": [
      "[########################################################################] 100%\n"
     ]
    },
    {
     "name": "stdout",
     "output_type": "stream",
     "text": [
      "4171\n"
     ]
    },
    {
     "name": "stderr",
     "output_type": "stream",
     "text": [
      "[########################################################################] 100%\n"
     ]
    },
    {
     "name": "stdout",
     "output_type": "stream",
     "text": [
      "4742\n"
     ]
    },
    {
     "name": "stderr",
     "output_type": "stream",
     "text": [
      "[########################################################################] 100%\n"
     ]
    },
    {
     "name": "stdout",
     "output_type": "stream",
     "text": [
      "5315\n"
     ]
    },
    {
     "name": "stderr",
     "output_type": "stream",
     "text": [
      "[########################################################################] 100%\n"
     ]
    },
    {
     "name": "stdout",
     "output_type": "stream",
     "text": [
      "5879\n",
      "5879\n"
     ]
    }
   ],
   "source": [
    "tabulky = CrossVal(model = RandomForestClassifier(criterion=\"entropy\", max_depth=5), \n",
    "                   estimator_list=np.linspace(5,250,50,dtype=int).tolist(), \n",
    "                   train_data=train, \n",
    "                   test_data=test, \n",
    "                   kombinace=\"all\", \n",
    "                   params = [[4, 6], [8, 10], [12, 14, 16], range(5,17)],\n",
    "                   model_nm=\"RandomForest_1\", \n",
    "                   dataset_nm=\"first\")"
   ]
  },
  {
   "cell_type": "code",
   "execution_count": 51,
   "metadata": {},
   "outputs": [
    {
     "data": {
      "application/javascript": [
       "/* Put everything inside the global mpl namespace */\n",
       "window.mpl = {};\n",
       "\n",
       "\n",
       "mpl.get_websocket_type = function() {\n",
       "    if (typeof(WebSocket) !== 'undefined') {\n",
       "        return WebSocket;\n",
       "    } else if (typeof(MozWebSocket) !== 'undefined') {\n",
       "        return MozWebSocket;\n",
       "    } else {\n",
       "        alert('Your browser does not have WebSocket support.' +\n",
       "              'Please try Chrome, Safari or Firefox ≥ 6. ' +\n",
       "              'Firefox 4 and 5 are also supported but you ' +\n",
       "              'have to enable WebSockets in about:config.');\n",
       "    };\n",
       "}\n",
       "\n",
       "mpl.figure = function(figure_id, websocket, ondownload, parent_element) {\n",
       "    this.id = figure_id;\n",
       "\n",
       "    this.ws = websocket;\n",
       "\n",
       "    this.supports_binary = (this.ws.binaryType != undefined);\n",
       "\n",
       "    if (!this.supports_binary) {\n",
       "        var warnings = document.getElementById(\"mpl-warnings\");\n",
       "        if (warnings) {\n",
       "            warnings.style.display = 'block';\n",
       "            warnings.textContent = (\n",
       "                \"This browser does not support binary websocket messages. \" +\n",
       "                    \"Performance may be slow.\");\n",
       "        }\n",
       "    }\n",
       "\n",
       "    this.imageObj = new Image();\n",
       "\n",
       "    this.context = undefined;\n",
       "    this.message = undefined;\n",
       "    this.canvas = undefined;\n",
       "    this.rubberband_canvas = undefined;\n",
       "    this.rubberband_context = undefined;\n",
       "    this.format_dropdown = undefined;\n",
       "\n",
       "    this.image_mode = 'full';\n",
       "\n",
       "    this.root = $('<div/>');\n",
       "    this._root_extra_style(this.root)\n",
       "    this.root.attr('style', 'display: inline-block');\n",
       "\n",
       "    $(parent_element).append(this.root);\n",
       "\n",
       "    this._init_header(this);\n",
       "    this._init_canvas(this);\n",
       "    this._init_toolbar(this);\n",
       "\n",
       "    var fig = this;\n",
       "\n",
       "    this.waiting = false;\n",
       "\n",
       "    this.ws.onopen =  function () {\n",
       "            fig.send_message(\"supports_binary\", {value: fig.supports_binary});\n",
       "            fig.send_message(\"send_image_mode\", {});\n",
       "            if (mpl.ratio != 1) {\n",
       "                fig.send_message(\"set_dpi_ratio\", {'dpi_ratio': mpl.ratio});\n",
       "            }\n",
       "            fig.send_message(\"refresh\", {});\n",
       "        }\n",
       "\n",
       "    this.imageObj.onload = function() {\n",
       "            if (fig.image_mode == 'full') {\n",
       "                // Full images could contain transparency (where diff images\n",
       "                // almost always do), so we need to clear the canvas so that\n",
       "                // there is no ghosting.\n",
       "                fig.context.clearRect(0, 0, fig.canvas.width, fig.canvas.height);\n",
       "            }\n",
       "            fig.context.drawImage(fig.imageObj, 0, 0);\n",
       "        };\n",
       "\n",
       "    this.imageObj.onunload = function() {\n",
       "        fig.ws.close();\n",
       "    }\n",
       "\n",
       "    this.ws.onmessage = this._make_on_message_function(this);\n",
       "\n",
       "    this.ondownload = ondownload;\n",
       "}\n",
       "\n",
       "mpl.figure.prototype._init_header = function() {\n",
       "    var titlebar = $(\n",
       "        '<div class=\"ui-dialog-titlebar ui-widget-header ui-corner-all ' +\n",
       "        'ui-helper-clearfix\"/>');\n",
       "    var titletext = $(\n",
       "        '<div class=\"ui-dialog-title\" style=\"width: 100%; ' +\n",
       "        'text-align: center; padding: 3px;\"/>');\n",
       "    titlebar.append(titletext)\n",
       "    this.root.append(titlebar);\n",
       "    this.header = titletext[0];\n",
       "}\n",
       "\n",
       "\n",
       "\n",
       "mpl.figure.prototype._canvas_extra_style = function(canvas_div) {\n",
       "\n",
       "}\n",
       "\n",
       "\n",
       "mpl.figure.prototype._root_extra_style = function(canvas_div) {\n",
       "\n",
       "}\n",
       "\n",
       "mpl.figure.prototype._init_canvas = function() {\n",
       "    var fig = this;\n",
       "\n",
       "    var canvas_div = $('<div/>');\n",
       "\n",
       "    canvas_div.attr('style', 'position: relative; clear: both; outline: 0');\n",
       "\n",
       "    function canvas_keyboard_event(event) {\n",
       "        return fig.key_event(event, event['data']);\n",
       "    }\n",
       "\n",
       "    canvas_div.keydown('key_press', canvas_keyboard_event);\n",
       "    canvas_div.keyup('key_release', canvas_keyboard_event);\n",
       "    this.canvas_div = canvas_div\n",
       "    this._canvas_extra_style(canvas_div)\n",
       "    this.root.append(canvas_div);\n",
       "\n",
       "    var canvas = $('<canvas/>');\n",
       "    canvas.addClass('mpl-canvas');\n",
       "    canvas.attr('style', \"left: 0; top: 0; z-index: 0; outline: 0\")\n",
       "\n",
       "    this.canvas = canvas[0];\n",
       "    this.context = canvas[0].getContext(\"2d\");\n",
       "\n",
       "    var backingStore = this.context.backingStorePixelRatio ||\n",
       "\tthis.context.webkitBackingStorePixelRatio ||\n",
       "\tthis.context.mozBackingStorePixelRatio ||\n",
       "\tthis.context.msBackingStorePixelRatio ||\n",
       "\tthis.context.oBackingStorePixelRatio ||\n",
       "\tthis.context.backingStorePixelRatio || 1;\n",
       "\n",
       "    mpl.ratio = (window.devicePixelRatio || 1) / backingStore;\n",
       "\n",
       "    var rubberband = $('<canvas/>');\n",
       "    rubberband.attr('style', \"position: absolute; left: 0; top: 0; z-index: 1;\")\n",
       "\n",
       "    var pass_mouse_events = true;\n",
       "\n",
       "    canvas_div.resizable({\n",
       "        start: function(event, ui) {\n",
       "            pass_mouse_events = false;\n",
       "        },\n",
       "        resize: function(event, ui) {\n",
       "            fig.request_resize(ui.size.width, ui.size.height);\n",
       "        },\n",
       "        stop: function(event, ui) {\n",
       "            pass_mouse_events = true;\n",
       "            fig.request_resize(ui.size.width, ui.size.height);\n",
       "        },\n",
       "    });\n",
       "\n",
       "    function mouse_event_fn(event) {\n",
       "        if (pass_mouse_events)\n",
       "            return fig.mouse_event(event, event['data']);\n",
       "    }\n",
       "\n",
       "    rubberband.mousedown('button_press', mouse_event_fn);\n",
       "    rubberband.mouseup('button_release', mouse_event_fn);\n",
       "    // Throttle sequential mouse events to 1 every 20ms.\n",
       "    rubberband.mousemove('motion_notify', mouse_event_fn);\n",
       "\n",
       "    rubberband.mouseenter('figure_enter', mouse_event_fn);\n",
       "    rubberband.mouseleave('figure_leave', mouse_event_fn);\n",
       "\n",
       "    canvas_div.on(\"wheel\", function (event) {\n",
       "        event = event.originalEvent;\n",
       "        event['data'] = 'scroll'\n",
       "        if (event.deltaY < 0) {\n",
       "            event.step = 1;\n",
       "        } else {\n",
       "            event.step = -1;\n",
       "        }\n",
       "        mouse_event_fn(event);\n",
       "    });\n",
       "\n",
       "    canvas_div.append(canvas);\n",
       "    canvas_div.append(rubberband);\n",
       "\n",
       "    this.rubberband = rubberband;\n",
       "    this.rubberband_canvas = rubberband[0];\n",
       "    this.rubberband_context = rubberband[0].getContext(\"2d\");\n",
       "    this.rubberband_context.strokeStyle = \"#000000\";\n",
       "\n",
       "    this._resize_canvas = function(width, height) {\n",
       "        // Keep the size of the canvas, canvas container, and rubber band\n",
       "        // canvas in synch.\n",
       "        canvas_div.css('width', width)\n",
       "        canvas_div.css('height', height)\n",
       "\n",
       "        canvas.attr('width', width * mpl.ratio);\n",
       "        canvas.attr('height', height * mpl.ratio);\n",
       "        canvas.attr('style', 'width: ' + width + 'px; height: ' + height + 'px;');\n",
       "\n",
       "        rubberband.attr('width', width);\n",
       "        rubberband.attr('height', height);\n",
       "    }\n",
       "\n",
       "    // Set the figure to an initial 600x600px, this will subsequently be updated\n",
       "    // upon first draw.\n",
       "    this._resize_canvas(600, 600);\n",
       "\n",
       "    // Disable right mouse context menu.\n",
       "    $(this.rubberband_canvas).bind(\"contextmenu\",function(e){\n",
       "        return false;\n",
       "    });\n",
       "\n",
       "    function set_focus () {\n",
       "        canvas.focus();\n",
       "        canvas_div.focus();\n",
       "    }\n",
       "\n",
       "    window.setTimeout(set_focus, 100);\n",
       "}\n",
       "\n",
       "mpl.figure.prototype._init_toolbar = function() {\n",
       "    var fig = this;\n",
       "\n",
       "    var nav_element = $('<div/>')\n",
       "    nav_element.attr('style', 'width: 100%');\n",
       "    this.root.append(nav_element);\n",
       "\n",
       "    // Define a callback function for later on.\n",
       "    function toolbar_event(event) {\n",
       "        return fig.toolbar_button_onclick(event['data']);\n",
       "    }\n",
       "    function toolbar_mouse_event(event) {\n",
       "        return fig.toolbar_button_onmouseover(event['data']);\n",
       "    }\n",
       "\n",
       "    for(var toolbar_ind in mpl.toolbar_items) {\n",
       "        var name = mpl.toolbar_items[toolbar_ind][0];\n",
       "        var tooltip = mpl.toolbar_items[toolbar_ind][1];\n",
       "        var image = mpl.toolbar_items[toolbar_ind][2];\n",
       "        var method_name = mpl.toolbar_items[toolbar_ind][3];\n",
       "\n",
       "        if (!name) {\n",
       "            // put a spacer in here.\n",
       "            continue;\n",
       "        }\n",
       "        var button = $('<button/>');\n",
       "        button.addClass('ui-button ui-widget ui-state-default ui-corner-all ' +\n",
       "                        'ui-button-icon-only');\n",
       "        button.attr('role', 'button');\n",
       "        button.attr('aria-disabled', 'false');\n",
       "        button.click(method_name, toolbar_event);\n",
       "        button.mouseover(tooltip, toolbar_mouse_event);\n",
       "\n",
       "        var icon_img = $('<span/>');\n",
       "        icon_img.addClass('ui-button-icon-primary ui-icon');\n",
       "        icon_img.addClass(image);\n",
       "        icon_img.addClass('ui-corner-all');\n",
       "\n",
       "        var tooltip_span = $('<span/>');\n",
       "        tooltip_span.addClass('ui-button-text');\n",
       "        tooltip_span.html(tooltip);\n",
       "\n",
       "        button.append(icon_img);\n",
       "        button.append(tooltip_span);\n",
       "\n",
       "        nav_element.append(button);\n",
       "    }\n",
       "\n",
       "    var fmt_picker_span = $('<span/>');\n",
       "\n",
       "    var fmt_picker = $('<select/>');\n",
       "    fmt_picker.addClass('mpl-toolbar-option ui-widget ui-widget-content');\n",
       "    fmt_picker_span.append(fmt_picker);\n",
       "    nav_element.append(fmt_picker_span);\n",
       "    this.format_dropdown = fmt_picker[0];\n",
       "\n",
       "    for (var ind in mpl.extensions) {\n",
       "        var fmt = mpl.extensions[ind];\n",
       "        var option = $(\n",
       "            '<option/>', {selected: fmt === mpl.default_extension}).html(fmt);\n",
       "        fmt_picker.append(option)\n",
       "    }\n",
       "\n",
       "    // Add hover states to the ui-buttons\n",
       "    $( \".ui-button\" ).hover(\n",
       "        function() { $(this).addClass(\"ui-state-hover\");},\n",
       "        function() { $(this).removeClass(\"ui-state-hover\");}\n",
       "    );\n",
       "\n",
       "    var status_bar = $('<span class=\"mpl-message\"/>');\n",
       "    nav_element.append(status_bar);\n",
       "    this.message = status_bar[0];\n",
       "}\n",
       "\n",
       "mpl.figure.prototype.request_resize = function(x_pixels, y_pixels) {\n",
       "    // Request matplotlib to resize the figure. Matplotlib will then trigger a resize in the client,\n",
       "    // which will in turn request a refresh of the image.\n",
       "    this.send_message('resize', {'width': x_pixels, 'height': y_pixels});\n",
       "}\n",
       "\n",
       "mpl.figure.prototype.send_message = function(type, properties) {\n",
       "    properties['type'] = type;\n",
       "    properties['figure_id'] = this.id;\n",
       "    this.ws.send(JSON.stringify(properties));\n",
       "}\n",
       "\n",
       "mpl.figure.prototype.send_draw_message = function() {\n",
       "    if (!this.waiting) {\n",
       "        this.waiting = true;\n",
       "        this.ws.send(JSON.stringify({type: \"draw\", figure_id: this.id}));\n",
       "    }\n",
       "}\n",
       "\n",
       "\n",
       "mpl.figure.prototype.handle_save = function(fig, msg) {\n",
       "    var format_dropdown = fig.format_dropdown;\n",
       "    var format = format_dropdown.options[format_dropdown.selectedIndex].value;\n",
       "    fig.ondownload(fig, format);\n",
       "}\n",
       "\n",
       "\n",
       "mpl.figure.prototype.handle_resize = function(fig, msg) {\n",
       "    var size = msg['size'];\n",
       "    if (size[0] != fig.canvas.width || size[1] != fig.canvas.height) {\n",
       "        fig._resize_canvas(size[0], size[1]);\n",
       "        fig.send_message(\"refresh\", {});\n",
       "    };\n",
       "}\n",
       "\n",
       "mpl.figure.prototype.handle_rubberband = function(fig, msg) {\n",
       "    var x0 = msg['x0'] / mpl.ratio;\n",
       "    var y0 = (fig.canvas.height - msg['y0']) / mpl.ratio;\n",
       "    var x1 = msg['x1'] / mpl.ratio;\n",
       "    var y1 = (fig.canvas.height - msg['y1']) / mpl.ratio;\n",
       "    x0 = Math.floor(x0) + 0.5;\n",
       "    y0 = Math.floor(y0) + 0.5;\n",
       "    x1 = Math.floor(x1) + 0.5;\n",
       "    y1 = Math.floor(y1) + 0.5;\n",
       "    var min_x = Math.min(x0, x1);\n",
       "    var min_y = Math.min(y0, y1);\n",
       "    var width = Math.abs(x1 - x0);\n",
       "    var height = Math.abs(y1 - y0);\n",
       "\n",
       "    fig.rubberband_context.clearRect(\n",
       "        0, 0, fig.canvas.width, fig.canvas.height);\n",
       "\n",
       "    fig.rubberband_context.strokeRect(min_x, min_y, width, height);\n",
       "}\n",
       "\n",
       "mpl.figure.prototype.handle_figure_label = function(fig, msg) {\n",
       "    // Updates the figure title.\n",
       "    fig.header.textContent = msg['label'];\n",
       "}\n",
       "\n",
       "mpl.figure.prototype.handle_cursor = function(fig, msg) {\n",
       "    var cursor = msg['cursor'];\n",
       "    switch(cursor)\n",
       "    {\n",
       "    case 0:\n",
       "        cursor = 'pointer';\n",
       "        break;\n",
       "    case 1:\n",
       "        cursor = 'default';\n",
       "        break;\n",
       "    case 2:\n",
       "        cursor = 'crosshair';\n",
       "        break;\n",
       "    case 3:\n",
       "        cursor = 'move';\n",
       "        break;\n",
       "    }\n",
       "    fig.rubberband_canvas.style.cursor = cursor;\n",
       "}\n",
       "\n",
       "mpl.figure.prototype.handle_message = function(fig, msg) {\n",
       "    fig.message.textContent = msg['message'];\n",
       "}\n",
       "\n",
       "mpl.figure.prototype.handle_draw = function(fig, msg) {\n",
       "    // Request the server to send over a new figure.\n",
       "    fig.send_draw_message();\n",
       "}\n",
       "\n",
       "mpl.figure.prototype.handle_image_mode = function(fig, msg) {\n",
       "    fig.image_mode = msg['mode'];\n",
       "}\n",
       "\n",
       "mpl.figure.prototype.updated_canvas_event = function() {\n",
       "    // Called whenever the canvas gets updated.\n",
       "    this.send_message(\"ack\", {});\n",
       "}\n",
       "\n",
       "// A function to construct a web socket function for onmessage handling.\n",
       "// Called in the figure constructor.\n",
       "mpl.figure.prototype._make_on_message_function = function(fig) {\n",
       "    return function socket_on_message(evt) {\n",
       "        if (evt.data instanceof Blob) {\n",
       "            /* FIXME: We get \"Resource interpreted as Image but\n",
       "             * transferred with MIME type text/plain:\" errors on\n",
       "             * Chrome.  But how to set the MIME type?  It doesn't seem\n",
       "             * to be part of the websocket stream */\n",
       "            evt.data.type = \"image/png\";\n",
       "\n",
       "            /* Free the memory for the previous frames */\n",
       "            if (fig.imageObj.src) {\n",
       "                (window.URL || window.webkitURL).revokeObjectURL(\n",
       "                    fig.imageObj.src);\n",
       "            }\n",
       "\n",
       "            fig.imageObj.src = (window.URL || window.webkitURL).createObjectURL(\n",
       "                evt.data);\n",
       "            fig.updated_canvas_event();\n",
       "            fig.waiting = false;\n",
       "            return;\n",
       "        }\n",
       "        else if (typeof evt.data === 'string' && evt.data.slice(0, 21) == \"data:image/png;base64\") {\n",
       "            fig.imageObj.src = evt.data;\n",
       "            fig.updated_canvas_event();\n",
       "            fig.waiting = false;\n",
       "            return;\n",
       "        }\n",
       "\n",
       "        var msg = JSON.parse(evt.data);\n",
       "        var msg_type = msg['type'];\n",
       "\n",
       "        // Call the  \"handle_{type}\" callback, which takes\n",
       "        // the figure and JSON message as its only arguments.\n",
       "        try {\n",
       "            var callback = fig[\"handle_\" + msg_type];\n",
       "        } catch (e) {\n",
       "            console.log(\"No handler for the '\" + msg_type + \"' message type: \", msg);\n",
       "            return;\n",
       "        }\n",
       "\n",
       "        if (callback) {\n",
       "            try {\n",
       "                // console.log(\"Handling '\" + msg_type + \"' message: \", msg);\n",
       "                callback(fig, msg);\n",
       "            } catch (e) {\n",
       "                console.log(\"Exception inside the 'handler_\" + msg_type + \"' callback:\", e, e.stack, msg);\n",
       "            }\n",
       "        }\n",
       "    };\n",
       "}\n",
       "\n",
       "// from http://stackoverflow.com/questions/1114465/getting-mouse-location-in-canvas\n",
       "mpl.findpos = function(e) {\n",
       "    //this section is from http://www.quirksmode.org/js/events_properties.html\n",
       "    var targ;\n",
       "    if (!e)\n",
       "        e = window.event;\n",
       "    if (e.target)\n",
       "        targ = e.target;\n",
       "    else if (e.srcElement)\n",
       "        targ = e.srcElement;\n",
       "    if (targ.nodeType == 3) // defeat Safari bug\n",
       "        targ = targ.parentNode;\n",
       "\n",
       "    // jQuery normalizes the pageX and pageY\n",
       "    // pageX,Y are the mouse positions relative to the document\n",
       "    // offset() returns the position of the element relative to the document\n",
       "    var x = e.pageX - $(targ).offset().left;\n",
       "    var y = e.pageY - $(targ).offset().top;\n",
       "\n",
       "    return {\"x\": x, \"y\": y};\n",
       "};\n",
       "\n",
       "/*\n",
       " * return a copy of an object with only non-object keys\n",
       " * we need this to avoid circular references\n",
       " * http://stackoverflow.com/a/24161582/3208463\n",
       " */\n",
       "function simpleKeys (original) {\n",
       "  return Object.keys(original).reduce(function (obj, key) {\n",
       "    if (typeof original[key] !== 'object')\n",
       "        obj[key] = original[key]\n",
       "    return obj;\n",
       "  }, {});\n",
       "}\n",
       "\n",
       "mpl.figure.prototype.mouse_event = function(event, name) {\n",
       "    var canvas_pos = mpl.findpos(event)\n",
       "\n",
       "    if (name === 'button_press')\n",
       "    {\n",
       "        this.canvas.focus();\n",
       "        this.canvas_div.focus();\n",
       "    }\n",
       "\n",
       "    var x = canvas_pos.x * mpl.ratio;\n",
       "    var y = canvas_pos.y * mpl.ratio;\n",
       "\n",
       "    this.send_message(name, {x: x, y: y, button: event.button,\n",
       "                             step: event.step,\n",
       "                             guiEvent: simpleKeys(event)});\n",
       "\n",
       "    /* This prevents the web browser from automatically changing to\n",
       "     * the text insertion cursor when the button is pressed.  We want\n",
       "     * to control all of the cursor setting manually through the\n",
       "     * 'cursor' event from matplotlib */\n",
       "    event.preventDefault();\n",
       "    return false;\n",
       "}\n",
       "\n",
       "mpl.figure.prototype._key_event_extra = function(event, name) {\n",
       "    // Handle any extra behaviour associated with a key event\n",
       "}\n",
       "\n",
       "mpl.figure.prototype.key_event = function(event, name) {\n",
       "\n",
       "    // Prevent repeat events\n",
       "    if (name == 'key_press')\n",
       "    {\n",
       "        if (event.which === this._key)\n",
       "            return;\n",
       "        else\n",
       "            this._key = event.which;\n",
       "    }\n",
       "    if (name == 'key_release')\n",
       "        this._key = null;\n",
       "\n",
       "    var value = '';\n",
       "    if (event.ctrlKey && event.which != 17)\n",
       "        value += \"ctrl+\";\n",
       "    if (event.altKey && event.which != 18)\n",
       "        value += \"alt+\";\n",
       "    if (event.shiftKey && event.which != 16)\n",
       "        value += \"shift+\";\n",
       "\n",
       "    value += 'k';\n",
       "    value += event.which.toString();\n",
       "\n",
       "    this._key_event_extra(event, name);\n",
       "\n",
       "    this.send_message(name, {key: value,\n",
       "                             guiEvent: simpleKeys(event)});\n",
       "    return false;\n",
       "}\n",
       "\n",
       "mpl.figure.prototype.toolbar_button_onclick = function(name) {\n",
       "    if (name == 'download') {\n",
       "        this.handle_save(this, null);\n",
       "    } else {\n",
       "        this.send_message(\"toolbar_button\", {name: name});\n",
       "    }\n",
       "};\n",
       "\n",
       "mpl.figure.prototype.toolbar_button_onmouseover = function(tooltip) {\n",
       "    this.message.textContent = tooltip;\n",
       "};\n",
       "mpl.toolbar_items = [[\"Home\", \"Reset original view\", \"fa fa-home icon-home\", \"home\"], [\"Back\", \"Back to previous view\", \"fa fa-arrow-left icon-arrow-left\", \"back\"], [\"Forward\", \"Forward to next view\", \"fa fa-arrow-right icon-arrow-right\", \"forward\"], [\"\", \"\", \"\", \"\"], [\"Pan\", \"Pan axes with left mouse, zoom with right\", \"fa fa-arrows icon-move\", \"pan\"], [\"Zoom\", \"Zoom to rectangle\", \"fa fa-square-o icon-check-empty\", \"zoom\"], [\"\", \"\", \"\", \"\"], [\"Download\", \"Download plot\", \"fa fa-floppy-o icon-save\", \"download\"]];\n",
       "\n",
       "mpl.extensions = [\"eps\", \"jpeg\", \"pdf\", \"png\", \"ps\", \"raw\", \"svg\", \"tif\"];\n",
       "\n",
       "mpl.default_extension = \"png\";var comm_websocket_adapter = function(comm) {\n",
       "    // Create a \"websocket\"-like object which calls the given IPython comm\n",
       "    // object with the appropriate methods. Currently this is a non binary\n",
       "    // socket, so there is still some room for performance tuning.\n",
       "    var ws = {};\n",
       "\n",
       "    ws.close = function() {\n",
       "        comm.close()\n",
       "    };\n",
       "    ws.send = function(m) {\n",
       "        //console.log('sending', m);\n",
       "        comm.send(m);\n",
       "    };\n",
       "    // Register the callback with on_msg.\n",
       "    comm.on_msg(function(msg) {\n",
       "        //console.log('receiving', msg['content']['data'], msg);\n",
       "        // Pass the mpl event to the overridden (by mpl) onmessage function.\n",
       "        ws.onmessage(msg['content']['data'])\n",
       "    });\n",
       "    return ws;\n",
       "}\n",
       "\n",
       "mpl.mpl_figure_comm = function(comm, msg) {\n",
       "    // This is the function which gets called when the mpl process\n",
       "    // starts-up an IPython Comm through the \"matplotlib\" channel.\n",
       "\n",
       "    var id = msg.content.data.id;\n",
       "    // Get hold of the div created by the display call when the Comm\n",
       "    // socket was opened in Python.\n",
       "    var element = $(\"#\" + id);\n",
       "    var ws_proxy = comm_websocket_adapter(comm)\n",
       "\n",
       "    function ondownload(figure, format) {\n",
       "        window.open(figure.imageObj.src);\n",
       "    }\n",
       "\n",
       "    var fig = new mpl.figure(id, ws_proxy,\n",
       "                           ondownload,\n",
       "                           element.get(0));\n",
       "\n",
       "    // Call onopen now - mpl needs it, as it is assuming we've passed it a real\n",
       "    // web socket which is closed, not our websocket->open comm proxy.\n",
       "    ws_proxy.onopen();\n",
       "\n",
       "    fig.parent_element = element.get(0);\n",
       "    fig.cell_info = mpl.find_output_cell(\"<div id='\" + id + \"'></div>\");\n",
       "    if (!fig.cell_info) {\n",
       "        console.error(\"Failed to find cell for figure\", id, fig);\n",
       "        return;\n",
       "    }\n",
       "\n",
       "    var output_index = fig.cell_info[2]\n",
       "    var cell = fig.cell_info[0];\n",
       "\n",
       "};\n",
       "\n",
       "mpl.figure.prototype.handle_close = function(fig, msg) {\n",
       "    var width = fig.canvas.width/mpl.ratio\n",
       "    fig.root.unbind('remove')\n",
       "\n",
       "    // Update the output cell to use the data from the current canvas.\n",
       "    fig.push_to_output();\n",
       "    var dataURL = fig.canvas.toDataURL();\n",
       "    // Re-enable the keyboard manager in IPython - without this line, in FF,\n",
       "    // the notebook keyboard shortcuts fail.\n",
       "    IPython.keyboard_manager.enable()\n",
       "    $(fig.parent_element).html('<img src=\"' + dataURL + '\" width=\"' + width + '\">');\n",
       "    fig.close_ws(fig, msg);\n",
       "}\n",
       "\n",
       "mpl.figure.prototype.close_ws = function(fig, msg){\n",
       "    fig.send_message('closing', msg);\n",
       "    // fig.ws.close()\n",
       "}\n",
       "\n",
       "mpl.figure.prototype.push_to_output = function(remove_interactive) {\n",
       "    // Turn the data on the canvas into data in the output cell.\n",
       "    var width = this.canvas.width/mpl.ratio\n",
       "    var dataURL = this.canvas.toDataURL();\n",
       "    this.cell_info[1]['text/html'] = '<img src=\"' + dataURL + '\" width=\"' + width + '\">';\n",
       "}\n",
       "\n",
       "mpl.figure.prototype.updated_canvas_event = function() {\n",
       "    // Tell IPython that the notebook contents must change.\n",
       "    IPython.notebook.set_dirty(true);\n",
       "    this.send_message(\"ack\", {});\n",
       "    var fig = this;\n",
       "    // Wait a second, then push the new image to the DOM so\n",
       "    // that it is saved nicely (might be nice to debounce this).\n",
       "    setTimeout(function () { fig.push_to_output() }, 1000);\n",
       "}\n",
       "\n",
       "mpl.figure.prototype._init_toolbar = function() {\n",
       "    var fig = this;\n",
       "\n",
       "    var nav_element = $('<div/>')\n",
       "    nav_element.attr('style', 'width: 100%');\n",
       "    this.root.append(nav_element);\n",
       "\n",
       "    // Define a callback function for later on.\n",
       "    function toolbar_event(event) {\n",
       "        return fig.toolbar_button_onclick(event['data']);\n",
       "    }\n",
       "    function toolbar_mouse_event(event) {\n",
       "        return fig.toolbar_button_onmouseover(event['data']);\n",
       "    }\n",
       "\n",
       "    for(var toolbar_ind in mpl.toolbar_items){\n",
       "        var name = mpl.toolbar_items[toolbar_ind][0];\n",
       "        var tooltip = mpl.toolbar_items[toolbar_ind][1];\n",
       "        var image = mpl.toolbar_items[toolbar_ind][2];\n",
       "        var method_name = mpl.toolbar_items[toolbar_ind][3];\n",
       "\n",
       "        if (!name) { continue; };\n",
       "\n",
       "        var button = $('<button class=\"btn btn-default\" href=\"#\" title=\"' + name + '\"><i class=\"fa ' + image + ' fa-lg\"></i></button>');\n",
       "        button.click(method_name, toolbar_event);\n",
       "        button.mouseover(tooltip, toolbar_mouse_event);\n",
       "        nav_element.append(button);\n",
       "    }\n",
       "\n",
       "    // Add the status bar.\n",
       "    var status_bar = $('<span class=\"mpl-message\" style=\"text-align:right; float: right;\"/>');\n",
       "    nav_element.append(status_bar);\n",
       "    this.message = status_bar[0];\n",
       "\n",
       "    // Add the close button to the window.\n",
       "    var buttongrp = $('<div class=\"btn-group inline pull-right\"></div>');\n",
       "    var button = $('<button class=\"btn btn-mini btn-primary\" href=\"#\" title=\"Stop Interaction\"><i class=\"fa fa-power-off icon-remove icon-large\"></i></button>');\n",
       "    button.click(function (evt) { fig.handle_close(fig, {}); } );\n",
       "    button.mouseover('Stop Interaction', toolbar_mouse_event);\n",
       "    buttongrp.append(button);\n",
       "    var titlebar = this.root.find($('.ui-dialog-titlebar'));\n",
       "    titlebar.prepend(buttongrp);\n",
       "}\n",
       "\n",
       "mpl.figure.prototype._root_extra_style = function(el){\n",
       "    var fig = this\n",
       "    el.on(\"remove\", function(){\n",
       "\tfig.close_ws(fig, {});\n",
       "    });\n",
       "}\n",
       "\n",
       "mpl.figure.prototype._canvas_extra_style = function(el){\n",
       "    // this is important to make the div 'focusable\n",
       "    el.attr('tabindex', 0)\n",
       "    // reach out to IPython and tell the keyboard manager to turn it's self\n",
       "    // off when our div gets focus\n",
       "\n",
       "    // location in version 3\n",
       "    if (IPython.notebook.keyboard_manager) {\n",
       "        IPython.notebook.keyboard_manager.register_events(el);\n",
       "    }\n",
       "    else {\n",
       "        // location in version 2\n",
       "        IPython.keyboard_manager.register_events(el);\n",
       "    }\n",
       "\n",
       "}\n",
       "\n",
       "mpl.figure.prototype._key_event_extra = function(event, name) {\n",
       "    var manager = IPython.notebook.keyboard_manager;\n",
       "    if (!manager)\n",
       "        manager = IPython.keyboard_manager;\n",
       "\n",
       "    // Check for shift+enter\n",
       "    if (event.shiftKey && event.which == 13) {\n",
       "        this.canvas_div.blur();\n",
       "        event.shiftKey = false;\n",
       "        // Send a \"J\" for go to next cell\n",
       "        event.which = 74;\n",
       "        event.keyCode = 74;\n",
       "        manager.command_mode();\n",
       "        manager.handle_keydown(event);\n",
       "    }\n",
       "}\n",
       "\n",
       "mpl.figure.prototype.handle_save = function(fig, msg) {\n",
       "    fig.ondownload(fig, null);\n",
       "}\n",
       "\n",
       "\n",
       "mpl.find_output_cell = function(html_output) {\n",
       "    // Return the cell and output element which can be found *uniquely* in the notebook.\n",
       "    // Note - this is a bit hacky, but it is done because the \"notebook_saving.Notebook\"\n",
       "    // IPython event is triggered only after the cells have been serialised, which for\n",
       "    // our purposes (turning an active figure into a static one), is too late.\n",
       "    var cells = IPython.notebook.get_cells();\n",
       "    var ncells = cells.length;\n",
       "    for (var i=0; i<ncells; i++) {\n",
       "        var cell = cells[i];\n",
       "        if (cell.cell_type === 'code'){\n",
       "            for (var j=0; j<cell.output_area.outputs.length; j++) {\n",
       "                var data = cell.output_area.outputs[j];\n",
       "                if (data.data) {\n",
       "                    // IPython >= 3 moved mimebundle to data attribute of output\n",
       "                    data = data.data;\n",
       "                }\n",
       "                if (data['text/html'] == html_output) {\n",
       "                    return [cell, data, j];\n",
       "                }\n",
       "            }\n",
       "        }\n",
       "    }\n",
       "}\n",
       "\n",
       "// Register the function which deals with the matplotlib target/channel.\n",
       "// The kernel may be null if the page has been refreshed.\n",
       "if (IPython.notebook.kernel != null) {\n",
       "    IPython.notebook.kernel.comm_manager.register_target('matplotlib', mpl.mpl_figure_comm);\n",
       "}\n"
      ],
      "text/plain": [
       "<IPython.core.display.Javascript object>"
      ]
     },
     "metadata": {},
     "output_type": "display_data"
    },
    {
     "data": {
      "text/html": [
       "<img src=\"data:image/png;base64,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\" width=\"640\">"
      ],
      "text/plain": [
       "<IPython.core.display.HTML object>"
      ]
     },
     "metadata": {},
     "output_type": "display_data"
    }
   ],
   "source": [
    "tab = tabulky[4]\n",
    "\n",
    "plt.figure(\"F míra vs n_est 1\")\n",
    "plt.plot(tab[\"n_estim\"], tab[\"F míra průměrná\"])\n",
    "plt.scatter(tab[\"n_estim\"], tab[\"F míra průměrná\"])\n",
    "plt.xlabel(\"Number of estimators\")\n",
    "plt.ylabel(\"F míra průměrná\")\n",
    "plt.grid(True)\n",
    "plt.show()"
   ]
  },
  {
   "cell_type": "code",
   "execution_count": 52,
   "metadata": {
    "collapsed": true
   },
   "outputs": [
    {
     "name": "stderr",
     "output_type": "stream",
     "text": [
      "[########################################################################] 100%\n"
     ]
    },
    {
     "name": "stdout",
     "output_type": "stream",
     "text": [
      "703\n"
     ]
    },
    {
     "name": "stderr",
     "output_type": "stream",
     "text": [
      "[########################################################################] 100%\n"
     ]
    },
    {
     "name": "stdout",
     "output_type": "stream",
     "text": [
      "1332\n"
     ]
    },
    {
     "name": "stderr",
     "output_type": "stream",
     "text": [
      "[########################################################################] 100%\n"
     ]
    },
    {
     "name": "stdout",
     "output_type": "stream",
     "text": [
      "1973\n"
     ]
    },
    {
     "name": "stderr",
     "output_type": "stream",
     "text": [
      "[########################################################################] 100%\n"
     ]
    },
    {
     "name": "stdout",
     "output_type": "stream",
     "text": [
      "2600\n"
     ]
    },
    {
     "name": "stderr",
     "output_type": "stream",
     "text": [
      "[########################################################################] 100%\n"
     ]
    },
    {
     "name": "stdout",
     "output_type": "stream",
     "text": [
      "3215\n"
     ]
    },
    {
     "name": "stderr",
     "output_type": "stream",
     "text": [
      "[########################################################################] 100%\n"
     ]
    },
    {
     "name": "stdout",
     "output_type": "stream",
     "text": [
      "3822\n"
     ]
    },
    {
     "name": "stderr",
     "output_type": "stream",
     "text": [
      "[########################################################################] 100%\n"
     ]
    },
    {
     "name": "stdout",
     "output_type": "stream",
     "text": [
      "4446\n"
     ]
    },
    {
     "name": "stderr",
     "output_type": "stream",
     "text": [
      "[########################################################################] 100%\n"
     ]
    },
    {
     "name": "stdout",
     "output_type": "stream",
     "text": [
      "5054\n"
     ]
    },
    {
     "name": "stderr",
     "output_type": "stream",
     "text": [
      "[########################################################################] 100%\n"
     ]
    },
    {
     "name": "stdout",
     "output_type": "stream",
     "text": [
      "5685\n"
     ]
    },
    {
     "name": "stderr",
     "output_type": "stream",
     "text": [
      "[########################################################################] 100%\n"
     ]
    },
    {
     "name": "stdout",
     "output_type": "stream",
     "text": [
      "6253\n",
      "6253\n"
     ]
    }
   ],
   "source": [
    "#chci udělat více měření. jelikož random forests jsou náhodné chci spíš průměry\n",
    "tabulky_1 = CrossVal(model = RandomForestClassifier(criterion=\"entropy\", max_depth=5), \n",
    "                   estimator_list=np.linspace(5,250,50,dtype=int).tolist(), \n",
    "                   train_data=train, \n",
    "                   test_data=test, \n",
    "                   kombinace=\"all\", \n",
    "                   params = [[4, 6], [8, 10], [12, 14, 16], range(5,17)],\n",
    "                   model_nm=\"RandomForest_0\", \n",
    "                   dataset_nm=\"first\")"
   ]
  },
  {
   "cell_type": "code",
   "execution_count": 53,
   "metadata": {
    "collapsed": true
   },
   "outputs": [
    {
     "name": "stderr",
     "output_type": "stream",
     "text": [
      "[########################################################################] 100%\n"
     ]
    },
    {
     "name": "stdout",
     "output_type": "stream",
     "text": [
      "379\n"
     ]
    },
    {
     "name": "stderr",
     "output_type": "stream",
     "text": [
      "[########################################################################] 100%\n"
     ]
    },
    {
     "name": "stdout",
     "output_type": "stream",
     "text": [
      "749\n"
     ]
    },
    {
     "name": "stderr",
     "output_type": "stream",
     "text": [
      "[########################################################################] 100%\n"
     ]
    },
    {
     "name": "stdout",
     "output_type": "stream",
     "text": [
      "1145\n"
     ]
    },
    {
     "name": "stderr",
     "output_type": "stream",
     "text": [
      "[########################################################################] 100%\n"
     ]
    },
    {
     "name": "stdout",
     "output_type": "stream",
     "text": [
      "1517\n"
     ]
    },
    {
     "name": "stderr",
     "output_type": "stream",
     "text": [
      "[########################################################################] 100%\n"
     ]
    },
    {
     "name": "stdout",
     "output_type": "stream",
     "text": [
      "1879\n"
     ]
    },
    {
     "name": "stderr",
     "output_type": "stream",
     "text": [
      "[########################################################################] 100%\n"
     ]
    },
    {
     "name": "stdout",
     "output_type": "stream",
     "text": [
      "2249\n"
     ]
    },
    {
     "name": "stderr",
     "output_type": "stream",
     "text": [
      "[########################################################################] 100%\n"
     ]
    },
    {
     "name": "stdout",
     "output_type": "stream",
     "text": [
      "2625\n"
     ]
    },
    {
     "name": "stderr",
     "output_type": "stream",
     "text": [
      "[########################################################################] 100%\n"
     ]
    },
    {
     "name": "stdout",
     "output_type": "stream",
     "text": [
      "3012\n"
     ]
    },
    {
     "name": "stderr",
     "output_type": "stream",
     "text": [
      "[########################################################################] 100%\n"
     ]
    },
    {
     "name": "stdout",
     "output_type": "stream",
     "text": [
      "3383\n"
     ]
    },
    {
     "name": "stderr",
     "output_type": "stream",
     "text": [
      "[########################################################################] 100%\n"
     ]
    },
    {
     "name": "stdout",
     "output_type": "stream",
     "text": [
      "3749\n",
      "3749\n"
     ]
    }
   ],
   "source": [
    "tabulky2 = CrossVal(model = RandomForestClassifier(criterion=\"entropy\", max_depth=3), \n",
    "                   estimator_list=np.linspace(5,250,50,dtype=int).tolist(), \n",
    "                   train_data=train, \n",
    "                   test_data=test, \n",
    "                   kombinace=\"all\", \n",
    "                   params = [[4, 6], [8, 10], [12, 14, 16], range(5,17)],\n",
    "                   model_nm=\"RandomForest_0\", \n",
    "                   dataset_nm=\"first\")"
   ]
  },
  {
   "cell_type": "code",
   "execution_count": 55,
   "metadata": {
    "collapsed": true
   },
   "outputs": [
    {
     "name": "stderr",
     "output_type": "stream",
     "text": [
      "[########################################################################] 100%\n"
     ]
    },
    {
     "name": "stdout",
     "output_type": "stream",
     "text": [
      "1 . ->  376\n"
     ]
    },
    {
     "name": "stderr",
     "output_type": "stream",
     "text": [
      "[########################################################################] 100%\n"
     ]
    },
    {
     "name": "stdout",
     "output_type": "stream",
     "text": [
      "2 . ->  1542786782\n"
     ]
    },
    {
     "name": "stderr",
     "output_type": "stream",
     "text": [
      "[########################################################################] 100%\n"
     ]
    },
    {
     "name": "stdout",
     "output_type": "stream",
     "text": [
      "3 . ->  794\n"
     ]
    },
    {
     "name": "stderr",
     "output_type": "stream",
     "text": [
      "[########################################################################] 100%\n"
     ]
    },
    {
     "name": "stdout",
     "output_type": "stream",
     "text": [
      "4 . ->  1542787167\n"
     ]
    },
    {
     "name": "stderr",
     "output_type": "stream",
     "text": [
      "[########################################################################] 100%\n"
     ]
    },
    {
     "name": "stdout",
     "output_type": "stream",
     "text": [
      "5 . ->  1168\n"
     ]
    },
    {
     "name": "stderr",
     "output_type": "stream",
     "text": [
      "[########################################################################] 100%\n"
     ]
    },
    {
     "name": "stdout",
     "output_type": "stream",
     "text": [
      "6 . ->  1542787542\n"
     ]
    },
    {
     "name": "stderr",
     "output_type": "stream",
     "text": [
      "[########################################################################] 100%\n"
     ]
    },
    {
     "name": "stdout",
     "output_type": "stream",
     "text": [
      "7 . ->  1536\n"
     ]
    },
    {
     "name": "stderr",
     "output_type": "stream",
     "text": [
      "[########################################################################] 100%\n"
     ]
    },
    {
     "name": "stdout",
     "output_type": "stream",
     "text": [
      "8 . ->  1542787920\n"
     ]
    },
    {
     "name": "stderr",
     "output_type": "stream",
     "text": [
      "[########################################################################] 100%\n"
     ]
    },
    {
     "name": "stdout",
     "output_type": "stream",
     "text": [
      "9 . ->  1930\n"
     ]
    },
    {
     "name": "stderr",
     "output_type": "stream",
     "text": [
      "[########################################################################] 100%\n"
     ]
    },
    {
     "name": "stdout",
     "output_type": "stream",
     "text": [
      "10 . ->  1542788307\n",
      "3827\n"
     ]
    }
   ],
   "source": [
    "tabulky3 = CrossVal(model = RandomForestClassifier(criterion=\"entropy\", max_depth=3), \n",
    "                   estimator_list=np.linspace(5,250,50,dtype=int).tolist(), \n",
    "                   train_data=train, \n",
    "                   test_data=test, \n",
    "                   kombinace=\"all\", \n",
    "                   params = [[4, 6], [8, 10], [12, 14, 16], range(5,17)],\n",
    "                   model_nm=\"RandomForest_1\", \n",
    "                   dataset_nm=\"first\")"
   ]
  },
  {
   "cell_type": "code",
   "execution_count": 56,
   "metadata": {
    "collapsed": true
   },
   "outputs": [
    {
     "name": "stderr",
     "output_type": "stream",
     "text": [
      "[########################################################################] 100%\n"
     ]
    },
    {
     "name": "stdout",
     "output_type": "stream",
     "text": [
      "1 . ->  403\n"
     ]
    },
    {
     "name": "stderr",
     "output_type": "stream",
     "text": [
      "[########################################################################] 100%\n"
     ]
    },
    {
     "name": "stdout",
     "output_type": "stream",
     "text": [
      "2 . ->  1542796384\n"
     ]
    },
    {
     "name": "stderr",
     "output_type": "stream",
     "text": [
      "[########################################################################] 100%\n"
     ]
    },
    {
     "name": "stdout",
     "output_type": "stream",
     "text": [
      "3 . ->  793\n"
     ]
    },
    {
     "name": "stderr",
     "output_type": "stream",
     "text": [
      "[########################################################################] 100%\n"
     ]
    },
    {
     "name": "stdout",
     "output_type": "stream",
     "text": [
      "4 . ->  1542796781\n"
     ]
    },
    {
     "name": "stderr",
     "output_type": "stream",
     "text": [
      "[########################################################################] 100%\n"
     ]
    },
    {
     "name": "stdout",
     "output_type": "stream",
     "text": [
      "5 . ->  1183\n"
     ]
    },
    {
     "name": "stderr",
     "output_type": "stream",
     "text": [
      "[########################################################################] 100%\n"
     ]
    },
    {
     "name": "stdout",
     "output_type": "stream",
     "text": [
      "6 . ->  1542797152\n"
     ]
    },
    {
     "name": "stderr",
     "output_type": "stream",
     "text": [
      "[########################################################################] 100%\n"
     ]
    },
    {
     "name": "stdout",
     "output_type": "stream",
     "text": [
      "7 . ->  1566\n"
     ]
    },
    {
     "name": "stderr",
     "output_type": "stream",
     "text": [
      "[########################################################################] 100%\n"
     ]
    },
    {
     "name": "stdout",
     "output_type": "stream",
     "text": [
      "8 . ->  1542797531\n"
     ]
    },
    {
     "name": "stderr",
     "output_type": "stream",
     "text": [
      "[########################################################################] 100%\n"
     ]
    },
    {
     "name": "stdout",
     "output_type": "stream",
     "text": [
      "9 . ->  1943\n"
     ]
    },
    {
     "name": "stderr",
     "output_type": "stream",
     "text": [
      "[########################################################################] 100%\n"
     ]
    },
    {
     "name": "stdout",
     "output_type": "stream",
     "text": [
      "10 . ->  1542797903\n",
      "3847\n"
     ]
    }
   ],
   "source": [
    "tabulky4 = CrossVal(model = RandomForestClassifier(criterion=\"entropy\", max_depth=3), \n",
    "                   estimator_list=np.linspace(5,250,50,dtype=int).tolist(), \n",
    "                   train_data=train, \n",
    "                   test_data=test, \n",
    "                   kombinace=\"all\", \n",
    "                   params = [[4, 6], [8, 10], [12, 14, 16], range(5,17)],\n",
    "                   model_nm=\"RandomForest_2\", \n",
    "                   dataset_nm=\"first\")"
   ]
  },
  {
   "cell_type": "code",
   "execution_count": 58,
   "metadata": {
    "collapsed": true
   },
   "outputs": [
    {
     "name": "stderr",
     "output_type": "stream",
     "text": [
      "[########################################################################] 100%\n"
     ]
    },
    {
     "name": "stdout",
     "output_type": "stream",
     "text": [
      "1 . ->  395.7020673751831\n"
     ]
    },
    {
     "name": "stderr",
     "output_type": "stream",
     "text": [
      "[########################################################################] 100%\n"
     ]
    },
    {
     "name": "stdout",
     "output_type": "stream",
     "text": [
      "2 . ->  782.2091841697693\n"
     ]
    },
    {
     "name": "stderr",
     "output_type": "stream",
     "text": [
      "[########################################################################] 100%\n"
     ]
    },
    {
     "name": "stdout",
     "output_type": "stream",
     "text": [
      "3 . ->  1191.846270084381\n"
     ]
    },
    {
     "name": "stderr",
     "output_type": "stream",
     "text": [
      "[########################################################################] 100%\n"
     ]
    },
    {
     "name": "stdout",
     "output_type": "stream",
     "text": [
      "4 . ->  2176.4748842716217\n"
     ]
    },
    {
     "name": "stderr",
     "output_type": "stream",
     "text": [
      "[########################################################################] 100%\n"
     ]
    },
    {
     "name": "stdout",
     "output_type": "stream",
     "text": [
      "5 . ->  2544.866302013397\n"
     ]
    },
    {
     "name": "stderr",
     "output_type": "stream",
     "text": [
      "[########################################################################] 100%\n"
     ]
    },
    {
     "name": "stdout",
     "output_type": "stream",
     "text": [
      "6 . ->  2953.4729931354523\n"
     ]
    },
    {
     "name": "stderr",
     "output_type": "stream",
     "text": [
      "[########################################################################] 100%\n"
     ]
    },
    {
     "name": "stdout",
     "output_type": "stream",
     "text": [
      "7 . ->  3333.6073491573334\n"
     ]
    },
    {
     "name": "stderr",
     "output_type": "stream",
     "text": [
      "[########################################################################] 100%\n"
     ]
    },
    {
     "name": "stdout",
     "output_type": "stream",
     "text": [
      "8 . ->  3708.8487763404846\n"
     ]
    },
    {
     "name": "stderr",
     "output_type": "stream",
     "text": [
      "[########################################################################] 100%\n"
     ]
    },
    {
     "name": "stdout",
     "output_type": "stream",
     "text": [
      "9 . ->  4107.092791080475\n"
     ]
    },
    {
     "name": "stderr",
     "output_type": "stream",
     "text": [
      "[########################################################################] 100%\n"
     ]
    },
    {
     "name": "stdout",
     "output_type": "stream",
     "text": [
      "10 . ->  4469.324944257736\n",
      "4469\n"
     ]
    }
   ],
   "source": [
    "tabulky5 = CrossVal(model = RandomForestClassifier(criterion=\"entropy\", max_depth=3), \n",
    "                   estimator_list=np.linspace(5,250,50,dtype=int).tolist(), \n",
    "                   train_data=train, \n",
    "                   test_data=test, \n",
    "                   kombinace=\"all\", \n",
    "                   params = [[4, 6], [8, 10], [12, 14, 16], range(5,17)],\n",
    "                   model_nm=\"RandomForest_3\", \n",
    "                   dataset_nm=\"first\")"
   ]
  },
  {
   "cell_type": "code",
   "execution_count": 65,
   "metadata": {
    "collapsed": true
   },
   "outputs": [
    {
     "data": {
      "application/javascript": [
       "/* Put everything inside the global mpl namespace */\n",
       "window.mpl = {};\n",
       "\n",
       "\n",
       "mpl.get_websocket_type = function() {\n",
       "    if (typeof(WebSocket) !== 'undefined') {\n",
       "        return WebSocket;\n",
       "    } else if (typeof(MozWebSocket) !== 'undefined') {\n",
       "        return MozWebSocket;\n",
       "    } else {\n",
       "        alert('Your browser does not have WebSocket support.' +\n",
       "              'Please try Chrome, Safari or Firefox ≥ 6. ' +\n",
       "              'Firefox 4 and 5 are also supported but you ' +\n",
       "              'have to enable WebSockets in about:config.');\n",
       "    };\n",
       "}\n",
       "\n",
       "mpl.figure = function(figure_id, websocket, ondownload, parent_element) {\n",
       "    this.id = figure_id;\n",
       "\n",
       "    this.ws = websocket;\n",
       "\n",
       "    this.supports_binary = (this.ws.binaryType != undefined);\n",
       "\n",
       "    if (!this.supports_binary) {\n",
       "        var warnings = document.getElementById(\"mpl-warnings\");\n",
       "        if (warnings) {\n",
       "            warnings.style.display = 'block';\n",
       "            warnings.textContent = (\n",
       "                \"This browser does not support binary websocket messages. \" +\n",
       "                    \"Performance may be slow.\");\n",
       "        }\n",
       "    }\n",
       "\n",
       "    this.imageObj = new Image();\n",
       "\n",
       "    this.context = undefined;\n",
       "    this.message = undefined;\n",
       "    this.canvas = undefined;\n",
       "    this.rubberband_canvas = undefined;\n",
       "    this.rubberband_context = undefined;\n",
       "    this.format_dropdown = undefined;\n",
       "\n",
       "    this.image_mode = 'full';\n",
       "\n",
       "    this.root = $('<div/>');\n",
       "    this._root_extra_style(this.root)\n",
       "    this.root.attr('style', 'display: inline-block');\n",
       "\n",
       "    $(parent_element).append(this.root);\n",
       "\n",
       "    this._init_header(this);\n",
       "    this._init_canvas(this);\n",
       "    this._init_toolbar(this);\n",
       "\n",
       "    var fig = this;\n",
       "\n",
       "    this.waiting = false;\n",
       "\n",
       "    this.ws.onopen =  function () {\n",
       "            fig.send_message(\"supports_binary\", {value: fig.supports_binary});\n",
       "            fig.send_message(\"send_image_mode\", {});\n",
       "            if (mpl.ratio != 1) {\n",
       "                fig.send_message(\"set_dpi_ratio\", {'dpi_ratio': mpl.ratio});\n",
       "            }\n",
       "            fig.send_message(\"refresh\", {});\n",
       "        }\n",
       "\n",
       "    this.imageObj.onload = function() {\n",
       "            if (fig.image_mode == 'full') {\n",
       "                // Full images could contain transparency (where diff images\n",
       "                // almost always do), so we need to clear the canvas so that\n",
       "                // there is no ghosting.\n",
       "                fig.context.clearRect(0, 0, fig.canvas.width, fig.canvas.height);\n",
       "            }\n",
       "            fig.context.drawImage(fig.imageObj, 0, 0);\n",
       "        };\n",
       "\n",
       "    this.imageObj.onunload = function() {\n",
       "        fig.ws.close();\n",
       "    }\n",
       "\n",
       "    this.ws.onmessage = this._make_on_message_function(this);\n",
       "\n",
       "    this.ondownload = ondownload;\n",
       "}\n",
       "\n",
       "mpl.figure.prototype._init_header = function() {\n",
       "    var titlebar = $(\n",
       "        '<div class=\"ui-dialog-titlebar ui-widget-header ui-corner-all ' +\n",
       "        'ui-helper-clearfix\"/>');\n",
       "    var titletext = $(\n",
       "        '<div class=\"ui-dialog-title\" style=\"width: 100%; ' +\n",
       "        'text-align: center; padding: 3px;\"/>');\n",
       "    titlebar.append(titletext)\n",
       "    this.root.append(titlebar);\n",
       "    this.header = titletext[0];\n",
       "}\n",
       "\n",
       "\n",
       "\n",
       "mpl.figure.prototype._canvas_extra_style = function(canvas_div) {\n",
       "\n",
       "}\n",
       "\n",
       "\n",
       "mpl.figure.prototype._root_extra_style = function(canvas_div) {\n",
       "\n",
       "}\n",
       "\n",
       "mpl.figure.prototype._init_canvas = function() {\n",
       "    var fig = this;\n",
       "\n",
       "    var canvas_div = $('<div/>');\n",
       "\n",
       "    canvas_div.attr('style', 'position: relative; clear: both; outline: 0');\n",
       "\n",
       "    function canvas_keyboard_event(event) {\n",
       "        return fig.key_event(event, event['data']);\n",
       "    }\n",
       "\n",
       "    canvas_div.keydown('key_press', canvas_keyboard_event);\n",
       "    canvas_div.keyup('key_release', canvas_keyboard_event);\n",
       "    this.canvas_div = canvas_div\n",
       "    this._canvas_extra_style(canvas_div)\n",
       "    this.root.append(canvas_div);\n",
       "\n",
       "    var canvas = $('<canvas/>');\n",
       "    canvas.addClass('mpl-canvas');\n",
       "    canvas.attr('style', \"left: 0; top: 0; z-index: 0; outline: 0\")\n",
       "\n",
       "    this.canvas = canvas[0];\n",
       "    this.context = canvas[0].getContext(\"2d\");\n",
       "\n",
       "    var backingStore = this.context.backingStorePixelRatio ||\n",
       "\tthis.context.webkitBackingStorePixelRatio ||\n",
       "\tthis.context.mozBackingStorePixelRatio ||\n",
       "\tthis.context.msBackingStorePixelRatio ||\n",
       "\tthis.context.oBackingStorePixelRatio ||\n",
       "\tthis.context.backingStorePixelRatio || 1;\n",
       "\n",
       "    mpl.ratio = (window.devicePixelRatio || 1) / backingStore;\n",
       "\n",
       "    var rubberband = $('<canvas/>');\n",
       "    rubberband.attr('style', \"position: absolute; left: 0; top: 0; z-index: 1;\")\n",
       "\n",
       "    var pass_mouse_events = true;\n",
       "\n",
       "    canvas_div.resizable({\n",
       "        start: function(event, ui) {\n",
       "            pass_mouse_events = false;\n",
       "        },\n",
       "        resize: function(event, ui) {\n",
       "            fig.request_resize(ui.size.width, ui.size.height);\n",
       "        },\n",
       "        stop: function(event, ui) {\n",
       "            pass_mouse_events = true;\n",
       "            fig.request_resize(ui.size.width, ui.size.height);\n",
       "        },\n",
       "    });\n",
       "\n",
       "    function mouse_event_fn(event) {\n",
       "        if (pass_mouse_events)\n",
       "            return fig.mouse_event(event, event['data']);\n",
       "    }\n",
       "\n",
       "    rubberband.mousedown('button_press', mouse_event_fn);\n",
       "    rubberband.mouseup('button_release', mouse_event_fn);\n",
       "    // Throttle sequential mouse events to 1 every 20ms.\n",
       "    rubberband.mousemove('motion_notify', mouse_event_fn);\n",
       "\n",
       "    rubberband.mouseenter('figure_enter', mouse_event_fn);\n",
       "    rubberband.mouseleave('figure_leave', mouse_event_fn);\n",
       "\n",
       "    canvas_div.on(\"wheel\", function (event) {\n",
       "        event = event.originalEvent;\n",
       "        event['data'] = 'scroll'\n",
       "        if (event.deltaY < 0) {\n",
       "            event.step = 1;\n",
       "        } else {\n",
       "            event.step = -1;\n",
       "        }\n",
       "        mouse_event_fn(event);\n",
       "    });\n",
       "\n",
       "    canvas_div.append(canvas);\n",
       "    canvas_div.append(rubberband);\n",
       "\n",
       "    this.rubberband = rubberband;\n",
       "    this.rubberband_canvas = rubberband[0];\n",
       "    this.rubberband_context = rubberband[0].getContext(\"2d\");\n",
       "    this.rubberband_context.strokeStyle = \"#000000\";\n",
       "\n",
       "    this._resize_canvas = function(width, height) {\n",
       "        // Keep the size of the canvas, canvas container, and rubber band\n",
       "        // canvas in synch.\n",
       "        canvas_div.css('width', width)\n",
       "        canvas_div.css('height', height)\n",
       "\n",
       "        canvas.attr('width', width * mpl.ratio);\n",
       "        canvas.attr('height', height * mpl.ratio);\n",
       "        canvas.attr('style', 'width: ' + width + 'px; height: ' + height + 'px;');\n",
       "\n",
       "        rubberband.attr('width', width);\n",
       "        rubberband.attr('height', height);\n",
       "    }\n",
       "\n",
       "    // Set the figure to an initial 600x600px, this will subsequently be updated\n",
       "    // upon first draw.\n",
       "    this._resize_canvas(600, 600);\n",
       "\n",
       "    // Disable right mouse context menu.\n",
       "    $(this.rubberband_canvas).bind(\"contextmenu\",function(e){\n",
       "        return false;\n",
       "    });\n",
       "\n",
       "    function set_focus () {\n",
       "        canvas.focus();\n",
       "        canvas_div.focus();\n",
       "    }\n",
       "\n",
       "    window.setTimeout(set_focus, 100);\n",
       "}\n",
       "\n",
       "mpl.figure.prototype._init_toolbar = function() {\n",
       "    var fig = this;\n",
       "\n",
       "    var nav_element = $('<div/>')\n",
       "    nav_element.attr('style', 'width: 100%');\n",
       "    this.root.append(nav_element);\n",
       "\n",
       "    // Define a callback function for later on.\n",
       "    function toolbar_event(event) {\n",
       "        return fig.toolbar_button_onclick(event['data']);\n",
       "    }\n",
       "    function toolbar_mouse_event(event) {\n",
       "        return fig.toolbar_button_onmouseover(event['data']);\n",
       "    }\n",
       "\n",
       "    for(var toolbar_ind in mpl.toolbar_items) {\n",
       "        var name = mpl.toolbar_items[toolbar_ind][0];\n",
       "        var tooltip = mpl.toolbar_items[toolbar_ind][1];\n",
       "        var image = mpl.toolbar_items[toolbar_ind][2];\n",
       "        var method_name = mpl.toolbar_items[toolbar_ind][3];\n",
       "\n",
       "        if (!name) {\n",
       "            // put a spacer in here.\n",
       "            continue;\n",
       "        }\n",
       "        var button = $('<button/>');\n",
       "        button.addClass('ui-button ui-widget ui-state-default ui-corner-all ' +\n",
       "                        'ui-button-icon-only');\n",
       "        button.attr('role', 'button');\n",
       "        button.attr('aria-disabled', 'false');\n",
       "        button.click(method_name, toolbar_event);\n",
       "        button.mouseover(tooltip, toolbar_mouse_event);\n",
       "\n",
       "        var icon_img = $('<span/>');\n",
       "        icon_img.addClass('ui-button-icon-primary ui-icon');\n",
       "        icon_img.addClass(image);\n",
       "        icon_img.addClass('ui-corner-all');\n",
       "\n",
       "        var tooltip_span = $('<span/>');\n",
       "        tooltip_span.addClass('ui-button-text');\n",
       "        tooltip_span.html(tooltip);\n",
       "\n",
       "        button.append(icon_img);\n",
       "        button.append(tooltip_span);\n",
       "\n",
       "        nav_element.append(button);\n",
       "    }\n",
       "\n",
       "    var fmt_picker_span = $('<span/>');\n",
       "\n",
       "    var fmt_picker = $('<select/>');\n",
       "    fmt_picker.addClass('mpl-toolbar-option ui-widget ui-widget-content');\n",
       "    fmt_picker_span.append(fmt_picker);\n",
       "    nav_element.append(fmt_picker_span);\n",
       "    this.format_dropdown = fmt_picker[0];\n",
       "\n",
       "    for (var ind in mpl.extensions) {\n",
       "        var fmt = mpl.extensions[ind];\n",
       "        var option = $(\n",
       "            '<option/>', {selected: fmt === mpl.default_extension}).html(fmt);\n",
       "        fmt_picker.append(option)\n",
       "    }\n",
       "\n",
       "    // Add hover states to the ui-buttons\n",
       "    $( \".ui-button\" ).hover(\n",
       "        function() { $(this).addClass(\"ui-state-hover\");},\n",
       "        function() { $(this).removeClass(\"ui-state-hover\");}\n",
       "    );\n",
       "\n",
       "    var status_bar = $('<span class=\"mpl-message\"/>');\n",
       "    nav_element.append(status_bar);\n",
       "    this.message = status_bar[0];\n",
       "}\n",
       "\n",
       "mpl.figure.prototype.request_resize = function(x_pixels, y_pixels) {\n",
       "    // Request matplotlib to resize the figure. Matplotlib will then trigger a resize in the client,\n",
       "    // which will in turn request a refresh of the image.\n",
       "    this.send_message('resize', {'width': x_pixels, 'height': y_pixels});\n",
       "}\n",
       "\n",
       "mpl.figure.prototype.send_message = function(type, properties) {\n",
       "    properties['type'] = type;\n",
       "    properties['figure_id'] = this.id;\n",
       "    this.ws.send(JSON.stringify(properties));\n",
       "}\n",
       "\n",
       "mpl.figure.prototype.send_draw_message = function() {\n",
       "    if (!this.waiting) {\n",
       "        this.waiting = true;\n",
       "        this.ws.send(JSON.stringify({type: \"draw\", figure_id: this.id}));\n",
       "    }\n",
       "}\n",
       "\n",
       "\n",
       "mpl.figure.prototype.handle_save = function(fig, msg) {\n",
       "    var format_dropdown = fig.format_dropdown;\n",
       "    var format = format_dropdown.options[format_dropdown.selectedIndex].value;\n",
       "    fig.ondownload(fig, format);\n",
       "}\n",
       "\n",
       "\n",
       "mpl.figure.prototype.handle_resize = function(fig, msg) {\n",
       "    var size = msg['size'];\n",
       "    if (size[0] != fig.canvas.width || size[1] != fig.canvas.height) {\n",
       "        fig._resize_canvas(size[0], size[1]);\n",
       "        fig.send_message(\"refresh\", {});\n",
       "    };\n",
       "}\n",
       "\n",
       "mpl.figure.prototype.handle_rubberband = function(fig, msg) {\n",
       "    var x0 = msg['x0'] / mpl.ratio;\n",
       "    var y0 = (fig.canvas.height - msg['y0']) / mpl.ratio;\n",
       "    var x1 = msg['x1'] / mpl.ratio;\n",
       "    var y1 = (fig.canvas.height - msg['y1']) / mpl.ratio;\n",
       "    x0 = Math.floor(x0) + 0.5;\n",
       "    y0 = Math.floor(y0) + 0.5;\n",
       "    x1 = Math.floor(x1) + 0.5;\n",
       "    y1 = Math.floor(y1) + 0.5;\n",
       "    var min_x = Math.min(x0, x1);\n",
       "    var min_y = Math.min(y0, y1);\n",
       "    var width = Math.abs(x1 - x0);\n",
       "    var height = Math.abs(y1 - y0);\n",
       "\n",
       "    fig.rubberband_context.clearRect(\n",
       "        0, 0, fig.canvas.width, fig.canvas.height);\n",
       "\n",
       "    fig.rubberband_context.strokeRect(min_x, min_y, width, height);\n",
       "}\n",
       "\n",
       "mpl.figure.prototype.handle_figure_label = function(fig, msg) {\n",
       "    // Updates the figure title.\n",
       "    fig.header.textContent = msg['label'];\n",
       "}\n",
       "\n",
       "mpl.figure.prototype.handle_cursor = function(fig, msg) {\n",
       "    var cursor = msg['cursor'];\n",
       "    switch(cursor)\n",
       "    {\n",
       "    case 0:\n",
       "        cursor = 'pointer';\n",
       "        break;\n",
       "    case 1:\n",
       "        cursor = 'default';\n",
       "        break;\n",
       "    case 2:\n",
       "        cursor = 'crosshair';\n",
       "        break;\n",
       "    case 3:\n",
       "        cursor = 'move';\n",
       "        break;\n",
       "    }\n",
       "    fig.rubberband_canvas.style.cursor = cursor;\n",
       "}\n",
       "\n",
       "mpl.figure.prototype.handle_message = function(fig, msg) {\n",
       "    fig.message.textContent = msg['message'];\n",
       "}\n",
       "\n",
       "mpl.figure.prototype.handle_draw = function(fig, msg) {\n",
       "    // Request the server to send over a new figure.\n",
       "    fig.send_draw_message();\n",
       "}\n",
       "\n",
       "mpl.figure.prototype.handle_image_mode = function(fig, msg) {\n",
       "    fig.image_mode = msg['mode'];\n",
       "}\n",
       "\n",
       "mpl.figure.prototype.updated_canvas_event = function() {\n",
       "    // Called whenever the canvas gets updated.\n",
       "    this.send_message(\"ack\", {});\n",
       "}\n",
       "\n",
       "// A function to construct a web socket function for onmessage handling.\n",
       "// Called in the figure constructor.\n",
       "mpl.figure.prototype._make_on_message_function = function(fig) {\n",
       "    return function socket_on_message(evt) {\n",
       "        if (evt.data instanceof Blob) {\n",
       "            /* FIXME: We get \"Resource interpreted as Image but\n",
       "             * transferred with MIME type text/plain:\" errors on\n",
       "             * Chrome.  But how to set the MIME type?  It doesn't seem\n",
       "             * to be part of the websocket stream */\n",
       "            evt.data.type = \"image/png\";\n",
       "\n",
       "            /* Free the memory for the previous frames */\n",
       "            if (fig.imageObj.src) {\n",
       "                (window.URL || window.webkitURL).revokeObjectURL(\n",
       "                    fig.imageObj.src);\n",
       "            }\n",
       "\n",
       "            fig.imageObj.src = (window.URL || window.webkitURL).createObjectURL(\n",
       "                evt.data);\n",
       "            fig.updated_canvas_event();\n",
       "            fig.waiting = false;\n",
       "            return;\n",
       "        }\n",
       "        else if (typeof evt.data === 'string' && evt.data.slice(0, 21) == \"data:image/png;base64\") {\n",
       "            fig.imageObj.src = evt.data;\n",
       "            fig.updated_canvas_event();\n",
       "            fig.waiting = false;\n",
       "            return;\n",
       "        }\n",
       "\n",
       "        var msg = JSON.parse(evt.data);\n",
       "        var msg_type = msg['type'];\n",
       "\n",
       "        // Call the  \"handle_{type}\" callback, which takes\n",
       "        // the figure and JSON message as its only arguments.\n",
       "        try {\n",
       "            var callback = fig[\"handle_\" + msg_type];\n",
       "        } catch (e) {\n",
       "            console.log(\"No handler for the '\" + msg_type + \"' message type: \", msg);\n",
       "            return;\n",
       "        }\n",
       "\n",
       "        if (callback) {\n",
       "            try {\n",
       "                // console.log(\"Handling '\" + msg_type + \"' message: \", msg);\n",
       "                callback(fig, msg);\n",
       "            } catch (e) {\n",
       "                console.log(\"Exception inside the 'handler_\" + msg_type + \"' callback:\", e, e.stack, msg);\n",
       "            }\n",
       "        }\n",
       "    };\n",
       "}\n",
       "\n",
       "// from http://stackoverflow.com/questions/1114465/getting-mouse-location-in-canvas\n",
       "mpl.findpos = function(e) {\n",
       "    //this section is from http://www.quirksmode.org/js/events_properties.html\n",
       "    var targ;\n",
       "    if (!e)\n",
       "        e = window.event;\n",
       "    if (e.target)\n",
       "        targ = e.target;\n",
       "    else if (e.srcElement)\n",
       "        targ = e.srcElement;\n",
       "    if (targ.nodeType == 3) // defeat Safari bug\n",
       "        targ = targ.parentNode;\n",
       "\n",
       "    // jQuery normalizes the pageX and pageY\n",
       "    // pageX,Y are the mouse positions relative to the document\n",
       "    // offset() returns the position of the element relative to the document\n",
       "    var x = e.pageX - $(targ).offset().left;\n",
       "    var y = e.pageY - $(targ).offset().top;\n",
       "\n",
       "    return {\"x\": x, \"y\": y};\n",
       "};\n",
       "\n",
       "/*\n",
       " * return a copy of an object with only non-object keys\n",
       " * we need this to avoid circular references\n",
       " * http://stackoverflow.com/a/24161582/3208463\n",
       " */\n",
       "function simpleKeys (original) {\n",
       "  return Object.keys(original).reduce(function (obj, key) {\n",
       "    if (typeof original[key] !== 'object')\n",
       "        obj[key] = original[key]\n",
       "    return obj;\n",
       "  }, {});\n",
       "}\n",
       "\n",
       "mpl.figure.prototype.mouse_event = function(event, name) {\n",
       "    var canvas_pos = mpl.findpos(event)\n",
       "\n",
       "    if (name === 'button_press')\n",
       "    {\n",
       "        this.canvas.focus();\n",
       "        this.canvas_div.focus();\n",
       "    }\n",
       "\n",
       "    var x = canvas_pos.x * mpl.ratio;\n",
       "    var y = canvas_pos.y * mpl.ratio;\n",
       "\n",
       "    this.send_message(name, {x: x, y: y, button: event.button,\n",
       "                             step: event.step,\n",
       "                             guiEvent: simpleKeys(event)});\n",
       "\n",
       "    /* This prevents the web browser from automatically changing to\n",
       "     * the text insertion cursor when the button is pressed.  We want\n",
       "     * to control all of the cursor setting manually through the\n",
       "     * 'cursor' event from matplotlib */\n",
       "    event.preventDefault();\n",
       "    return false;\n",
       "}\n",
       "\n",
       "mpl.figure.prototype._key_event_extra = function(event, name) {\n",
       "    // Handle any extra behaviour associated with a key event\n",
       "}\n",
       "\n",
       "mpl.figure.prototype.key_event = function(event, name) {\n",
       "\n",
       "    // Prevent repeat events\n",
       "    if (name == 'key_press')\n",
       "    {\n",
       "        if (event.which === this._key)\n",
       "            return;\n",
       "        else\n",
       "            this._key = event.which;\n",
       "    }\n",
       "    if (name == 'key_release')\n",
       "        this._key = null;\n",
       "\n",
       "    var value = '';\n",
       "    if (event.ctrlKey && event.which != 17)\n",
       "        value += \"ctrl+\";\n",
       "    if (event.altKey && event.which != 18)\n",
       "        value += \"alt+\";\n",
       "    if (event.shiftKey && event.which != 16)\n",
       "        value += \"shift+\";\n",
       "\n",
       "    value += 'k';\n",
       "    value += event.which.toString();\n",
       "\n",
       "    this._key_event_extra(event, name);\n",
       "\n",
       "    this.send_message(name, {key: value,\n",
       "                             guiEvent: simpleKeys(event)});\n",
       "    return false;\n",
       "}\n",
       "\n",
       "mpl.figure.prototype.toolbar_button_onclick = function(name) {\n",
       "    if (name == 'download') {\n",
       "        this.handle_save(this, null);\n",
       "    } else {\n",
       "        this.send_message(\"toolbar_button\", {name: name});\n",
       "    }\n",
       "};\n",
       "\n",
       "mpl.figure.prototype.toolbar_button_onmouseover = function(tooltip) {\n",
       "    this.message.textContent = tooltip;\n",
       "};\n",
       "mpl.toolbar_items = [[\"Home\", \"Reset original view\", \"fa fa-home icon-home\", \"home\"], [\"Back\", \"Back to previous view\", \"fa fa-arrow-left icon-arrow-left\", \"back\"], [\"Forward\", \"Forward to next view\", \"fa fa-arrow-right icon-arrow-right\", \"forward\"], [\"\", \"\", \"\", \"\"], [\"Pan\", \"Pan axes with left mouse, zoom with right\", \"fa fa-arrows icon-move\", \"pan\"], [\"Zoom\", \"Zoom to rectangle\", \"fa fa-square-o icon-check-empty\", \"zoom\"], [\"\", \"\", \"\", \"\"], [\"Download\", \"Download plot\", \"fa fa-floppy-o icon-save\", \"download\"]];\n",
       "\n",
       "mpl.extensions = [\"eps\", \"jpeg\", \"pdf\", \"png\", \"ps\", \"raw\", \"svg\", \"tif\"];\n",
       "\n",
       "mpl.default_extension = \"png\";var comm_websocket_adapter = function(comm) {\n",
       "    // Create a \"websocket\"-like object which calls the given IPython comm\n",
       "    // object with the appropriate methods. Currently this is a non binary\n",
       "    // socket, so there is still some room for performance tuning.\n",
       "    var ws = {};\n",
       "\n",
       "    ws.close = function() {\n",
       "        comm.close()\n",
       "    };\n",
       "    ws.send = function(m) {\n",
       "        //console.log('sending', m);\n",
       "        comm.send(m);\n",
       "    };\n",
       "    // Register the callback with on_msg.\n",
       "    comm.on_msg(function(msg) {\n",
       "        //console.log('receiving', msg['content']['data'], msg);\n",
       "        // Pass the mpl event to the overridden (by mpl) onmessage function.\n",
       "        ws.onmessage(msg['content']['data'])\n",
       "    });\n",
       "    return ws;\n",
       "}\n",
       "\n",
       "mpl.mpl_figure_comm = function(comm, msg) {\n",
       "    // This is the function which gets called when the mpl process\n",
       "    // starts-up an IPython Comm through the \"matplotlib\" channel.\n",
       "\n",
       "    var id = msg.content.data.id;\n",
       "    // Get hold of the div created by the display call when the Comm\n",
       "    // socket was opened in Python.\n",
       "    var element = $(\"#\" + id);\n",
       "    var ws_proxy = comm_websocket_adapter(comm)\n",
       "\n",
       "    function ondownload(figure, format) {\n",
       "        window.open(figure.imageObj.src);\n",
       "    }\n",
       "\n",
       "    var fig = new mpl.figure(id, ws_proxy,\n",
       "                           ondownload,\n",
       "                           element.get(0));\n",
       "\n",
       "    // Call onopen now - mpl needs it, as it is assuming we've passed it a real\n",
       "    // web socket which is closed, not our websocket->open comm proxy.\n",
       "    ws_proxy.onopen();\n",
       "\n",
       "    fig.parent_element = element.get(0);\n",
       "    fig.cell_info = mpl.find_output_cell(\"<div id='\" + id + \"'></div>\");\n",
       "    if (!fig.cell_info) {\n",
       "        console.error(\"Failed to find cell for figure\", id, fig);\n",
       "        return;\n",
       "    }\n",
       "\n",
       "    var output_index = fig.cell_info[2]\n",
       "    var cell = fig.cell_info[0];\n",
       "\n",
       "};\n",
       "\n",
       "mpl.figure.prototype.handle_close = function(fig, msg) {\n",
       "    var width = fig.canvas.width/mpl.ratio\n",
       "    fig.root.unbind('remove')\n",
       "\n",
       "    // Update the output cell to use the data from the current canvas.\n",
       "    fig.push_to_output();\n",
       "    var dataURL = fig.canvas.toDataURL();\n",
       "    // Re-enable the keyboard manager in IPython - without this line, in FF,\n",
       "    // the notebook keyboard shortcuts fail.\n",
       "    IPython.keyboard_manager.enable()\n",
       "    $(fig.parent_element).html('<img src=\"' + dataURL + '\" width=\"' + width + '\">');\n",
       "    fig.close_ws(fig, msg);\n",
       "}\n",
       "\n",
       "mpl.figure.prototype.close_ws = function(fig, msg){\n",
       "    fig.send_message('closing', msg);\n",
       "    // fig.ws.close()\n",
       "}\n",
       "\n",
       "mpl.figure.prototype.push_to_output = function(remove_interactive) {\n",
       "    // Turn the data on the canvas into data in the output cell.\n",
       "    var width = this.canvas.width/mpl.ratio\n",
       "    var dataURL = this.canvas.toDataURL();\n",
       "    this.cell_info[1]['text/html'] = '<img src=\"' + dataURL + '\" width=\"' + width + '\">';\n",
       "}\n",
       "\n",
       "mpl.figure.prototype.updated_canvas_event = function() {\n",
       "    // Tell IPython that the notebook contents must change.\n",
       "    IPython.notebook.set_dirty(true);\n",
       "    this.send_message(\"ack\", {});\n",
       "    var fig = this;\n",
       "    // Wait a second, then push the new image to the DOM so\n",
       "    // that it is saved nicely (might be nice to debounce this).\n",
       "    setTimeout(function () { fig.push_to_output() }, 1000);\n",
       "}\n",
       "\n",
       "mpl.figure.prototype._init_toolbar = function() {\n",
       "    var fig = this;\n",
       "\n",
       "    var nav_element = $('<div/>')\n",
       "    nav_element.attr('style', 'width: 100%');\n",
       "    this.root.append(nav_element);\n",
       "\n",
       "    // Define a callback function for later on.\n",
       "    function toolbar_event(event) {\n",
       "        return fig.toolbar_button_onclick(event['data']);\n",
       "    }\n",
       "    function toolbar_mouse_event(event) {\n",
       "        return fig.toolbar_button_onmouseover(event['data']);\n",
       "    }\n",
       "\n",
       "    for(var toolbar_ind in mpl.toolbar_items){\n",
       "        var name = mpl.toolbar_items[toolbar_ind][0];\n",
       "        var tooltip = mpl.toolbar_items[toolbar_ind][1];\n",
       "        var image = mpl.toolbar_items[toolbar_ind][2];\n",
       "        var method_name = mpl.toolbar_items[toolbar_ind][3];\n",
       "\n",
       "        if (!name) { continue; };\n",
       "\n",
       "        var button = $('<button class=\"btn btn-default\" href=\"#\" title=\"' + name + '\"><i class=\"fa ' + image + ' fa-lg\"></i></button>');\n",
       "        button.click(method_name, toolbar_event);\n",
       "        button.mouseover(tooltip, toolbar_mouse_event);\n",
       "        nav_element.append(button);\n",
       "    }\n",
       "\n",
       "    // Add the status bar.\n",
       "    var status_bar = $('<span class=\"mpl-message\" style=\"text-align:right; float: right;\"/>');\n",
       "    nav_element.append(status_bar);\n",
       "    this.message = status_bar[0];\n",
       "\n",
       "    // Add the close button to the window.\n",
       "    var buttongrp = $('<div class=\"btn-group inline pull-right\"></div>');\n",
       "    var button = $('<button class=\"btn btn-mini btn-primary\" href=\"#\" title=\"Stop Interaction\"><i class=\"fa fa-power-off icon-remove icon-large\"></i></button>');\n",
       "    button.click(function (evt) { fig.handle_close(fig, {}); } );\n",
       "    button.mouseover('Stop Interaction', toolbar_mouse_event);\n",
       "    buttongrp.append(button);\n",
       "    var titlebar = this.root.find($('.ui-dialog-titlebar'));\n",
       "    titlebar.prepend(buttongrp);\n",
       "}\n",
       "\n",
       "mpl.figure.prototype._root_extra_style = function(el){\n",
       "    var fig = this\n",
       "    el.on(\"remove\", function(){\n",
       "\tfig.close_ws(fig, {});\n",
       "    });\n",
       "}\n",
       "\n",
       "mpl.figure.prototype._canvas_extra_style = function(el){\n",
       "    // this is important to make the div 'focusable\n",
       "    el.attr('tabindex', 0)\n",
       "    // reach out to IPython and tell the keyboard manager to turn it's self\n",
       "    // off when our div gets focus\n",
       "\n",
       "    // location in version 3\n",
       "    if (IPython.notebook.keyboard_manager) {\n",
       "        IPython.notebook.keyboard_manager.register_events(el);\n",
       "    }\n",
       "    else {\n",
       "        // location in version 2\n",
       "        IPython.keyboard_manager.register_events(el);\n",
       "    }\n",
       "\n",
       "}\n",
       "\n",
       "mpl.figure.prototype._key_event_extra = function(event, name) {\n",
       "    var manager = IPython.notebook.keyboard_manager;\n",
       "    if (!manager)\n",
       "        manager = IPython.keyboard_manager;\n",
       "\n",
       "    // Check for shift+enter\n",
       "    if (event.shiftKey && event.which == 13) {\n",
       "        this.canvas_div.blur();\n",
       "        event.shiftKey = false;\n",
       "        // Send a \"J\" for go to next cell\n",
       "        event.which = 74;\n",
       "        event.keyCode = 74;\n",
       "        manager.command_mode();\n",
       "        manager.handle_keydown(event);\n",
       "    }\n",
       "}\n",
       "\n",
       "mpl.figure.prototype.handle_save = function(fig, msg) {\n",
       "    fig.ondownload(fig, null);\n",
       "}\n",
       "\n",
       "\n",
       "mpl.find_output_cell = function(html_output) {\n",
       "    // Return the cell and output element which can be found *uniquely* in the notebook.\n",
       "    // Note - this is a bit hacky, but it is done because the \"notebook_saving.Notebook\"\n",
       "    // IPython event is triggered only after the cells have been serialised, which for\n",
       "    // our purposes (turning an active figure into a static one), is too late.\n",
       "    var cells = IPython.notebook.get_cells();\n",
       "    var ncells = cells.length;\n",
       "    for (var i=0; i<ncells; i++) {\n",
       "        var cell = cells[i];\n",
       "        if (cell.cell_type === 'code'){\n",
       "            for (var j=0; j<cell.output_area.outputs.length; j++) {\n",
       "                var data = cell.output_area.outputs[j];\n",
       "                if (data.data) {\n",
       "                    // IPython >= 3 moved mimebundle to data attribute of output\n",
       "                    data = data.data;\n",
       "                }\n",
       "                if (data['text/html'] == html_output) {\n",
       "                    return [cell, data, j];\n",
       "                }\n",
       "            }\n",
       "        }\n",
       "    }\n",
       "}\n",
       "\n",
       "// Register the function which deals with the matplotlib target/channel.\n",
       "// The kernel may be null if the page has been refreshed.\n",
       "if (IPython.notebook.kernel != null) {\n",
       "    IPython.notebook.kernel.comm_manager.register_target('matplotlib', mpl.mpl_figure_comm);\n",
       "}\n"
      ],
      "text/plain": [
       "<IPython.core.display.Javascript object>"
      ]
     },
     "metadata": {},
     "output_type": "display_data"
    },
    {
     "data": {
      "text/html": [
       "<img src=\"data:image/png;base64,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\" width=\"640\">"
      ],
      "text/plain": [
       "<IPython.core.display.HTML object>"
      ]
     },
     "metadata": {},
     "output_type": "display_data"
    }
   ],
   "source": [
    "tab = tabulky_1[1]\n",
    "\n",
    "plt.figure(\"F míra vs n_est 2\")\n",
    "plt.plot(tab[\"n_estim\"], tab[\"F míra průměrná\"])\n",
    "plt.scatter(tab[\"n_estim\"], tab[\"F míra průměrná\"])\n",
    "plt.xlabel(\"Number of estimators\")\n",
    "plt.ylabel(\"F míra průměrná\")\n",
    "plt.grid(True)\n",
    "plt.show()"
   ]
  },
  {
   "cell_type": "code",
   "execution_count": 66,
   "metadata": {
    "collapsed": true
   },
   "outputs": [
    {
     "name": "stderr",
     "output_type": "stream",
     "text": [
      "[########################################################################] 100%\n"
     ]
    },
    {
     "name": "stdout",
     "output_type": "stream",
     "text": [
      "1 . ->  627.060173034668\n"
     ]
    },
    {
     "name": "stderr",
     "output_type": "stream",
     "text": [
      "[########################################################################] 100%\n"
     ]
    },
    {
     "name": "stdout",
     "output_type": "stream",
     "text": [
      "2 . ->  1211.3342537879944\n"
     ]
    },
    {
     "name": "stderr",
     "output_type": "stream",
     "text": [
      "[########################################################################] 100%\n"
     ]
    },
    {
     "name": "stdout",
     "output_type": "stream",
     "text": [
      "3 . ->  1790.5848679542542\n"
     ]
    },
    {
     "name": "stderr",
     "output_type": "stream",
     "text": [
      "[########################################################################] 100%\n"
     ]
    },
    {
     "name": "stdout",
     "output_type": "stream",
     "text": [
      "4 . ->  2364.1497280597687\n"
     ]
    },
    {
     "name": "stderr",
     "output_type": "stream",
     "text": [
      "[########################################################################] 100%\n"
     ]
    },
    {
     "name": "stdout",
     "output_type": "stream",
     "text": [
      "5 . ->  2938.821928024292\n"
     ]
    },
    {
     "name": "stderr",
     "output_type": "stream",
     "text": [
      "[########################################################################] 100%\n"
     ]
    },
    {
     "name": "stdout",
     "output_type": "stream",
     "text": [
      "6 . ->  3545.412568807602\n"
     ]
    },
    {
     "name": "stderr",
     "output_type": "stream",
     "text": [
      "[########################################################################] 100%\n"
     ]
    },
    {
     "name": "stdout",
     "output_type": "stream",
     "text": [
      "7 . ->  4117.821240901947\n"
     ]
    },
    {
     "name": "stderr",
     "output_type": "stream",
     "text": [
      "[########################################################################] 100%\n"
     ]
    },
    {
     "name": "stdout",
     "output_type": "stream",
     "text": [
      "8 . ->  4687.431745052338\n"
     ]
    },
    {
     "name": "stderr",
     "output_type": "stream",
     "text": [
      "[########################################################################] 100%\n"
     ]
    },
    {
     "name": "stdout",
     "output_type": "stream",
     "text": [
      "9 . ->  5270.308625936508\n"
     ]
    },
    {
     "name": "stderr",
     "output_type": "stream",
     "text": [
      "[########################################################################] 100%\n"
     ]
    },
    {
     "name": "stdout",
     "output_type": "stream",
     "text": [
      "10 . ->  5877.284962177277\n",
      "5877\n"
     ]
    }
   ],
   "source": [
    "tabulky_2 = CrossVal(model = RandomForestClassifier(criterion=\"entropy\", max_depth=5), \n",
    "                   estimator_list=np.linspace(5,250,50,dtype=int).tolist(), \n",
    "                   train_data=train, \n",
    "                   test_data=test, \n",
    "                   kombinace=\"all\", \n",
    "                   params = [[4, 6], [8, 10], [12, 14, 16], range(5,17)],\n",
    "                   model_nm=\"RandomForest_2\", \n",
    "                   dataset_nm=\"first\")"
   ]
  },
  {
   "cell_type": "code",
   "execution_count": 67,
   "metadata": {
    "collapsed": true
   },
   "outputs": [
    {
     "name": "stderr",
     "output_type": "stream",
     "text": [
      "[########################################################################] 100%\n"
     ]
    },
    {
     "name": "stdout",
     "output_type": "stream",
     "text": [
      "1 . ->  624.8490579128265\n"
     ]
    },
    {
     "name": "stderr",
     "output_type": "stream",
     "text": [
      "[########################################################################] 100%\n"
     ]
    },
    {
     "name": "stdout",
     "output_type": "stream",
     "text": [
      "2 . ->  1248.0449500083923\n"
     ]
    },
    {
     "name": "stderr",
     "output_type": "stream",
     "text": [
      "[########################################################################] 100%\n"
     ]
    },
    {
     "name": "stdout",
     "output_type": "stream",
     "text": [
      "3 . ->  1827.1563019752502\n"
     ]
    },
    {
     "name": "stderr",
     "output_type": "stream",
     "text": [
      "[########################################################################] 100%\n"
     ]
    },
    {
     "name": "stdout",
     "output_type": "stream",
     "text": [
      "4 . ->  2405.314421892166\n"
     ]
    },
    {
     "name": "stderr",
     "output_type": "stream",
     "text": [
      "[########################################################################] 100%\n"
     ]
    },
    {
     "name": "stdout",
     "output_type": "stream",
     "text": [
      "5 . ->  2970.6568460464478\n"
     ]
    },
    {
     "name": "stderr",
     "output_type": "stream",
     "text": [
      "[########################################################################] 100%\n"
     ]
    },
    {
     "name": "stdout",
     "output_type": "stream",
     "text": [
      "6 . ->  3541.171417951584\n"
     ]
    },
    {
     "name": "stderr",
     "output_type": "stream",
     "text": [
      "[########################################################################] 100%\n"
     ]
    },
    {
     "name": "stdout",
     "output_type": "stream",
     "text": [
      "7 . ->  4116.988847017288\n"
     ]
    },
    {
     "name": "stderr",
     "output_type": "stream",
     "text": [
      "[########################################################################] 100%\n"
     ]
    },
    {
     "name": "stdout",
     "output_type": "stream",
     "text": [
      "8 . ->  4765.942255020142\n"
     ]
    },
    {
     "name": "stderr",
     "output_type": "stream",
     "text": [
      "[########################################################################] 100%\n"
     ]
    },
    {
     "name": "stdout",
     "output_type": "stream",
     "text": [
      "9 . ->  5398.408117055893\n"
     ]
    },
    {
     "name": "stderr",
     "output_type": "stream",
     "text": [
      "[########################################################################] 100%\n"
     ]
    },
    {
     "name": "stdout",
     "output_type": "stream",
     "text": [
      "10 . ->  5988.713121891022\n",
      "5989\n"
     ]
    }
   ],
   "source": [
    "tabulky_2 = CrossVal(model = RandomForestClassifier(criterion=\"entropy\", max_depth=5), \n",
    "                   estimator_list=np.linspace(5,250,50,dtype=int).tolist(), \n",
    "                   train_data=train, \n",
    "                   test_data=test, \n",
    "                   kombinace=\"all\", \n",
    "                   params = [[4, 6], [8, 10], [12, 14, 16], range(5,17)],\n",
    "                   model_nm=\"RandomForest_3\", \n",
    "                   dataset_nm=\"first\")"
   ]
  },
  {
   "cell_type": "code",
   "execution_count": 68,
   "metadata": {
    "collapsed": true
   },
   "outputs": [
    {
     "name": "stderr",
     "output_type": "stream",
     "text": [
      "[########################################################################] 100%\n"
     ]
    },
    {
     "name": "stdout",
     "output_type": "stream",
     "text": [
      "1 . ->  586.1022217273712\n"
     ]
    },
    {
     "name": "stderr",
     "output_type": "stream",
     "text": [
      "[########################################################################] 100%\n"
     ]
    },
    {
     "name": "stdout",
     "output_type": "stream",
     "text": [
      "2 . ->  1191.4759917259216\n"
     ]
    },
    {
     "name": "stderr",
     "output_type": "stream",
     "text": [
      "[########################################################################] 100%\n"
     ]
    },
    {
     "name": "stdout",
     "output_type": "stream",
     "text": [
      "3 . ->  1792.481496810913\n"
     ]
    },
    {
     "name": "stderr",
     "output_type": "stream",
     "text": [
      "[########################################################################] 100%\n"
     ]
    },
    {
     "name": "stdout",
     "output_type": "stream",
     "text": [
      "4 . ->  2399.8227179050446\n"
     ]
    },
    {
     "name": "stderr",
     "output_type": "stream",
     "text": [
      "[########################################################################] 100%\n"
     ]
    },
    {
     "name": "stdout",
     "output_type": "stream",
     "text": [
      "5 . ->  3979.5129017829895\n"
     ]
    },
    {
     "name": "stderr",
     "output_type": "stream",
     "text": [
      "[########################################################################] 100%\n"
     ]
    },
    {
     "name": "stdout",
     "output_type": "stream",
     "text": [
      "6 . ->  4596.296113729477\n"
     ]
    },
    {
     "name": "stderr",
     "output_type": "stream",
     "text": [
      "[########################################################################] 100%\n"
     ]
    },
    {
     "name": "stdout",
     "output_type": "stream",
     "text": [
      "7 . ->  5303.20077085495\n"
     ]
    },
    {
     "name": "stderr",
     "output_type": "stream",
     "text": [
      "[########################################################################] 100%\n"
     ]
    },
    {
     "name": "stdout",
     "output_type": "stream",
     "text": [
      "8 . ->  6009.255971670151\n"
     ]
    },
    {
     "name": "stderr",
     "output_type": "stream",
     "text": [
      "[########################################################################] 100%\n"
     ]
    },
    {
     "name": "stdout",
     "output_type": "stream",
     "text": [
      "9 . ->  6727.808557033539\n"
     ]
    },
    {
     "name": "stderr",
     "output_type": "stream",
     "text": [
      "[########################################################################] 100%\n"
     ]
    },
    {
     "name": "stdout",
     "output_type": "stream",
     "text": [
      "10 . ->  7449.856408834457\n",
      "7450\n"
     ]
    }
   ],
   "source": [
    "tabulky_4 = CrossVal(model = RandomForestClassifier(criterion=\"entropy\", max_depth=5), \n",
    "                   estimator_list=np.linspace(5,250,50,dtype=int).tolist(), \n",
    "                   train_data=train, \n",
    "                   test_data=test, \n",
    "                   kombinace=\"all\", \n",
    "                   params = [[4, 6], [8, 10], [12, 14, 16], range(5,17)],\n",
    "                   model_nm=\"RandomForest_4\", \n",
    "                   dataset_nm=\"first\")"
   ]
  },
  {
   "cell_type": "code",
   "execution_count": 69,
   "metadata": {
    "collapsed": true
   },
   "outputs": [
    {
     "name": "stderr",
     "output_type": "stream",
     "text": [
      "[########################################################################] 100%\n"
     ]
    },
    {
     "name": "stdout",
     "output_type": "stream",
     "text": [
      "1 . ->  277.37109112739563\n"
     ]
    },
    {
     "name": "stderr",
     "output_type": "stream",
     "text": [
      "[########################################################################] 100%\n"
     ]
    },
    {
     "name": "stdout",
     "output_type": "stream",
     "text": [
      "2 . ->  578.240049123764\n"
     ]
    },
    {
     "name": "stderr",
     "output_type": "stream",
     "text": [
      "[########################################################################] 100%\n"
     ]
    },
    {
     "name": "stdout",
     "output_type": "stream",
     "text": [
      "3 . ->  4584.891349077225\n"
     ]
    },
    {
     "name": "stderr",
     "output_type": "stream",
     "text": [
      "[########################################################################] 100%\n"
     ]
    },
    {
     "name": "stdout",
     "output_type": "stream",
     "text": [
      "4 . ->  4845.126101970673\n"
     ]
    },
    {
     "name": "stderr",
     "output_type": "stream",
     "text": [
      "[########################################################################] 100%\n"
     ]
    },
    {
     "name": "stdout",
     "output_type": "stream",
     "text": [
      "5 . ->  5097.54594707489\n"
     ]
    },
    {
     "name": "stderr",
     "output_type": "stream",
     "text": [
      "[########################################################################] 100%\n"
     ]
    },
    {
     "name": "stdout",
     "output_type": "stream",
     "text": [
      "6 . ->  5360.178708076477\n"
     ]
    },
    {
     "name": "stderr",
     "output_type": "stream",
     "text": [
      "[########################################################################] 100%\n"
     ]
    },
    {
     "name": "stdout",
     "output_type": "stream",
     "text": [
      "7 . ->  5610.603482246399\n"
     ]
    },
    {
     "name": "stderr",
     "output_type": "stream",
     "text": [
      "[########################################################################] 100%\n"
     ]
    },
    {
     "name": "stdout",
     "output_type": "stream",
     "text": [
      "8 . ->  5878.607471227646\n"
     ]
    },
    {
     "name": "stderr",
     "output_type": "stream",
     "text": [
      "[########################################################################] 100%\n"
     ]
    },
    {
     "name": "stdout",
     "output_type": "stream",
     "text": [
      "9 . ->  6134.27961230278\n"
     ]
    },
    {
     "name": "stderr",
     "output_type": "stream",
     "text": [
      "[########################################################################] 100%\n"
     ]
    },
    {
     "name": "stdout",
     "output_type": "stream",
     "text": [
      "10 . ->  6395.564925193787\n",
      "6396\n"
     ]
    }
   ],
   "source": [
    "tabulky__0 = CrossVal(model = RandomForestClassifier(criterion=\"entropy\", max_depth=2), \n",
    "                   estimator_list=np.linspace(5,250,50,dtype=int).tolist(), \n",
    "                   train_data=train, \n",
    "                   test_data=test, \n",
    "                   kombinace=\"all\", \n",
    "                   params = [[4, 6], [8, 10], [12, 14, 16], range(5,17)],\n",
    "                   model_nm=\"RandomForest_0\", \n",
    "                   dataset_nm=\"first\")"
   ]
  },
  {
   "cell_type": "code",
   "execution_count": 70,
   "metadata": {
    "scrolled": false
   },
   "outputs": [
    {
     "data": {
      "application/javascript": [
       "/* Put everything inside the global mpl namespace */\n",
       "window.mpl = {};\n",
       "\n",
       "\n",
       "mpl.get_websocket_type = function() {\n",
       "    if (typeof(WebSocket) !== 'undefined') {\n",
       "        return WebSocket;\n",
       "    } else if (typeof(MozWebSocket) !== 'undefined') {\n",
       "        return MozWebSocket;\n",
       "    } else {\n",
       "        alert('Your browser does not have WebSocket support.' +\n",
       "              'Please try Chrome, Safari or Firefox ≥ 6. ' +\n",
       "              'Firefox 4 and 5 are also supported but you ' +\n",
       "              'have to enable WebSockets in about:config.');\n",
       "    };\n",
       "}\n",
       "\n",
       "mpl.figure = function(figure_id, websocket, ondownload, parent_element) {\n",
       "    this.id = figure_id;\n",
       "\n",
       "    this.ws = websocket;\n",
       "\n",
       "    this.supports_binary = (this.ws.binaryType != undefined);\n",
       "\n",
       "    if (!this.supports_binary) {\n",
       "        var warnings = document.getElementById(\"mpl-warnings\");\n",
       "        if (warnings) {\n",
       "            warnings.style.display = 'block';\n",
       "            warnings.textContent = (\n",
       "                \"This browser does not support binary websocket messages. \" +\n",
       "                    \"Performance may be slow.\");\n",
       "        }\n",
       "    }\n",
       "\n",
       "    this.imageObj = new Image();\n",
       "\n",
       "    this.context = undefined;\n",
       "    this.message = undefined;\n",
       "    this.canvas = undefined;\n",
       "    this.rubberband_canvas = undefined;\n",
       "    this.rubberband_context = undefined;\n",
       "    this.format_dropdown = undefined;\n",
       "\n",
       "    this.image_mode = 'full';\n",
       "\n",
       "    this.root = $('<div/>');\n",
       "    this._root_extra_style(this.root)\n",
       "    this.root.attr('style', 'display: inline-block');\n",
       "\n",
       "    $(parent_element).append(this.root);\n",
       "\n",
       "    this._init_header(this);\n",
       "    this._init_canvas(this);\n",
       "    this._init_toolbar(this);\n",
       "\n",
       "    var fig = this;\n",
       "\n",
       "    this.waiting = false;\n",
       "\n",
       "    this.ws.onopen =  function () {\n",
       "            fig.send_message(\"supports_binary\", {value: fig.supports_binary});\n",
       "            fig.send_message(\"send_image_mode\", {});\n",
       "            if (mpl.ratio != 1) {\n",
       "                fig.send_message(\"set_dpi_ratio\", {'dpi_ratio': mpl.ratio});\n",
       "            }\n",
       "            fig.send_message(\"refresh\", {});\n",
       "        }\n",
       "\n",
       "    this.imageObj.onload = function() {\n",
       "            if (fig.image_mode == 'full') {\n",
       "                // Full images could contain transparency (where diff images\n",
       "                // almost always do), so we need to clear the canvas so that\n",
       "                // there is no ghosting.\n",
       "                fig.context.clearRect(0, 0, fig.canvas.width, fig.canvas.height);\n",
       "            }\n",
       "            fig.context.drawImage(fig.imageObj, 0, 0);\n",
       "        };\n",
       "\n",
       "    this.imageObj.onunload = function() {\n",
       "        fig.ws.close();\n",
       "    }\n",
       "\n",
       "    this.ws.onmessage = this._make_on_message_function(this);\n",
       "\n",
       "    this.ondownload = ondownload;\n",
       "}\n",
       "\n",
       "mpl.figure.prototype._init_header = function() {\n",
       "    var titlebar = $(\n",
       "        '<div class=\"ui-dialog-titlebar ui-widget-header ui-corner-all ' +\n",
       "        'ui-helper-clearfix\"/>');\n",
       "    var titletext = $(\n",
       "        '<div class=\"ui-dialog-title\" style=\"width: 100%; ' +\n",
       "        'text-align: center; padding: 3px;\"/>');\n",
       "    titlebar.append(titletext)\n",
       "    this.root.append(titlebar);\n",
       "    this.header = titletext[0];\n",
       "}\n",
       "\n",
       "\n",
       "\n",
       "mpl.figure.prototype._canvas_extra_style = function(canvas_div) {\n",
       "\n",
       "}\n",
       "\n",
       "\n",
       "mpl.figure.prototype._root_extra_style = function(canvas_div) {\n",
       "\n",
       "}\n",
       "\n",
       "mpl.figure.prototype._init_canvas = function() {\n",
       "    var fig = this;\n",
       "\n",
       "    var canvas_div = $('<div/>');\n",
       "\n",
       "    canvas_div.attr('style', 'position: relative; clear: both; outline: 0');\n",
       "\n",
       "    function canvas_keyboard_event(event) {\n",
       "        return fig.key_event(event, event['data']);\n",
       "    }\n",
       "\n",
       "    canvas_div.keydown('key_press', canvas_keyboard_event);\n",
       "    canvas_div.keyup('key_release', canvas_keyboard_event);\n",
       "    this.canvas_div = canvas_div\n",
       "    this._canvas_extra_style(canvas_div)\n",
       "    this.root.append(canvas_div);\n",
       "\n",
       "    var canvas = $('<canvas/>');\n",
       "    canvas.addClass('mpl-canvas');\n",
       "    canvas.attr('style', \"left: 0; top: 0; z-index: 0; outline: 0\")\n",
       "\n",
       "    this.canvas = canvas[0];\n",
       "    this.context = canvas[0].getContext(\"2d\");\n",
       "\n",
       "    var backingStore = this.context.backingStorePixelRatio ||\n",
       "\tthis.context.webkitBackingStorePixelRatio ||\n",
       "\tthis.context.mozBackingStorePixelRatio ||\n",
       "\tthis.context.msBackingStorePixelRatio ||\n",
       "\tthis.context.oBackingStorePixelRatio ||\n",
       "\tthis.context.backingStorePixelRatio || 1;\n",
       "\n",
       "    mpl.ratio = (window.devicePixelRatio || 1) / backingStore;\n",
       "\n",
       "    var rubberband = $('<canvas/>');\n",
       "    rubberband.attr('style', \"position: absolute; left: 0; top: 0; z-index: 1;\")\n",
       "\n",
       "    var pass_mouse_events = true;\n",
       "\n",
       "    canvas_div.resizable({\n",
       "        start: function(event, ui) {\n",
       "            pass_mouse_events = false;\n",
       "        },\n",
       "        resize: function(event, ui) {\n",
       "            fig.request_resize(ui.size.width, ui.size.height);\n",
       "        },\n",
       "        stop: function(event, ui) {\n",
       "            pass_mouse_events = true;\n",
       "            fig.request_resize(ui.size.width, ui.size.height);\n",
       "        },\n",
       "    });\n",
       "\n",
       "    function mouse_event_fn(event) {\n",
       "        if (pass_mouse_events)\n",
       "            return fig.mouse_event(event, event['data']);\n",
       "    }\n",
       "\n",
       "    rubberband.mousedown('button_press', mouse_event_fn);\n",
       "    rubberband.mouseup('button_release', mouse_event_fn);\n",
       "    // Throttle sequential mouse events to 1 every 20ms.\n",
       "    rubberband.mousemove('motion_notify', mouse_event_fn);\n",
       "\n",
       "    rubberband.mouseenter('figure_enter', mouse_event_fn);\n",
       "    rubberband.mouseleave('figure_leave', mouse_event_fn);\n",
       "\n",
       "    canvas_div.on(\"wheel\", function (event) {\n",
       "        event = event.originalEvent;\n",
       "        event['data'] = 'scroll'\n",
       "        if (event.deltaY < 0) {\n",
       "            event.step = 1;\n",
       "        } else {\n",
       "            event.step = -1;\n",
       "        }\n",
       "        mouse_event_fn(event);\n",
       "    });\n",
       "\n",
       "    canvas_div.append(canvas);\n",
       "    canvas_div.append(rubberband);\n",
       "\n",
       "    this.rubberband = rubberband;\n",
       "    this.rubberband_canvas = rubberband[0];\n",
       "    this.rubberband_context = rubberband[0].getContext(\"2d\");\n",
       "    this.rubberband_context.strokeStyle = \"#000000\";\n",
       "\n",
       "    this._resize_canvas = function(width, height) {\n",
       "        // Keep the size of the canvas, canvas container, and rubber band\n",
       "        // canvas in synch.\n",
       "        canvas_div.css('width', width)\n",
       "        canvas_div.css('height', height)\n",
       "\n",
       "        canvas.attr('width', width * mpl.ratio);\n",
       "        canvas.attr('height', height * mpl.ratio);\n",
       "        canvas.attr('style', 'width: ' + width + 'px; height: ' + height + 'px;');\n",
       "\n",
       "        rubberband.attr('width', width);\n",
       "        rubberband.attr('height', height);\n",
       "    }\n",
       "\n",
       "    // Set the figure to an initial 600x600px, this will subsequently be updated\n",
       "    // upon first draw.\n",
       "    this._resize_canvas(600, 600);\n",
       "\n",
       "    // Disable right mouse context menu.\n",
       "    $(this.rubberband_canvas).bind(\"contextmenu\",function(e){\n",
       "        return false;\n",
       "    });\n",
       "\n",
       "    function set_focus () {\n",
       "        canvas.focus();\n",
       "        canvas_div.focus();\n",
       "    }\n",
       "\n",
       "    window.setTimeout(set_focus, 100);\n",
       "}\n",
       "\n",
       "mpl.figure.prototype._init_toolbar = function() {\n",
       "    var fig = this;\n",
       "\n",
       "    var nav_element = $('<div/>')\n",
       "    nav_element.attr('style', 'width: 100%');\n",
       "    this.root.append(nav_element);\n",
       "\n",
       "    // Define a callback function for later on.\n",
       "    function toolbar_event(event) {\n",
       "        return fig.toolbar_button_onclick(event['data']);\n",
       "    }\n",
       "    function toolbar_mouse_event(event) {\n",
       "        return fig.toolbar_button_onmouseover(event['data']);\n",
       "    }\n",
       "\n",
       "    for(var toolbar_ind in mpl.toolbar_items) {\n",
       "        var name = mpl.toolbar_items[toolbar_ind][0];\n",
       "        var tooltip = mpl.toolbar_items[toolbar_ind][1];\n",
       "        var image = mpl.toolbar_items[toolbar_ind][2];\n",
       "        var method_name = mpl.toolbar_items[toolbar_ind][3];\n",
       "\n",
       "        if (!name) {\n",
       "            // put a spacer in here.\n",
       "            continue;\n",
       "        }\n",
       "        var button = $('<button/>');\n",
       "        button.addClass('ui-button ui-widget ui-state-default ui-corner-all ' +\n",
       "                        'ui-button-icon-only');\n",
       "        button.attr('role', 'button');\n",
       "        button.attr('aria-disabled', 'false');\n",
       "        button.click(method_name, toolbar_event);\n",
       "        button.mouseover(tooltip, toolbar_mouse_event);\n",
       "\n",
       "        var icon_img = $('<span/>');\n",
       "        icon_img.addClass('ui-button-icon-primary ui-icon');\n",
       "        icon_img.addClass(image);\n",
       "        icon_img.addClass('ui-corner-all');\n",
       "\n",
       "        var tooltip_span = $('<span/>');\n",
       "        tooltip_span.addClass('ui-button-text');\n",
       "        tooltip_span.html(tooltip);\n",
       "\n",
       "        button.append(icon_img);\n",
       "        button.append(tooltip_span);\n",
       "\n",
       "        nav_element.append(button);\n",
       "    }\n",
       "\n",
       "    var fmt_picker_span = $('<span/>');\n",
       "\n",
       "    var fmt_picker = $('<select/>');\n",
       "    fmt_picker.addClass('mpl-toolbar-option ui-widget ui-widget-content');\n",
       "    fmt_picker_span.append(fmt_picker);\n",
       "    nav_element.append(fmt_picker_span);\n",
       "    this.format_dropdown = fmt_picker[0];\n",
       "\n",
       "    for (var ind in mpl.extensions) {\n",
       "        var fmt = mpl.extensions[ind];\n",
       "        var option = $(\n",
       "            '<option/>', {selected: fmt === mpl.default_extension}).html(fmt);\n",
       "        fmt_picker.append(option)\n",
       "    }\n",
       "\n",
       "    // Add hover states to the ui-buttons\n",
       "    $( \".ui-button\" ).hover(\n",
       "        function() { $(this).addClass(\"ui-state-hover\");},\n",
       "        function() { $(this).removeClass(\"ui-state-hover\");}\n",
       "    );\n",
       "\n",
       "    var status_bar = $('<span class=\"mpl-message\"/>');\n",
       "    nav_element.append(status_bar);\n",
       "    this.message = status_bar[0];\n",
       "}\n",
       "\n",
       "mpl.figure.prototype.request_resize = function(x_pixels, y_pixels) {\n",
       "    // Request matplotlib to resize the figure. Matplotlib will then trigger a resize in the client,\n",
       "    // which will in turn request a refresh of the image.\n",
       "    this.send_message('resize', {'width': x_pixels, 'height': y_pixels});\n",
       "}\n",
       "\n",
       "mpl.figure.prototype.send_message = function(type, properties) {\n",
       "    properties['type'] = type;\n",
       "    properties['figure_id'] = this.id;\n",
       "    this.ws.send(JSON.stringify(properties));\n",
       "}\n",
       "\n",
       "mpl.figure.prototype.send_draw_message = function() {\n",
       "    if (!this.waiting) {\n",
       "        this.waiting = true;\n",
       "        this.ws.send(JSON.stringify({type: \"draw\", figure_id: this.id}));\n",
       "    }\n",
       "}\n",
       "\n",
       "\n",
       "mpl.figure.prototype.handle_save = function(fig, msg) {\n",
       "    var format_dropdown = fig.format_dropdown;\n",
       "    var format = format_dropdown.options[format_dropdown.selectedIndex].value;\n",
       "    fig.ondownload(fig, format);\n",
       "}\n",
       "\n",
       "\n",
       "mpl.figure.prototype.handle_resize = function(fig, msg) {\n",
       "    var size = msg['size'];\n",
       "    if (size[0] != fig.canvas.width || size[1] != fig.canvas.height) {\n",
       "        fig._resize_canvas(size[0], size[1]);\n",
       "        fig.send_message(\"refresh\", {});\n",
       "    };\n",
       "}\n",
       "\n",
       "mpl.figure.prototype.handle_rubberband = function(fig, msg) {\n",
       "    var x0 = msg['x0'] / mpl.ratio;\n",
       "    var y0 = (fig.canvas.height - msg['y0']) / mpl.ratio;\n",
       "    var x1 = msg['x1'] / mpl.ratio;\n",
       "    var y1 = (fig.canvas.height - msg['y1']) / mpl.ratio;\n",
       "    x0 = Math.floor(x0) + 0.5;\n",
       "    y0 = Math.floor(y0) + 0.5;\n",
       "    x1 = Math.floor(x1) + 0.5;\n",
       "    y1 = Math.floor(y1) + 0.5;\n",
       "    var min_x = Math.min(x0, x1);\n",
       "    var min_y = Math.min(y0, y1);\n",
       "    var width = Math.abs(x1 - x0);\n",
       "    var height = Math.abs(y1 - y0);\n",
       "\n",
       "    fig.rubberband_context.clearRect(\n",
       "        0, 0, fig.canvas.width, fig.canvas.height);\n",
       "\n",
       "    fig.rubberband_context.strokeRect(min_x, min_y, width, height);\n",
       "}\n",
       "\n",
       "mpl.figure.prototype.handle_figure_label = function(fig, msg) {\n",
       "    // Updates the figure title.\n",
       "    fig.header.textContent = msg['label'];\n",
       "}\n",
       "\n",
       "mpl.figure.prototype.handle_cursor = function(fig, msg) {\n",
       "    var cursor = msg['cursor'];\n",
       "    switch(cursor)\n",
       "    {\n",
       "    case 0:\n",
       "        cursor = 'pointer';\n",
       "        break;\n",
       "    case 1:\n",
       "        cursor = 'default';\n",
       "        break;\n",
       "    case 2:\n",
       "        cursor = 'crosshair';\n",
       "        break;\n",
       "    case 3:\n",
       "        cursor = 'move';\n",
       "        break;\n",
       "    }\n",
       "    fig.rubberband_canvas.style.cursor = cursor;\n",
       "}\n",
       "\n",
       "mpl.figure.prototype.handle_message = function(fig, msg) {\n",
       "    fig.message.textContent = msg['message'];\n",
       "}\n",
       "\n",
       "mpl.figure.prototype.handle_draw = function(fig, msg) {\n",
       "    // Request the server to send over a new figure.\n",
       "    fig.send_draw_message();\n",
       "}\n",
       "\n",
       "mpl.figure.prototype.handle_image_mode = function(fig, msg) {\n",
       "    fig.image_mode = msg['mode'];\n",
       "}\n",
       "\n",
       "mpl.figure.prototype.updated_canvas_event = function() {\n",
       "    // Called whenever the canvas gets updated.\n",
       "    this.send_message(\"ack\", {});\n",
       "}\n",
       "\n",
       "// A function to construct a web socket function for onmessage handling.\n",
       "// Called in the figure constructor.\n",
       "mpl.figure.prototype._make_on_message_function = function(fig) {\n",
       "    return function socket_on_message(evt) {\n",
       "        if (evt.data instanceof Blob) {\n",
       "            /* FIXME: We get \"Resource interpreted as Image but\n",
       "             * transferred with MIME type text/plain:\" errors on\n",
       "             * Chrome.  But how to set the MIME type?  It doesn't seem\n",
       "             * to be part of the websocket stream */\n",
       "            evt.data.type = \"image/png\";\n",
       "\n",
       "            /* Free the memory for the previous frames */\n",
       "            if (fig.imageObj.src) {\n",
       "                (window.URL || window.webkitURL).revokeObjectURL(\n",
       "                    fig.imageObj.src);\n",
       "            }\n",
       "\n",
       "            fig.imageObj.src = (window.URL || window.webkitURL).createObjectURL(\n",
       "                evt.data);\n",
       "            fig.updated_canvas_event();\n",
       "            fig.waiting = false;\n",
       "            return;\n",
       "        }\n",
       "        else if (typeof evt.data === 'string' && evt.data.slice(0, 21) == \"data:image/png;base64\") {\n",
       "            fig.imageObj.src = evt.data;\n",
       "            fig.updated_canvas_event();\n",
       "            fig.waiting = false;\n",
       "            return;\n",
       "        }\n",
       "\n",
       "        var msg = JSON.parse(evt.data);\n",
       "        var msg_type = msg['type'];\n",
       "\n",
       "        // Call the  \"handle_{type}\" callback, which takes\n",
       "        // the figure and JSON message as its only arguments.\n",
       "        try {\n",
       "            var callback = fig[\"handle_\" + msg_type];\n",
       "        } catch (e) {\n",
       "            console.log(\"No handler for the '\" + msg_type + \"' message type: \", msg);\n",
       "            return;\n",
       "        }\n",
       "\n",
       "        if (callback) {\n",
       "            try {\n",
       "                // console.log(\"Handling '\" + msg_type + \"' message: \", msg);\n",
       "                callback(fig, msg);\n",
       "            } catch (e) {\n",
       "                console.log(\"Exception inside the 'handler_\" + msg_type + \"' callback:\", e, e.stack, msg);\n",
       "            }\n",
       "        }\n",
       "    };\n",
       "}\n",
       "\n",
       "// from http://stackoverflow.com/questions/1114465/getting-mouse-location-in-canvas\n",
       "mpl.findpos = function(e) {\n",
       "    //this section is from http://www.quirksmode.org/js/events_properties.html\n",
       "    var targ;\n",
       "    if (!e)\n",
       "        e = window.event;\n",
       "    if (e.target)\n",
       "        targ = e.target;\n",
       "    else if (e.srcElement)\n",
       "        targ = e.srcElement;\n",
       "    if (targ.nodeType == 3) // defeat Safari bug\n",
       "        targ = targ.parentNode;\n",
       "\n",
       "    // jQuery normalizes the pageX and pageY\n",
       "    // pageX,Y are the mouse positions relative to the document\n",
       "    // offset() returns the position of the element relative to the document\n",
       "    var x = e.pageX - $(targ).offset().left;\n",
       "    var y = e.pageY - $(targ).offset().top;\n",
       "\n",
       "    return {\"x\": x, \"y\": y};\n",
       "};\n",
       "\n",
       "/*\n",
       " * return a copy of an object with only non-object keys\n",
       " * we need this to avoid circular references\n",
       " * http://stackoverflow.com/a/24161582/3208463\n",
       " */\n",
       "function simpleKeys (original) {\n",
       "  return Object.keys(original).reduce(function (obj, key) {\n",
       "    if (typeof original[key] !== 'object')\n",
       "        obj[key] = original[key]\n",
       "    return obj;\n",
       "  }, {});\n",
       "}\n",
       "\n",
       "mpl.figure.prototype.mouse_event = function(event, name) {\n",
       "    var canvas_pos = mpl.findpos(event)\n",
       "\n",
       "    if (name === 'button_press')\n",
       "    {\n",
       "        this.canvas.focus();\n",
       "        this.canvas_div.focus();\n",
       "    }\n",
       "\n",
       "    var x = canvas_pos.x * mpl.ratio;\n",
       "    var y = canvas_pos.y * mpl.ratio;\n",
       "\n",
       "    this.send_message(name, {x: x, y: y, button: event.button,\n",
       "                             step: event.step,\n",
       "                             guiEvent: simpleKeys(event)});\n",
       "\n",
       "    /* This prevents the web browser from automatically changing to\n",
       "     * the text insertion cursor when the button is pressed.  We want\n",
       "     * to control all of the cursor setting manually through the\n",
       "     * 'cursor' event from matplotlib */\n",
       "    event.preventDefault();\n",
       "    return false;\n",
       "}\n",
       "\n",
       "mpl.figure.prototype._key_event_extra = function(event, name) {\n",
       "    // Handle any extra behaviour associated with a key event\n",
       "}\n",
       "\n",
       "mpl.figure.prototype.key_event = function(event, name) {\n",
       "\n",
       "    // Prevent repeat events\n",
       "    if (name == 'key_press')\n",
       "    {\n",
       "        if (event.which === this._key)\n",
       "            return;\n",
       "        else\n",
       "            this._key = event.which;\n",
       "    }\n",
       "    if (name == 'key_release')\n",
       "        this._key = null;\n",
       "\n",
       "    var value = '';\n",
       "    if (event.ctrlKey && event.which != 17)\n",
       "        value += \"ctrl+\";\n",
       "    if (event.altKey && event.which != 18)\n",
       "        value += \"alt+\";\n",
       "    if (event.shiftKey && event.which != 16)\n",
       "        value += \"shift+\";\n",
       "\n",
       "    value += 'k';\n",
       "    value += event.which.toString();\n",
       "\n",
       "    this._key_event_extra(event, name);\n",
       "\n",
       "    this.send_message(name, {key: value,\n",
       "                             guiEvent: simpleKeys(event)});\n",
       "    return false;\n",
       "}\n",
       "\n",
       "mpl.figure.prototype.toolbar_button_onclick = function(name) {\n",
       "    if (name == 'download') {\n",
       "        this.handle_save(this, null);\n",
       "    } else {\n",
       "        this.send_message(\"toolbar_button\", {name: name});\n",
       "    }\n",
       "};\n",
       "\n",
       "mpl.figure.prototype.toolbar_button_onmouseover = function(tooltip) {\n",
       "    this.message.textContent = tooltip;\n",
       "};\n",
       "mpl.toolbar_items = [[\"Home\", \"Reset original view\", \"fa fa-home icon-home\", \"home\"], [\"Back\", \"Back to previous view\", \"fa fa-arrow-left icon-arrow-left\", \"back\"], [\"Forward\", \"Forward to next view\", \"fa fa-arrow-right icon-arrow-right\", \"forward\"], [\"\", \"\", \"\", \"\"], [\"Pan\", \"Pan axes with left mouse, zoom with right\", \"fa fa-arrows icon-move\", \"pan\"], [\"Zoom\", \"Zoom to rectangle\", \"fa fa-square-o icon-check-empty\", \"zoom\"], [\"\", \"\", \"\", \"\"], [\"Download\", \"Download plot\", \"fa fa-floppy-o icon-save\", \"download\"]];\n",
       "\n",
       "mpl.extensions = [\"eps\", \"jpeg\", \"pdf\", \"png\", \"ps\", \"raw\", \"svg\", \"tif\"];\n",
       "\n",
       "mpl.default_extension = \"png\";var comm_websocket_adapter = function(comm) {\n",
       "    // Create a \"websocket\"-like object which calls the given IPython comm\n",
       "    // object with the appropriate methods. Currently this is a non binary\n",
       "    // socket, so there is still some room for performance tuning.\n",
       "    var ws = {};\n",
       "\n",
       "    ws.close = function() {\n",
       "        comm.close()\n",
       "    };\n",
       "    ws.send = function(m) {\n",
       "        //console.log('sending', m);\n",
       "        comm.send(m);\n",
       "    };\n",
       "    // Register the callback with on_msg.\n",
       "    comm.on_msg(function(msg) {\n",
       "        //console.log('receiving', msg['content']['data'], msg);\n",
       "        // Pass the mpl event to the overridden (by mpl) onmessage function.\n",
       "        ws.onmessage(msg['content']['data'])\n",
       "    });\n",
       "    return ws;\n",
       "}\n",
       "\n",
       "mpl.mpl_figure_comm = function(comm, msg) {\n",
       "    // This is the function which gets called when the mpl process\n",
       "    // starts-up an IPython Comm through the \"matplotlib\" channel.\n",
       "\n",
       "    var id = msg.content.data.id;\n",
       "    // Get hold of the div created by the display call when the Comm\n",
       "    // socket was opened in Python.\n",
       "    var element = $(\"#\" + id);\n",
       "    var ws_proxy = comm_websocket_adapter(comm)\n",
       "\n",
       "    function ondownload(figure, format) {\n",
       "        window.open(figure.imageObj.src);\n",
       "    }\n",
       "\n",
       "    var fig = new mpl.figure(id, ws_proxy,\n",
       "                           ondownload,\n",
       "                           element.get(0));\n",
       "\n",
       "    // Call onopen now - mpl needs it, as it is assuming we've passed it a real\n",
       "    // web socket which is closed, not our websocket->open comm proxy.\n",
       "    ws_proxy.onopen();\n",
       "\n",
       "    fig.parent_element = element.get(0);\n",
       "    fig.cell_info = mpl.find_output_cell(\"<div id='\" + id + \"'></div>\");\n",
       "    if (!fig.cell_info) {\n",
       "        console.error(\"Failed to find cell for figure\", id, fig);\n",
       "        return;\n",
       "    }\n",
       "\n",
       "    var output_index = fig.cell_info[2]\n",
       "    var cell = fig.cell_info[0];\n",
       "\n",
       "};\n",
       "\n",
       "mpl.figure.prototype.handle_close = function(fig, msg) {\n",
       "    var width = fig.canvas.width/mpl.ratio\n",
       "    fig.root.unbind('remove')\n",
       "\n",
       "    // Update the output cell to use the data from the current canvas.\n",
       "    fig.push_to_output();\n",
       "    var dataURL = fig.canvas.toDataURL();\n",
       "    // Re-enable the keyboard manager in IPython - without this line, in FF,\n",
       "    // the notebook keyboard shortcuts fail.\n",
       "    IPython.keyboard_manager.enable()\n",
       "    $(fig.parent_element).html('<img src=\"' + dataURL + '\" width=\"' + width + '\">');\n",
       "    fig.close_ws(fig, msg);\n",
       "}\n",
       "\n",
       "mpl.figure.prototype.close_ws = function(fig, msg){\n",
       "    fig.send_message('closing', msg);\n",
       "    // fig.ws.close()\n",
       "}\n",
       "\n",
       "mpl.figure.prototype.push_to_output = function(remove_interactive) {\n",
       "    // Turn the data on the canvas into data in the output cell.\n",
       "    var width = this.canvas.width/mpl.ratio\n",
       "    var dataURL = this.canvas.toDataURL();\n",
       "    this.cell_info[1]['text/html'] = '<img src=\"' + dataURL + '\" width=\"' + width + '\">';\n",
       "}\n",
       "\n",
       "mpl.figure.prototype.updated_canvas_event = function() {\n",
       "    // Tell IPython that the notebook contents must change.\n",
       "    IPython.notebook.set_dirty(true);\n",
       "    this.send_message(\"ack\", {});\n",
       "    var fig = this;\n",
       "    // Wait a second, then push the new image to the DOM so\n",
       "    // that it is saved nicely (might be nice to debounce this).\n",
       "    setTimeout(function () { fig.push_to_output() }, 1000);\n",
       "}\n",
       "\n",
       "mpl.figure.prototype._init_toolbar = function() {\n",
       "    var fig = this;\n",
       "\n",
       "    var nav_element = $('<div/>')\n",
       "    nav_element.attr('style', 'width: 100%');\n",
       "    this.root.append(nav_element);\n",
       "\n",
       "    // Define a callback function for later on.\n",
       "    function toolbar_event(event) {\n",
       "        return fig.toolbar_button_onclick(event['data']);\n",
       "    }\n",
       "    function toolbar_mouse_event(event) {\n",
       "        return fig.toolbar_button_onmouseover(event['data']);\n",
       "    }\n",
       "\n",
       "    for(var toolbar_ind in mpl.toolbar_items){\n",
       "        var name = mpl.toolbar_items[toolbar_ind][0];\n",
       "        var tooltip = mpl.toolbar_items[toolbar_ind][1];\n",
       "        var image = mpl.toolbar_items[toolbar_ind][2];\n",
       "        var method_name = mpl.toolbar_items[toolbar_ind][3];\n",
       "\n",
       "        if (!name) { continue; };\n",
       "\n",
       "        var button = $('<button class=\"btn btn-default\" href=\"#\" title=\"' + name + '\"><i class=\"fa ' + image + ' fa-lg\"></i></button>');\n",
       "        button.click(method_name, toolbar_event);\n",
       "        button.mouseover(tooltip, toolbar_mouse_event);\n",
       "        nav_element.append(button);\n",
       "    }\n",
       "\n",
       "    // Add the status bar.\n",
       "    var status_bar = $('<span class=\"mpl-message\" style=\"text-align:right; float: right;\"/>');\n",
       "    nav_element.append(status_bar);\n",
       "    this.message = status_bar[0];\n",
       "\n",
       "    // Add the close button to the window.\n",
       "    var buttongrp = $('<div class=\"btn-group inline pull-right\"></div>');\n",
       "    var button = $('<button class=\"btn btn-mini btn-primary\" href=\"#\" title=\"Stop Interaction\"><i class=\"fa fa-power-off icon-remove icon-large\"></i></button>');\n",
       "    button.click(function (evt) { fig.handle_close(fig, {}); } );\n",
       "    button.mouseover('Stop Interaction', toolbar_mouse_event);\n",
       "    buttongrp.append(button);\n",
       "    var titlebar = this.root.find($('.ui-dialog-titlebar'));\n",
       "    titlebar.prepend(buttongrp);\n",
       "}\n",
       "\n",
       "mpl.figure.prototype._root_extra_style = function(el){\n",
       "    var fig = this\n",
       "    el.on(\"remove\", function(){\n",
       "\tfig.close_ws(fig, {});\n",
       "    });\n",
       "}\n",
       "\n",
       "mpl.figure.prototype._canvas_extra_style = function(el){\n",
       "    // this is important to make the div 'focusable\n",
       "    el.attr('tabindex', 0)\n",
       "    // reach out to IPython and tell the keyboard manager to turn it's self\n",
       "    // off when our div gets focus\n",
       "\n",
       "    // location in version 3\n",
       "    if (IPython.notebook.keyboard_manager) {\n",
       "        IPython.notebook.keyboard_manager.register_events(el);\n",
       "    }\n",
       "    else {\n",
       "        // location in version 2\n",
       "        IPython.keyboard_manager.register_events(el);\n",
       "    }\n",
       "\n",
       "}\n",
       "\n",
       "mpl.figure.prototype._key_event_extra = function(event, name) {\n",
       "    var manager = IPython.notebook.keyboard_manager;\n",
       "    if (!manager)\n",
       "        manager = IPython.keyboard_manager;\n",
       "\n",
       "    // Check for shift+enter\n",
       "    if (event.shiftKey && event.which == 13) {\n",
       "        this.canvas_div.blur();\n",
       "        event.shiftKey = false;\n",
       "        // Send a \"J\" for go to next cell\n",
       "        event.which = 74;\n",
       "        event.keyCode = 74;\n",
       "        manager.command_mode();\n",
       "        manager.handle_keydown(event);\n",
       "    }\n",
       "}\n",
       "\n",
       "mpl.figure.prototype.handle_save = function(fig, msg) {\n",
       "    fig.ondownload(fig, null);\n",
       "}\n",
       "\n",
       "\n",
       "mpl.find_output_cell = function(html_output) {\n",
       "    // Return the cell and output element which can be found *uniquely* in the notebook.\n",
       "    // Note - this is a bit hacky, but it is done because the \"notebook_saving.Notebook\"\n",
       "    // IPython event is triggered only after the cells have been serialised, which for\n",
       "    // our purposes (turning an active figure into a static one), is too late.\n",
       "    var cells = IPython.notebook.get_cells();\n",
       "    var ncells = cells.length;\n",
       "    for (var i=0; i<ncells; i++) {\n",
       "        var cell = cells[i];\n",
       "        if (cell.cell_type === 'code'){\n",
       "            for (var j=0; j<cell.output_area.outputs.length; j++) {\n",
       "                var data = cell.output_area.outputs[j];\n",
       "                if (data.data) {\n",
       "                    // IPython >= 3 moved mimebundle to data attribute of output\n",
       "                    data = data.data;\n",
       "                }\n",
       "                if (data['text/html'] == html_output) {\n",
       "                    return [cell, data, j];\n",
       "                }\n",
       "            }\n",
       "        }\n",
       "    }\n",
       "}\n",
       "\n",
       "// Register the function which deals with the matplotlib target/channel.\n",
       "// The kernel may be null if the page has been refreshed.\n",
       "if (IPython.notebook.kernel != null) {\n",
       "    IPython.notebook.kernel.comm_manager.register_target('matplotlib', mpl.mpl_figure_comm);\n",
       "}\n"
      ],
      "text/plain": [
       "<IPython.core.display.Javascript object>"
      ]
     },
     "metadata": {},
     "output_type": "display_data"
    },
    {
     "data": {
      "text/html": [
       "<img src=\"data:image/png;base64,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\" width=\"640\">"
      ],
      "text/plain": [
       "<IPython.core.display.HTML object>"
      ]
     },
     "metadata": {},
     "output_type": "display_data"
    }
   ],
   "source": [
    "tab = tabulky__0[0]\n",
    "\n",
    "plt.figure(\"F míra vs n_est md=2\")\n",
    "plt.plot(tab[\"n_estim\"], tab[\"F míra průměrná\"])\n",
    "plt.scatter(tab[\"n_estim\"], tab[\"F míra průměrná\"])\n",
    "plt.xlabel(\"Number of estimators\")\n",
    "plt.ylabel(\"F míra průměrná\")\n",
    "plt.grid(True)\n",
    "plt.show()"
   ]
  },
  {
   "cell_type": "markdown",
   "metadata": {},
   "source": [
    "# Ada boosting"
   ]
  },
  {
   "cell_type": "code",
   "execution_count": 79,
   "metadata": {
    "collapsed": true
   },
   "outputs": [
    {
     "name": "stderr",
     "output_type": "stream",
     "text": [
      "[########################################################################] 100%\n"
     ]
    },
    {
     "name": "stdout",
     "output_type": "stream",
     "text": [
      "1 . ->  50\n"
     ]
    },
    {
     "name": "stderr",
     "output_type": "stream",
     "text": [
      "[########################################################################] 100%\n"
     ]
    },
    {
     "name": "stdout",
     "output_type": "stream",
     "text": [
      "2 . ->  100\n"
     ]
    },
    {
     "name": "stderr",
     "output_type": "stream",
     "text": [
      "[########################################################################] 100%\n"
     ]
    },
    {
     "name": "stdout",
     "output_type": "stream",
     "text": [
      "3 . ->  151\n"
     ]
    },
    {
     "name": "stderr",
     "output_type": "stream",
     "text": [
      "[########################################################################] 100%\n"
     ]
    },
    {
     "name": "stdout",
     "output_type": "stream",
     "text": [
      "4 . ->  205\n"
     ]
    },
    {
     "name": "stderr",
     "output_type": "stream",
     "text": [
      "[########################################################################] 100%\n"
     ]
    },
    {
     "name": "stdout",
     "output_type": "stream",
     "text": [
      "5 . ->  258\n"
     ]
    },
    {
     "name": "stderr",
     "output_type": "stream",
     "text": [
      "[########################################################################] 100%\n"
     ]
    },
    {
     "name": "stdout",
     "output_type": "stream",
     "text": [
      "6 . ->  317\n"
     ]
    },
    {
     "name": "stderr",
     "output_type": "stream",
     "text": [
      "[########################################################################] 100%\n"
     ]
    },
    {
     "name": "stdout",
     "output_type": "stream",
     "text": [
      "7 . ->  378\n"
     ]
    },
    {
     "name": "stderr",
     "output_type": "stream",
     "text": [
      "[########################################################################] 100%\n"
     ]
    },
    {
     "name": "stdout",
     "output_type": "stream",
     "text": [
      "8 . ->  440\n"
     ]
    },
    {
     "name": "stderr",
     "output_type": "stream",
     "text": [
      "[########################################################################] 100%\n"
     ]
    },
    {
     "name": "stdout",
     "output_type": "stream",
     "text": [
      "9 . ->  496\n"
     ]
    },
    {
     "name": "stderr",
     "output_type": "stream",
     "text": [
      "[########################################################################] 100%\n"
     ]
    },
    {
     "name": "stdout",
     "output_type": "stream",
     "text": [
      "10 . ->  551\n",
      "551\n"
     ]
    }
   ],
   "source": [
    "tabulky_ada = CrossVal(model =AdaBoostClassifier(), \n",
    "                   estimator_list=[400], \n",
    "                   train_data=train, \n",
    "                   test_data=test, \n",
    "                   kombinace=\"all\", \n",
    "                   params = [[4, 6], [8, 10], [12, 14, 16], range(5,17)],\n",
    "                   model_nm=\"AdaBoost_0\", \n",
    "                   dataset_nm=\"first\",\n",
    "                   model_name_param=False)"
   ]
  },
  {
   "cell_type": "code",
   "execution_count": 90,
   "metadata": {
    "scrolled": false
   },
   "outputs": [
    {
     "data": {
      "text/html": [
       "<div>\n",
       "<style>\n",
       "    .dataframe thead tr:only-child th {\n",
       "        text-align: right;\n",
       "    }\n",
       "\n",
       "    .dataframe thead th {\n",
       "        text-align: left;\n",
       "    }\n",
       "\n",
       "    .dataframe tbody tr th {\n",
       "        vertical-align: top;\n",
       "    }\n",
       "</style>\n",
       "<table border=\"1\" class=\"dataframe\">\n",
       "  <thead>\n",
       "    <tr style=\"text-align: right;\">\n",
       "      <th></th>\n",
       "      <th>n_estim</th>\n",
       "      <th>Kombinace rysů</th>\n",
       "      <th>délky úseku</th>\n",
       "      <th>Accuracy</th>\n",
       "      <th>Chyby</th>\n",
       "      <th>F míra stavu 0</th>\n",
       "      <th>F míra stavu 1</th>\n",
       "      <th>F míra stavu 2</th>\n",
       "      <th>F míra průměrná</th>\n",
       "      <th>Precision stavu 0</th>\n",
       "      <th>Precision stavu 1</th>\n",
       "      <th>Precision stavu 2</th>\n",
       "      <th>Recall stavu 0</th>\n",
       "      <th>Recall stavu 1</th>\n",
       "      <th>Recall stavu 2</th>\n",
       "    </tr>\n",
       "  </thead>\n",
       "  <tbody>\n",
       "    <tr>\n",
       "      <th>0</th>\n",
       "      <td>400</td>\n",
       "      <td>(1, 1, 1, 1, 1)</td>\n",
       "      <td>[[4, 6], [8, 10], [12, 14, 16], (5, 6, 7, 8, 9...</td>\n",
       "      <td>0.862333</td>\n",
       "      <td>413</td>\n",
       "      <td>0.945578</td>\n",
       "      <td>0.773655</td>\n",
       "      <td>0.72023</td>\n",
       "      <td>0.813154</td>\n",
       "      <td>0.967517</td>\n",
       "      <td>0.637615</td>\n",
       "      <td>0.807074</td>\n",
       "      <td>0.924612</td>\n",
       "      <td>0.983491</td>\n",
       "      <td>0.650259</td>\n",
       "    </tr>\n",
       "  </tbody>\n",
       "</table>\n",
       "</div>"
      ],
      "text/plain": [
       "   n_estim   Kombinace rysů  \\\n",
       "0      400  (1, 1, 1, 1, 1)   \n",
       "\n",
       "                                         délky úseku  Accuracy  Chyby  \\\n",
       "0  [[4, 6], [8, 10], [12, 14, 16], (5, 6, 7, 8, 9...  0.862333    413   \n",
       "\n",
       "   F míra stavu 0  F míra stavu 1  F míra stavu 2  F míra průměrná  \\\n",
       "0        0.945578        0.773655         0.72023         0.813154   \n",
       "\n",
       "   Precision stavu 0  Precision stavu 1  Precision stavu 2  Recall stavu 0  \\\n",
       "0           0.967517           0.637615           0.807074        0.924612   \n",
       "\n",
       "   Recall stavu 1  Recall stavu 2  \n",
       "0        0.983491        0.650259  "
      ]
     },
     "execution_count": 90,
     "metadata": {},
     "output_type": "execute_result"
    }
   ],
   "source": [
    "tabulky_ada[0]"
   ]
  },
  {
   "cell_type": "code",
   "execution_count": 93,
   "metadata": {
    "collapsed": true
   },
   "outputs": [
    {
     "name": "stderr",
     "output_type": "stream",
     "text": [
      "[########################################################################] 100%\n"
     ]
    },
    {
     "name": "stdout",
     "output_type": "stream",
     "text": [
      "1 . ->  54\n"
     ]
    },
    {
     "name": "stderr",
     "output_type": "stream",
     "text": [
      "[########################################################################] 100%\n"
     ]
    },
    {
     "name": "stdout",
     "output_type": "stream",
     "text": [
      "2 . ->  106\n"
     ]
    },
    {
     "name": "stderr",
     "output_type": "stream",
     "text": [
      "[########################################################################] 100%\n"
     ]
    },
    {
     "name": "stdout",
     "output_type": "stream",
     "text": [
      "3 . ->  156\n"
     ]
    },
    {
     "name": "stderr",
     "output_type": "stream",
     "text": [
      "[########################################################################] 100%\n"
     ]
    },
    {
     "name": "stdout",
     "output_type": "stream",
     "text": [
      "4 . ->  206\n"
     ]
    },
    {
     "name": "stderr",
     "output_type": "stream",
     "text": [
      "[########################################################################] 100%\n"
     ]
    },
    {
     "name": "stdout",
     "output_type": "stream",
     "text": [
      "5 . ->  259\n"
     ]
    },
    {
     "name": "stderr",
     "output_type": "stream",
     "text": [
      "[########################################################################] 100%\n"
     ]
    },
    {
     "name": "stdout",
     "output_type": "stream",
     "text": [
      "6 . ->  308\n"
     ]
    },
    {
     "name": "stderr",
     "output_type": "stream",
     "text": [
      "[########################################################################] 100%\n"
     ]
    },
    {
     "name": "stdout",
     "output_type": "stream",
     "text": [
      "7 . ->  358\n"
     ]
    },
    {
     "name": "stderr",
     "output_type": "stream",
     "text": [
      "[########################################################################] 100%\n"
     ]
    },
    {
     "name": "stdout",
     "output_type": "stream",
     "text": [
      "8 . ->  407\n"
     ]
    },
    {
     "name": "stderr",
     "output_type": "stream",
     "text": [
      "[########################################################################] 100%\n"
     ]
    },
    {
     "name": "stdout",
     "output_type": "stream",
     "text": [
      "9 . ->  456\n"
     ]
    },
    {
     "name": "stderr",
     "output_type": "stream",
     "text": [
      "[########################################################################] 100%\n"
     ]
    },
    {
     "name": "stdout",
     "output_type": "stream",
     "text": [
      "10 . ->  506\n",
      "506\n"
     ]
    }
   ],
   "source": [
    "tabulky_ada1 = CrossVal(model =AdaBoostClassifier(learning_rate=.5), \n",
    "                   estimator_list=[400], \n",
    "                   train_data=train, \n",
    "                   test_data=test, \n",
    "                   kombinace=\"all\", \n",
    "                   params = [[4, 6], [8, 10], [12, 14, 16], range(5,17)],\n",
    "                   model_nm=\"AdaBoost_lr=0.5\", \n",
    "                   dataset_nm=\"first\",\n",
    "                   model_name_param=False)"
   ]
  },
  {
   "cell_type": "code",
   "execution_count": 98,
   "metadata": {
    "scrolled": false
   },
   "outputs": [
    {
     "data": {
      "text/html": [
       "<div>\n",
       "<style>\n",
       "    .dataframe thead tr:only-child th {\n",
       "        text-align: right;\n",
       "    }\n",
       "\n",
       "    .dataframe thead th {\n",
       "        text-align: left;\n",
       "    }\n",
       "\n",
       "    .dataframe tbody tr th {\n",
       "        vertical-align: top;\n",
       "    }\n",
       "</style>\n",
       "<table border=\"1\" class=\"dataframe\">\n",
       "  <thead>\n",
       "    <tr style=\"text-align: right;\">\n",
       "      <th></th>\n",
       "      <th>n_estim</th>\n",
       "      <th>Kombinace rysů</th>\n",
       "      <th>délky úseku</th>\n",
       "      <th>Accuracy</th>\n",
       "      <th>Chyby</th>\n",
       "      <th>F míra stavu 0</th>\n",
       "      <th>F míra stavu 1</th>\n",
       "      <th>F míra stavu 2</th>\n",
       "      <th>F míra průměrná</th>\n",
       "      <th>Precision stavu 0</th>\n",
       "      <th>Precision stavu 1</th>\n",
       "      <th>Precision stavu 2</th>\n",
       "      <th>Recall stavu 0</th>\n",
       "      <th>Recall stavu 1</th>\n",
       "      <th>Recall stavu 2</th>\n",
       "    </tr>\n",
       "  </thead>\n",
       "  <tbody>\n",
       "    <tr>\n",
       "      <th>0</th>\n",
       "      <td>400</td>\n",
       "      <td>(1, 1, 1, 1, 1)</td>\n",
       "      <td>[[4, 6], [8, 10], [12, 14, 16], (5, 6, 7, 8, 9...</td>\n",
       "      <td>0.912333</td>\n",
       "      <td>263</td>\n",
       "      <td>0.948652</td>\n",
       "      <td>0.890558</td>\n",
       "      <td>0.842515</td>\n",
       "      <td>0.893908</td>\n",
       "      <td>0.971528</td>\n",
       "      <td>0.816929</td>\n",
       "      <td>0.843061</td>\n",
       "      <td>0.926829</td>\n",
       "      <td>0.978774</td>\n",
       "      <td>0.841969</td>\n",
       "    </tr>\n",
       "  </tbody>\n",
       "</table>\n",
       "</div>"
      ],
      "text/plain": [
       "   n_estim   Kombinace rysů  \\\n",
       "0      400  (1, 1, 1, 1, 1)   \n",
       "\n",
       "                                         délky úseku  Accuracy  Chyby  \\\n",
       "0  [[4, 6], [8, 10], [12, 14, 16], (5, 6, 7, 8, 9...  0.912333    263   \n",
       "\n",
       "   F míra stavu 0  F míra stavu 1  F míra stavu 2  F míra průměrná  \\\n",
       "0        0.948652        0.890558        0.842515         0.893908   \n",
       "\n",
       "   Precision stavu 0  Precision stavu 1  Precision stavu 2  Recall stavu 0  \\\n",
       "0           0.971528           0.816929           0.843061        0.926829   \n",
       "\n",
       "   Recall stavu 1  Recall stavu 2  \n",
       "0        0.978774        0.841969  "
      ]
     },
     "execution_count": 98,
     "metadata": {},
     "output_type": "execute_result"
    }
   ],
   "source": [
    "tabulky_ada1[0]"
   ]
  },
  {
   "cell_type": "code",
   "execution_count": 99,
   "metadata": {},
   "outputs": [
    {
     "data": {
      "text/html": [
       "<div>\n",
       "<style>\n",
       "    .dataframe thead tr:only-child th {\n",
       "        text-align: right;\n",
       "    }\n",
       "\n",
       "    .dataframe thead th {\n",
       "        text-align: left;\n",
       "    }\n",
       "\n",
       "    .dataframe tbody tr th {\n",
       "        vertical-align: top;\n",
       "    }\n",
       "</style>\n",
       "<table border=\"1\" class=\"dataframe\">\n",
       "  <thead>\n",
       "    <tr style=\"text-align: right;\">\n",
       "      <th></th>\n",
       "      <th>n_estim</th>\n",
       "      <th>Kombinace rysů</th>\n",
       "      <th>délky úseku</th>\n",
       "      <th>Accuracy</th>\n",
       "      <th>Chyby</th>\n",
       "      <th>F míra stavu 0</th>\n",
       "      <th>F míra stavu 1</th>\n",
       "      <th>F míra stavu 2</th>\n",
       "      <th>F míra průměrná</th>\n",
       "      <th>Precision stavu 0</th>\n",
       "      <th>Precision stavu 1</th>\n",
       "      <th>Precision stavu 2</th>\n",
       "      <th>Recall stavu 0</th>\n",
       "      <th>Recall stavu 1</th>\n",
       "      <th>Recall stavu 2</th>\n",
       "    </tr>\n",
       "  </thead>\n",
       "  <tbody>\n",
       "    <tr>\n",
       "      <th>0</th>\n",
       "      <td>400</td>\n",
       "      <td>(1, 1, 1, 1, 1)</td>\n",
       "      <td>[[4, 6], [8, 10], [12, 14, 16], (5, 6, 7, 8, 9...</td>\n",
       "      <td>0.912667</td>\n",
       "      <td>262</td>\n",
       "      <td>0.949249</td>\n",
       "      <td>0.890323</td>\n",
       "      <td>0.842515</td>\n",
       "      <td>0.894029</td>\n",
       "      <td>0.971561</td>\n",
       "      <td>0.818182</td>\n",
       "      <td>0.843061</td>\n",
       "      <td>0.927938</td>\n",
       "      <td>0.976415</td>\n",
       "      <td>0.841969</td>\n",
       "    </tr>\n",
       "  </tbody>\n",
       "</table>\n",
       "</div>"
      ],
      "text/plain": [
       "   n_estim   Kombinace rysů  \\\n",
       "0      400  (1, 1, 1, 1, 1)   \n",
       "\n",
       "                                         délky úseku  Accuracy  Chyby  \\\n",
       "0  [[4, 6], [8, 10], [12, 14, 16], (5, 6, 7, 8, 9...  0.912667    262   \n",
       "\n",
       "   F míra stavu 0  F míra stavu 1  F míra stavu 2  F míra průměrná  \\\n",
       "0        0.949249        0.890323        0.842515         0.894029   \n",
       "\n",
       "   Precision stavu 0  Precision stavu 1  Precision stavu 2  Recall stavu 0  \\\n",
       "0           0.971561           0.818182           0.843061        0.927938   \n",
       "\n",
       "   Recall stavu 1  Recall stavu 2  \n",
       "0        0.976415        0.841969  "
      ]
     },
     "execution_count": 99,
     "metadata": {},
     "output_type": "execute_result"
    }
   ],
   "source": [
    "tabulky_ada2[0]"
   ]
  },
  {
   "cell_type": "code",
   "execution_count": 104,
   "metadata": {},
   "outputs": [
    {
     "data": {
      "text/html": [
       "<div>\n",
       "<style>\n",
       "    .dataframe thead tr:only-child th {\n",
       "        text-align: right;\n",
       "    }\n",
       "\n",
       "    .dataframe thead th {\n",
       "        text-align: left;\n",
       "    }\n",
       "\n",
       "    .dataframe tbody tr th {\n",
       "        vertical-align: top;\n",
       "    }\n",
       "</style>\n",
       "<table border=\"1\" class=\"dataframe\">\n",
       "  <thead>\n",
       "    <tr style=\"text-align: right;\">\n",
       "      <th></th>\n",
       "      <th>n_estim</th>\n",
       "      <th>Kombinace rysů</th>\n",
       "      <th>délky úseku</th>\n",
       "      <th>Accuracy</th>\n",
       "      <th>Chyby</th>\n",
       "      <th>F míra stavu 0</th>\n",
       "      <th>F míra stavu 1</th>\n",
       "      <th>F míra stavu 2</th>\n",
       "      <th>F míra průměrná</th>\n",
       "      <th>Precision stavu 0</th>\n",
       "      <th>Precision stavu 1</th>\n",
       "      <th>Precision stavu 2</th>\n",
       "      <th>Recall stavu 0</th>\n",
       "      <th>Recall stavu 1</th>\n",
       "      <th>Recall stavu 2</th>\n",
       "    </tr>\n",
       "  </thead>\n",
       "  <tbody>\n",
       "    <tr>\n",
       "      <th>0</th>\n",
       "      <td>400</td>\n",
       "      <td>(1, 1, 1, 1, 1)</td>\n",
       "      <td>[[4, 6], [8, 10], [12, 14, 16], (5, 6, 7, 8, 9...</td>\n",
       "      <td>0.914333</td>\n",
       "      <td>257</td>\n",
       "      <td>0.9515</td>\n",
       "      <td>0.881466</td>\n",
       "      <td>0.846512</td>\n",
       "      <td>0.893159</td>\n",
       "      <td>0.962564</td>\n",
       "      <td>0.811508</td>\n",
       "      <td>0.869031</td>\n",
       "      <td>0.940687</td>\n",
       "      <td>0.964623</td>\n",
       "      <td>0.82513</td>\n",
       "    </tr>\n",
       "  </tbody>\n",
       "</table>\n",
       "</div>"
      ],
      "text/plain": [
       "   n_estim   Kombinace rysů  \\\n",
       "0      400  (1, 1, 1, 1, 1)   \n",
       "\n",
       "                                         délky úseku  Accuracy  Chyby  \\\n",
       "0  [[4, 6], [8, 10], [12, 14, 16], (5, 6, 7, 8, 9...  0.914333    257   \n",
       "\n",
       "   F míra stavu 0  F míra stavu 1  F míra stavu 2  F míra průměrná  \\\n",
       "0          0.9515        0.881466        0.846512         0.893159   \n",
       "\n",
       "   Precision stavu 0  Precision stavu 1  Precision stavu 2  Recall stavu 0  \\\n",
       "0           0.962564           0.811508           0.869031        0.940687   \n",
       "\n",
       "   Recall stavu 1  Recall stavu 2  \n",
       "0        0.964623         0.82513  "
      ]
     },
     "execution_count": 104,
     "metadata": {},
     "output_type": "execute_result"
    }
   ],
   "source": [
    "tabulky_ada3[0]"
   ]
  },
  {
   "cell_type": "code",
   "execution_count": 95,
   "metadata": {
    "collapsed": true
   },
   "outputs": [
    {
     "name": "stderr",
     "output_type": "stream",
     "text": [
      "[########################################################################] 100%\n"
     ]
    },
    {
     "name": "stdout",
     "output_type": "stream",
     "text": [
      "1 . ->  50\n"
     ]
    },
    {
     "name": "stderr",
     "output_type": "stream",
     "text": [
      "[########################################################################] 100%\n"
     ]
    },
    {
     "name": "stdout",
     "output_type": "stream",
     "text": [
      "2 . ->  101\n"
     ]
    },
    {
     "name": "stderr",
     "output_type": "stream",
     "text": [
      "[########################################################################] 100%\n"
     ]
    },
    {
     "name": "stdout",
     "output_type": "stream",
     "text": [
      "3 . ->  150\n"
     ]
    },
    {
     "name": "stderr",
     "output_type": "stream",
     "text": [
      "[########################################################################] 100%\n"
     ]
    },
    {
     "name": "stdout",
     "output_type": "stream",
     "text": [
      "4 . ->  201\n"
     ]
    },
    {
     "name": "stderr",
     "output_type": "stream",
     "text": [
      "[########################################################################] 100%\n"
     ]
    },
    {
     "name": "stdout",
     "output_type": "stream",
     "text": [
      "5 . ->  250\n"
     ]
    },
    {
     "name": "stderr",
     "output_type": "stream",
     "text": [
      "[########################################################################] 100%\n"
     ]
    },
    {
     "name": "stdout",
     "output_type": "stream",
     "text": [
      "6 . ->  299\n"
     ]
    },
    {
     "name": "stderr",
     "output_type": "stream",
     "text": [
      "[########################################################################] 100%\n"
     ]
    },
    {
     "name": "stdout",
     "output_type": "stream",
     "text": [
      "7 . ->  354\n"
     ]
    },
    {
     "name": "stderr",
     "output_type": "stream",
     "text": [
      "[########################################################################] 100%\n"
     ]
    },
    {
     "name": "stdout",
     "output_type": "stream",
     "text": [
      "8 . ->  408\n"
     ]
    },
    {
     "name": "stderr",
     "output_type": "stream",
     "text": [
      "[########################################################################] 100%\n"
     ]
    },
    {
     "name": "stdout",
     "output_type": "stream",
     "text": [
      "9 . ->  463\n"
     ]
    },
    {
     "name": "stderr",
     "output_type": "stream",
     "text": [
      "[########################################################################] 100%\n"
     ]
    },
    {
     "name": "stdout",
     "output_type": "stream",
     "text": [
      "10 . ->  517\n",
      "517\n"
     ]
    }
   ],
   "source": [
    "tabulky_ada2 = CrossVal(model =AdaBoostClassifier(learning_rate=.3), \n",
    "                   estimator_list=[400], \n",
    "                   train_data=train, \n",
    "                   test_data=test, \n",
    "                   kombinace=\"all\", \n",
    "                   params = [[4, 6], [8, 10], [12, 14, 16], range(5,17)],\n",
    "                   model_nm=\"AdaBoost_lr=0.3\", \n",
    "                   dataset_nm=\"first\",\n",
    "                   model_name_param=False)"
   ]
  },
  {
   "cell_type": "code",
   "execution_count": 100,
   "metadata": {
    "collapsed": true
   },
   "outputs": [
    {
     "name": "stderr",
     "output_type": "stream",
     "text": [
      "[########################################################################] 100%\n"
     ]
    },
    {
     "name": "stdout",
     "output_type": "stream",
     "text": [
      "1 . ->  51\n"
     ]
    },
    {
     "name": "stderr",
     "output_type": "stream",
     "text": [
      "[########################################################################] 100%\n"
     ]
    },
    {
     "name": "stdout",
     "output_type": "stream",
     "text": [
      "2 . ->  101\n"
     ]
    },
    {
     "name": "stderr",
     "output_type": "stream",
     "text": [
      "[########################################################################] 100%\n"
     ]
    },
    {
     "name": "stdout",
     "output_type": "stream",
     "text": [
      "3 . ->  151\n"
     ]
    },
    {
     "name": "stderr",
     "output_type": "stream",
     "text": [
      "[########################################################################] 100%\n"
     ]
    },
    {
     "name": "stdout",
     "output_type": "stream",
     "text": [
      "4 . ->  200\n"
     ]
    },
    {
     "name": "stderr",
     "output_type": "stream",
     "text": [
      "[########################################################################] 100%\n"
     ]
    },
    {
     "name": "stdout",
     "output_type": "stream",
     "text": [
      "5 . ->  249\n"
     ]
    },
    {
     "name": "stderr",
     "output_type": "stream",
     "text": [
      "[########################################################################] 100%\n"
     ]
    },
    {
     "name": "stdout",
     "output_type": "stream",
     "text": [
      "6 . ->  298\n"
     ]
    },
    {
     "name": "stderr",
     "output_type": "stream",
     "text": [
      "[########################################################################] 100%\n"
     ]
    },
    {
     "name": "stdout",
     "output_type": "stream",
     "text": [
      "7 . ->  352\n"
     ]
    },
    {
     "name": "stderr",
     "output_type": "stream",
     "text": [
      "[########################################################################] 100%\n"
     ]
    },
    {
     "name": "stdout",
     "output_type": "stream",
     "text": [
      "8 . ->  408\n"
     ]
    },
    {
     "name": "stderr",
     "output_type": "stream",
     "text": [
      "[########################################################################] 100%\n"
     ]
    },
    {
     "name": "stdout",
     "output_type": "stream",
     "text": [
      "9 . ->  458\n"
     ]
    },
    {
     "name": "stderr",
     "output_type": "stream",
     "text": [
      "[########################################################################] 100%\n"
     ]
    },
    {
     "name": "stdout",
     "output_type": "stream",
     "text": [
      "10 . ->  507\n",
      "507\n"
     ]
    }
   ],
   "source": [
    "tabulky_ada3 = CrossVal(model =AdaBoostClassifier(learning_rate=.1), \n",
    "                   estimator_list=[400], \n",
    "                   train_data=train, \n",
    "                   test_data=test, \n",
    "                   kombinace=\"all\", \n",
    "                   params = [[4, 6], [8, 10], [12, 14, 16], range(5,17)],\n",
    "                   model_nm=\"AdaBoost_lr=0.1\", \n",
    "                   dataset_nm=\"first\",\n",
    "                   model_name_param=False)"
   ]
  },
  {
   "cell_type": "code",
   "execution_count": 107,
   "metadata": {
    "collapsed": true
   },
   "outputs": [
    {
     "name": "stderr",
     "output_type": "stream",
     "text": [
      "[########################################################################] 100%\n"
     ]
    },
    {
     "name": "stdout",
     "output_type": "stream",
     "text": [
      "1 . ->  121\n"
     ]
    },
    {
     "name": "stderr",
     "output_type": "stream",
     "text": [
      "[########################################################################] 100%\n"
     ]
    },
    {
     "name": "stdout",
     "output_type": "stream",
     "text": [
      "2 . ->  241\n"
     ]
    },
    {
     "name": "stderr",
     "output_type": "stream",
     "text": [
      "[########################################################################] 100%\n"
     ]
    },
    {
     "name": "stdout",
     "output_type": "stream",
     "text": [
      "3 . ->  366\n"
     ]
    },
    {
     "name": "stderr",
     "output_type": "stream",
     "text": [
      "[########################################################################] 100%\n"
     ]
    },
    {
     "name": "stdout",
     "output_type": "stream",
     "text": [
      "4 . ->  494\n"
     ]
    },
    {
     "name": "stderr",
     "output_type": "stream",
     "text": [
      "[########################################################################] 100%\n"
     ]
    },
    {
     "name": "stdout",
     "output_type": "stream",
     "text": [
      "5 . ->  610\n"
     ]
    },
    {
     "name": "stderr",
     "output_type": "stream",
     "text": [
      "[########################################################################] 100%\n"
     ]
    },
    {
     "name": "stdout",
     "output_type": "stream",
     "text": [
      "6 . ->  726\n"
     ]
    },
    {
     "name": "stderr",
     "output_type": "stream",
     "text": [
      "[########################################################################] 100%\n"
     ]
    },
    {
     "name": "stdout",
     "output_type": "stream",
     "text": [
      "7 . ->  847\n"
     ]
    },
    {
     "name": "stderr",
     "output_type": "stream",
     "text": [
      "[########################################################################] 100%\n"
     ]
    },
    {
     "name": "stdout",
     "output_type": "stream",
     "text": [
      "8 . ->  970\n"
     ]
    },
    {
     "name": "stderr",
     "output_type": "stream",
     "text": [
      "[########################################################################] 100%\n"
     ]
    },
    {
     "name": "stdout",
     "output_type": "stream",
     "text": [
      "9 . ->  1089\n"
     ]
    },
    {
     "name": "stderr",
     "output_type": "stream",
     "text": [
      "[########################################################################] 100%\n"
     ]
    },
    {
     "name": "stdout",
     "output_type": "stream",
     "text": [
      "10 . ->  1208\n",
      "1208\n"
     ]
    }
   ],
   "source": [
    "tabulky_ada4 = CrossVal(model =AdaBoostClassifier(learning_rate=.1), \n",
    "                   estimator_list=[1000], \n",
    "                   train_data=train, \n",
    "                   test_data=test, \n",
    "                   kombinace=\"all\", \n",
    "                   params = [[4, 6], [8, 10], [12, 14, 16], range(5,17)],\n",
    "                   model_nm=\"AdaBoost_nestim=1000_lr=0.1\", \n",
    "                   dataset_nm=\"first\",\n",
    "                   model_name_param=False)"
   ]
  },
  {
   "cell_type": "code",
   "execution_count": 108,
   "metadata": {},
   "outputs": [
    {
     "data": {
      "text/html": [
       "<div>\n",
       "<style>\n",
       "    .dataframe thead tr:only-child th {\n",
       "        text-align: right;\n",
       "    }\n",
       "\n",
       "    .dataframe thead th {\n",
       "        text-align: left;\n",
       "    }\n",
       "\n",
       "    .dataframe tbody tr th {\n",
       "        vertical-align: top;\n",
       "    }\n",
       "</style>\n",
       "<table border=\"1\" class=\"dataframe\">\n",
       "  <thead>\n",
       "    <tr style=\"text-align: right;\">\n",
       "      <th></th>\n",
       "      <th>n_estim</th>\n",
       "      <th>Kombinace rysů</th>\n",
       "      <th>délky úseku</th>\n",
       "      <th>Accuracy</th>\n",
       "      <th>Chyby</th>\n",
       "      <th>F míra stavu 0</th>\n",
       "      <th>F míra stavu 1</th>\n",
       "      <th>F míra stavu 2</th>\n",
       "      <th>F míra průměrná</th>\n",
       "      <th>Precision stavu 0</th>\n",
       "      <th>Precision stavu 1</th>\n",
       "      <th>Precision stavu 2</th>\n",
       "      <th>Recall stavu 0</th>\n",
       "      <th>Recall stavu 1</th>\n",
       "      <th>Recall stavu 2</th>\n",
       "    </tr>\n",
       "  </thead>\n",
       "  <tbody>\n",
       "    <tr>\n",
       "      <th>0</th>\n",
       "      <td>1000</td>\n",
       "      <td>(1, 1, 1, 1, 1)</td>\n",
       "      <td>[[4, 6], [8, 10], [12, 14, 16], (5, 6, 7, 8, 9...</td>\n",
       "      <td>0.913667</td>\n",
       "      <td>259</td>\n",
       "      <td>0.950411</td>\n",
       "      <td>0.888172</td>\n",
       "      <td>0.844906</td>\n",
       "      <td>0.894496</td>\n",
       "      <td>0.972174</td>\n",
       "      <td>0.816206</td>\n",
       "      <td>0.846554</td>\n",
       "      <td>0.929601</td>\n",
       "      <td>0.974057</td>\n",
       "      <td>0.843264</td>\n",
       "    </tr>\n",
       "  </tbody>\n",
       "</table>\n",
       "</div>"
      ],
      "text/plain": [
       "   n_estim   Kombinace rysů  \\\n",
       "0     1000  (1, 1, 1, 1, 1)   \n",
       "\n",
       "                                         délky úseku  Accuracy  Chyby  \\\n",
       "0  [[4, 6], [8, 10], [12, 14, 16], (5, 6, 7, 8, 9...  0.913667    259   \n",
       "\n",
       "   F míra stavu 0  F míra stavu 1  F míra stavu 2  F míra průměrná  \\\n",
       "0        0.950411        0.888172        0.844906         0.894496   \n",
       "\n",
       "   Precision stavu 0  Precision stavu 1  Precision stavu 2  Recall stavu 0  \\\n",
       "0           0.972174           0.816206           0.846554        0.929601   \n",
       "\n",
       "   Recall stavu 1  Recall stavu 2  \n",
       "0        0.974057        0.843264  "
      ]
     },
     "execution_count": 108,
     "metadata": {},
     "output_type": "execute_result"
    }
   ],
   "source": [
    "tabulky_ada4[0]"
   ]
  },
  {
   "cell_type": "markdown",
   "metadata": {},
   "source": [
    "# Gradient boosting"
   ]
  },
  {
   "cell_type": "code",
   "execution_count": 96,
   "metadata": {
    "collapsed": true
   },
   "outputs": [
    {
     "name": "stderr",
     "output_type": "stream",
     "text": [
      "[########################################################################] 100%\n"
     ]
    },
    {
     "name": "stdout",
     "output_type": "stream",
     "text": [
      "1 . ->  119\n"
     ]
    },
    {
     "name": "stderr",
     "output_type": "stream",
     "text": [
      "[########################################################################] 100%\n"
     ]
    },
    {
     "name": "stdout",
     "output_type": "stream",
     "text": [
      "2 . ->  238\n"
     ]
    },
    {
     "name": "stderr",
     "output_type": "stream",
     "text": [
      "[########################################################################] 100%\n"
     ]
    },
    {
     "name": "stdout",
     "output_type": "stream",
     "text": [
      "3 . ->  357\n"
     ]
    },
    {
     "name": "stderr",
     "output_type": "stream",
     "text": [
      "[########################################################################] 100%\n"
     ]
    },
    {
     "name": "stdout",
     "output_type": "stream",
     "text": [
      "4 . ->  474\n"
     ]
    },
    {
     "name": "stderr",
     "output_type": "stream",
     "text": [
      "[########################################################################] 100%\n"
     ]
    },
    {
     "name": "stdout",
     "output_type": "stream",
     "text": [
      "5 . ->  588\n"
     ]
    },
    {
     "name": "stderr",
     "output_type": "stream",
     "text": [
      "[########################################################################] 100%\n"
     ]
    },
    {
     "name": "stdout",
     "output_type": "stream",
     "text": [
      "6 . ->  703\n"
     ]
    },
    {
     "name": "stderr",
     "output_type": "stream",
     "text": [
      "[########################################################################] 100%\n"
     ]
    },
    {
     "name": "stdout",
     "output_type": "stream",
     "text": [
      "7 . ->  821\n"
     ]
    },
    {
     "name": "stderr",
     "output_type": "stream",
     "text": [
      "[########################################################################] 100%\n"
     ]
    },
    {
     "name": "stdout",
     "output_type": "stream",
     "text": [
      "8 . ->  936\n"
     ]
    },
    {
     "name": "stderr",
     "output_type": "stream",
     "text": [
      "[########################################################################] 100%\n"
     ]
    },
    {
     "name": "stdout",
     "output_type": "stream",
     "text": [
      "9 . ->  1054\n"
     ]
    },
    {
     "name": "stderr",
     "output_type": "stream",
     "text": [
      "[########################################################################] 100%\n"
     ]
    },
    {
     "name": "stdout",
     "output_type": "stream",
     "text": [
      "10 . ->  1167\n",
      "1167\n"
     ]
    }
   ],
   "source": [
    "tabulky_grad0 = CrossVal(model = GradientBoostingClassifier(), \n",
    "                   estimator_list=[400], \n",
    "                   train_data=train, \n",
    "                   test_data=test, \n",
    "                   kombinace=\"all\", \n",
    "                   params = [[4, 6], [8, 10], [12, 14, 16], range(5,17)],\n",
    "                   model_nm=\"GradientBoosting_lr=0.5\", \n",
    "                   dataset_nm=\"first\",\n",
    "                   model_name_param=False)"
   ]
  },
  {
   "cell_type": "code",
   "execution_count": null,
   "metadata": {
    "collapsed": true
   },
   "outputs": [],
   "source": []
  },
  {
   "cell_type": "code",
   "execution_count": 101,
   "metadata": {},
   "outputs": [
    {
     "data": {
      "text/html": [
       "<div>\n",
       "<style>\n",
       "    .dataframe thead tr:only-child th {\n",
       "        text-align: right;\n",
       "    }\n",
       "\n",
       "    .dataframe thead th {\n",
       "        text-align: left;\n",
       "    }\n",
       "\n",
       "    .dataframe tbody tr th {\n",
       "        vertical-align: top;\n",
       "    }\n",
       "</style>\n",
       "<table border=\"1\" class=\"dataframe\">\n",
       "  <thead>\n",
       "    <tr style=\"text-align: right;\">\n",
       "      <th></th>\n",
       "      <th>n_estim</th>\n",
       "      <th>Kombinace rysů</th>\n",
       "      <th>délky úseku</th>\n",
       "      <th>Accuracy</th>\n",
       "      <th>Chyby</th>\n",
       "      <th>F míra stavu 0</th>\n",
       "      <th>F míra stavu 1</th>\n",
       "      <th>F míra stavu 2</th>\n",
       "      <th>F míra průměrná</th>\n",
       "      <th>Precision stavu 0</th>\n",
       "      <th>Precision stavu 1</th>\n",
       "      <th>Precision stavu 2</th>\n",
       "      <th>Recall stavu 0</th>\n",
       "      <th>Recall stavu 1</th>\n",
       "      <th>Recall stavu 2</th>\n",
       "    </tr>\n",
       "  </thead>\n",
       "  <tbody>\n",
       "    <tr>\n",
       "      <th>0</th>\n",
       "      <td>400</td>\n",
       "      <td>(1, 1, 1, 1, 1)</td>\n",
       "      <td>[[4, 6], [8, 10], [12, 14, 16], (5, 6, 7, 8, 9...</td>\n",
       "      <td>0.908333</td>\n",
       "      <td>275</td>\n",
       "      <td>0.946398</td>\n",
       "      <td>0.882162</td>\n",
       "      <td>0.841121</td>\n",
       "      <td>0.889894</td>\n",
       "      <td>0.985594</td>\n",
       "      <td>0.814371</td>\n",
       "      <td>0.810324</td>\n",
       "      <td>0.9102</td>\n",
       "      <td>0.962264</td>\n",
       "      <td>0.874352</td>\n",
       "    </tr>\n",
       "  </tbody>\n",
       "</table>\n",
       "</div>"
      ],
      "text/plain": [
       "   n_estim   Kombinace rysů  \\\n",
       "0      400  (1, 1, 1, 1, 1)   \n",
       "\n",
       "                                         délky úseku  Accuracy  Chyby  \\\n",
       "0  [[4, 6], [8, 10], [12, 14, 16], (5, 6, 7, 8, 9...  0.908333    275   \n",
       "\n",
       "   F míra stavu 0  F míra stavu 1  F míra stavu 2  F míra průměrná  \\\n",
       "0        0.946398        0.882162        0.841121         0.889894   \n",
       "\n",
       "   Precision stavu 0  Precision stavu 1  Precision stavu 2  Recall stavu 0  \\\n",
       "0           0.985594           0.814371           0.810324          0.9102   \n",
       "\n",
       "   Recall stavu 1  Recall stavu 2  \n",
       "0        0.962264        0.874352  "
      ]
     },
     "execution_count": 101,
     "metadata": {},
     "output_type": "execute_result"
    }
   ],
   "source": [
    "tabulky_grad0[0]"
   ]
  },
  {
   "cell_type": "code",
   "execution_count": 109,
   "metadata": {
    "collapsed": true
   },
   "outputs": [
    {
     "name": "stderr",
     "output_type": "stream",
     "text": [
      "[########################################################################] 100%\n"
     ]
    },
    {
     "name": "stdout",
     "output_type": "stream",
     "text": [
      "1 . ->  250\n"
     ]
    },
    {
     "name": "stderr",
     "output_type": "stream",
     "text": [
      "[########################################################################] 100%\n"
     ]
    },
    {
     "name": "stdout",
     "output_type": "stream",
     "text": [
      "2 . ->  517\n"
     ]
    },
    {
     "name": "stderr",
     "output_type": "stream",
     "text": [
      "[########################################################################] 100%\n"
     ]
    },
    {
     "name": "stdout",
     "output_type": "stream",
     "text": [
      "3 . ->  776\n"
     ]
    },
    {
     "name": "stderr",
     "output_type": "stream",
     "text": [
      "[########################################################################] 100%\n"
     ]
    },
    {
     "name": "stdout",
     "output_type": "stream",
     "text": [
      "4 . ->  1071\n"
     ]
    },
    {
     "name": "stderr",
     "output_type": "stream",
     "text": [
      "[########################################################################] 100%\n"
     ]
    },
    {
     "name": "stdout",
     "output_type": "stream",
     "text": [
      "5 . ->  1366\n"
     ]
    },
    {
     "name": "stderr",
     "output_type": "stream",
     "text": [
      "[########################################################################] 100%\n"
     ]
    },
    {
     "name": "stdout",
     "output_type": "stream",
     "text": [
      "6 . ->  1662\n"
     ]
    },
    {
     "name": "stderr",
     "output_type": "stream",
     "text": [
      "[########################################################################] 100%\n"
     ]
    },
    {
     "name": "stdout",
     "output_type": "stream",
     "text": [
      "7 . ->  1921\n"
     ]
    },
    {
     "name": "stderr",
     "output_type": "stream",
     "text": [
      "[########################################################################] 100%\n"
     ]
    },
    {
     "name": "stdout",
     "output_type": "stream",
     "text": [
      "8 . ->  2169\n"
     ]
    },
    {
     "name": "stderr",
     "output_type": "stream",
     "text": [
      "[########################################################################] 100%\n"
     ]
    },
    {
     "name": "stdout",
     "output_type": "stream",
     "text": [
      "9 . ->  2418\n"
     ]
    },
    {
     "name": "stderr",
     "output_type": "stream",
     "text": [
      "[########################################################################] 100%\n"
     ]
    },
    {
     "name": "stdout",
     "output_type": "stream",
     "text": [
      "10 . ->  2664\n",
      "2664\n"
     ]
    }
   ],
   "source": [
    "tabulky_grad1 = CrossVal(model = GradientBoostingClassifier(), \n",
    "                   estimator_list=[1000], \n",
    "                   train_data=train, \n",
    "                   test_data=test, \n",
    "                   kombinace=\"all\", \n",
    "                   params = [[4, 6], [8, 10], [12, 14, 16], range(5,17)],\n",
    "                   model_nm=\"GradientBoosting_nest=1000\", \n",
    "                   dataset_nm=\"first\",\n",
    "                   model_name_param=False)"
   ]
  },
  {
   "cell_type": "code",
   "execution_count": 110,
   "metadata": {},
   "outputs": [
    {
     "data": {
      "text/html": [
       "<div>\n",
       "<style>\n",
       "    .dataframe thead tr:only-child th {\n",
       "        text-align: right;\n",
       "    }\n",
       "\n",
       "    .dataframe thead th {\n",
       "        text-align: left;\n",
       "    }\n",
       "\n",
       "    .dataframe tbody tr th {\n",
       "        vertical-align: top;\n",
       "    }\n",
       "</style>\n",
       "<table border=\"1\" class=\"dataframe\">\n",
       "  <thead>\n",
       "    <tr style=\"text-align: right;\">\n",
       "      <th></th>\n",
       "      <th>n_estim</th>\n",
       "      <th>Kombinace rysů</th>\n",
       "      <th>délky úseku</th>\n",
       "      <th>Accuracy</th>\n",
       "      <th>Chyby</th>\n",
       "      <th>F míra stavu 0</th>\n",
       "      <th>F míra stavu 1</th>\n",
       "      <th>F míra stavu 2</th>\n",
       "      <th>F míra průměrná</th>\n",
       "      <th>Precision stavu 0</th>\n",
       "      <th>Precision stavu 1</th>\n",
       "      <th>Precision stavu 2</th>\n",
       "      <th>Recall stavu 0</th>\n",
       "      <th>Recall stavu 1</th>\n",
       "      <th>Recall stavu 2</th>\n",
       "    </tr>\n",
       "  </thead>\n",
       "  <tbody>\n",
       "    <tr>\n",
       "      <th>0</th>\n",
       "      <td>1000</td>\n",
       "      <td>(1, 1, 1, 1, 1)</td>\n",
       "      <td>[[4, 6], [8, 10], [12, 14, 16], (5, 6, 7, 8, 9...</td>\n",
       "      <td>0.906667</td>\n",
       "      <td>280</td>\n",
       "      <td>0.944541</td>\n",
       "      <td>0.883369</td>\n",
       "      <td>0.83871</td>\n",
       "      <td>0.888873</td>\n",
       "      <td>0.986128</td>\n",
       "      <td>0.814741</td>\n",
       "      <td>0.804762</td>\n",
       "      <td>0.906319</td>\n",
       "      <td>0.964623</td>\n",
       "      <td>0.875648</td>\n",
       "    </tr>\n",
       "  </tbody>\n",
       "</table>\n",
       "</div>"
      ],
      "text/plain": [
       "   n_estim   Kombinace rysů  \\\n",
       "0     1000  (1, 1, 1, 1, 1)   \n",
       "\n",
       "                                         délky úseku  Accuracy  Chyby  \\\n",
       "0  [[4, 6], [8, 10], [12, 14, 16], (5, 6, 7, 8, 9...  0.906667    280   \n",
       "\n",
       "   F míra stavu 0  F míra stavu 1  F míra stavu 2  F míra průměrná  \\\n",
       "0        0.944541        0.883369         0.83871         0.888873   \n",
       "\n",
       "   Precision stavu 0  Precision stavu 1  Precision stavu 2  Recall stavu 0  \\\n",
       "0           0.986128           0.814741           0.804762        0.906319   \n",
       "\n",
       "   Recall stavu 1  Recall stavu 2  \n",
       "0        0.964623        0.875648  "
      ]
     },
     "execution_count": 110,
     "metadata": {},
     "output_type": "execute_result"
    }
   ],
   "source": [
    "tabulky_grad1[0]"
   ]
  },
  {
   "cell_type": "code",
   "execution_count": null,
   "metadata": {
    "collapsed": true
   },
   "outputs": [],
   "source": []
  },
  {
   "cell_type": "markdown",
   "metadata": {},
   "source": [
    "# Second dataset"
   ]
  },
  {
   "cell_type": "markdown",
   "metadata": {},
   "source": [
    "## Ada Boosting"
   ]
  },
  {
   "cell_type": "code",
   "execution_count": 7,
   "metadata": {
    "collapsed": true
   },
   "outputs": [],
   "source": [
    "data2 = d.load_dataset(name=\"second_dataset\")"
   ]
  },
  {
   "cell_type": "code",
   "execution_count": 8,
   "metadata": {
    "collapsed": true
   },
   "outputs": [],
   "source": [
    "train1, test1 = d.PrepareCrossFold(data2.data)"
   ]
  },
  {
   "cell_type": "code",
   "execution_count": 141,
   "metadata": {
    "collapsed": true
   },
   "outputs": [
    {
     "name": "stderr",
     "output_type": "stream",
     "text": [
      "[########################################################################] 100%\n"
     ]
    },
    {
     "name": "stdout",
     "output_type": "stream",
     "text": [
      "1 . ->  52\n"
     ]
    },
    {
     "name": "stderr",
     "output_type": "stream",
     "text": [
      "[########################################################################] 100%\n"
     ]
    },
    {
     "name": "stdout",
     "output_type": "stream",
     "text": [
      "2 . ->  99\n"
     ]
    },
    {
     "name": "stderr",
     "output_type": "stream",
     "text": [
      "[########################################################################] 100%\n"
     ]
    },
    {
     "name": "stdout",
     "output_type": "stream",
     "text": [
      "3 . ->  154\n"
     ]
    },
    {
     "name": "stderr",
     "output_type": "stream",
     "text": [
      "[########################################################################] 100%\n"
     ]
    },
    {
     "name": "stdout",
     "output_type": "stream",
     "text": [
      "4 . ->  200\n"
     ]
    },
    {
     "name": "stderr",
     "output_type": "stream",
     "text": [
      "[########################################################################] 100%\n"
     ]
    },
    {
     "name": "stdout",
     "output_type": "stream",
     "text": [
      "5 . ->  248\n"
     ]
    },
    {
     "name": "stderr",
     "output_type": "stream",
     "text": [
      "[########################################################################] 100%\n"
     ]
    },
    {
     "name": "stdout",
     "output_type": "stream",
     "text": [
      "6 . ->  297\n"
     ]
    },
    {
     "name": "stderr",
     "output_type": "stream",
     "text": [
      "[########################################################################] 100%\n"
     ]
    },
    {
     "name": "stdout",
     "output_type": "stream",
     "text": [
      "7 . ->  343\n"
     ]
    },
    {
     "name": "stderr",
     "output_type": "stream",
     "text": [
      "[########################################################################] 100%\n"
     ]
    },
    {
     "name": "stdout",
     "output_type": "stream",
     "text": [
      "8 . ->  390\n"
     ]
    },
    {
     "name": "stderr",
     "output_type": "stream",
     "text": [
      "[########################################################################] 100%\n"
     ]
    },
    {
     "name": "stdout",
     "output_type": "stream",
     "text": [
      "9 . ->  442\n"
     ]
    },
    {
     "name": "stderr",
     "output_type": "stream",
     "text": [
      "[########################################################################] 100%\n"
     ]
    },
    {
     "name": "stdout",
     "output_type": "stream",
     "text": [
      "10 . ->  504\n",
      "504\n"
     ]
    }
   ],
   "source": [
    "tab_ada = CrossVal(model = AdaBoostClassifier(), \n",
    "                   estimator_list=[400], \n",
    "                   train_data=train1, \n",
    "                   test_data=test1, \n",
    "                   kombinace=\"all\", \n",
    "                   params = [[4, 6], [8, 10], [12, 14, 16], range(5,17)],\n",
    "                   model_nm=\"AdaBoost_lr=1.0\", \n",
    "                   dataset_nm=\"second\",\n",
    "                   model_name_param=False)"
   ]
  },
  {
   "cell_type": "code",
   "execution_count": 142,
   "metadata": {
    "collapsed": true
   },
   "outputs": [
    {
     "name": "stderr",
     "output_type": "stream",
     "text": [
      "[########################################################################] 100%\n"
     ]
    },
    {
     "name": "stdout",
     "output_type": "stream",
     "text": [
      "1 . ->  47\n"
     ]
    },
    {
     "name": "stderr",
     "output_type": "stream",
     "text": [
      "[########################################################################] 100%\n"
     ]
    },
    {
     "name": "stdout",
     "output_type": "stream",
     "text": [
      "2 . ->  94\n"
     ]
    },
    {
     "name": "stderr",
     "output_type": "stream",
     "text": [
      "[########################################################################] 100%\n"
     ]
    },
    {
     "name": "stdout",
     "output_type": "stream",
     "text": [
      "3 . ->  143\n"
     ]
    },
    {
     "name": "stderr",
     "output_type": "stream",
     "text": [
      "[########################################################################] 100%\n"
     ]
    },
    {
     "name": "stdout",
     "output_type": "stream",
     "text": [
      "4 . ->  189\n"
     ]
    },
    {
     "name": "stderr",
     "output_type": "stream",
     "text": [
      "[########################################################################] 100%\n"
     ]
    },
    {
     "name": "stdout",
     "output_type": "stream",
     "text": [
      "5 . ->  236\n"
     ]
    },
    {
     "name": "stderr",
     "output_type": "stream",
     "text": [
      "[########################################################################] 100%\n"
     ]
    },
    {
     "name": "stdout",
     "output_type": "stream",
     "text": [
      "6 . ->  285\n"
     ]
    },
    {
     "name": "stderr",
     "output_type": "stream",
     "text": [
      "[########################################################################] 100%\n"
     ]
    },
    {
     "name": "stdout",
     "output_type": "stream",
     "text": [
      "7 . ->  335\n"
     ]
    },
    {
     "name": "stderr",
     "output_type": "stream",
     "text": [
      "[########################################################################] 100%\n"
     ]
    },
    {
     "name": "stdout",
     "output_type": "stream",
     "text": [
      "8 . ->  389\n"
     ]
    },
    {
     "name": "stderr",
     "output_type": "stream",
     "text": [
      "[########################################################################] 100%\n"
     ]
    },
    {
     "name": "stdout",
     "output_type": "stream",
     "text": [
      "9 . ->  442\n"
     ]
    },
    {
     "name": "stderr",
     "output_type": "stream",
     "text": [
      "[########################################################################] 100%\n"
     ]
    },
    {
     "name": "stdout",
     "output_type": "stream",
     "text": [
      "10 . ->  496\n",
      "496\n"
     ]
    }
   ],
   "source": [
    "tab_ada1 = CrossVal(model = AdaBoostClassifier(learning_rate=.5), \n",
    "                   estimator_list=[400], \n",
    "                   train_data=train1, \n",
    "                   test_data=test1, \n",
    "                   kombinace=\"all\", \n",
    "                   params = [[4, 6], [8, 10], [12, 14, 16], range(5,17)],\n",
    "                   model_nm=\"AdaBoost_lr=0.5\", \n",
    "                   dataset_nm=\"second\",\n",
    "                   model_name_param=False)"
   ]
  },
  {
   "cell_type": "code",
   "execution_count": 146,
   "metadata": {
    "collapsed": true
   },
   "outputs": [
    {
     "name": "stderr",
     "output_type": "stream",
     "text": [
      "[########################################################################] 100%\n"
     ]
    },
    {
     "name": "stdout",
     "output_type": "stream",
     "text": [
      "1 . ->  53\n"
     ]
    },
    {
     "name": "stderr",
     "output_type": "stream",
     "text": [
      "[########################################################################] 100%\n"
     ]
    },
    {
     "name": "stdout",
     "output_type": "stream",
     "text": [
      "2 . ->  100\n"
     ]
    },
    {
     "name": "stderr",
     "output_type": "stream",
     "text": [
      "[########################################################################] 100%\n"
     ]
    },
    {
     "name": "stdout",
     "output_type": "stream",
     "text": [
      "3 . ->  149\n"
     ]
    },
    {
     "name": "stderr",
     "output_type": "stream",
     "text": [
      "[########################################################################] 100%\n"
     ]
    },
    {
     "name": "stdout",
     "output_type": "stream",
     "text": [
      "4 . ->  195\n"
     ]
    },
    {
     "name": "stderr",
     "output_type": "stream",
     "text": [
      "[########################################################################] 100%\n"
     ]
    },
    {
     "name": "stdout",
     "output_type": "stream",
     "text": [
      "5 . ->  243\n"
     ]
    },
    {
     "name": "stderr",
     "output_type": "stream",
     "text": [
      "[########################################################################] 100%\n"
     ]
    },
    {
     "name": "stdout",
     "output_type": "stream",
     "text": [
      "6 . ->  291\n"
     ]
    },
    {
     "name": "stderr",
     "output_type": "stream",
     "text": [
      "[########################################################################] 100%\n"
     ]
    },
    {
     "name": "stdout",
     "output_type": "stream",
     "text": [
      "7 . ->  338\n"
     ]
    },
    {
     "name": "stderr",
     "output_type": "stream",
     "text": [
      "[########################################################################] 100%\n"
     ]
    },
    {
     "name": "stdout",
     "output_type": "stream",
     "text": [
      "8 . ->  389\n"
     ]
    },
    {
     "name": "stderr",
     "output_type": "stream",
     "text": [
      "[########################################################################] 100%\n"
     ]
    },
    {
     "name": "stdout",
     "output_type": "stream",
     "text": [
      "9 . ->  441\n"
     ]
    },
    {
     "name": "stderr",
     "output_type": "stream",
     "text": [
      "[########################################################################] 100%\n"
     ]
    },
    {
     "name": "stdout",
     "output_type": "stream",
     "text": [
      "10 . ->  493\n",
      "493\n"
     ]
    }
   ],
   "source": [
    "tab_ada2 = CrossVal(model = AdaBoostClassifier(learning_rate=.1), \n",
    "                   estimator_list=[400], \n",
    "                   train_data=train1, \n",
    "                   test_data=test1, \n",
    "                   kombinace=\"all\", \n",
    "                   params = [[4, 6], [8, 10], [12, 14, 16], range(5,17)],\n",
    "                   model_nm=\"AdaBoost_lr=0.1\", \n",
    "                   dataset_nm=\"second\",\n",
    "                   model_name_param=False)"
   ]
  },
  {
   "cell_type": "code",
   "execution_count": 147,
   "metadata": {
    "collapsed": true
   },
   "outputs": [
    {
     "name": "stderr",
     "output_type": "stream",
     "text": [
      "[########################################################################] 100%\n"
     ]
    },
    {
     "name": "stdout",
     "output_type": "stream",
     "text": [
      "1 . ->  113\n"
     ]
    },
    {
     "name": "stderr",
     "output_type": "stream",
     "text": [
      "[########################################################################] 100%\n"
     ]
    },
    {
     "name": "stdout",
     "output_type": "stream",
     "text": [
      "2 . ->  226\n"
     ]
    },
    {
     "name": "stderr",
     "output_type": "stream",
     "text": [
      "[########################################################################] 100%\n"
     ]
    },
    {
     "name": "stdout",
     "output_type": "stream",
     "text": [
      "3 . ->  348\n"
     ]
    },
    {
     "name": "stderr",
     "output_type": "stream",
     "text": [
      "[########################################################################] 100%\n"
     ]
    },
    {
     "name": "stdout",
     "output_type": "stream",
     "text": [
      "4 . ->  472\n"
     ]
    },
    {
     "name": "stderr",
     "output_type": "stream",
     "text": [
      "[########################################################################] 100%\n"
     ]
    },
    {
     "name": "stdout",
     "output_type": "stream",
     "text": [
      "5 . ->  58143\n"
     ]
    },
    {
     "name": "stderr",
     "output_type": "stream",
     "text": [
      "[########################################################################] 100%\n"
     ]
    },
    {
     "name": "stdout",
     "output_type": "stream",
     "text": [
      "6 . ->  58269\n"
     ]
    },
    {
     "name": "stderr",
     "output_type": "stream",
     "text": [
      "[########################################################################] 100%\n"
     ]
    },
    {
     "name": "stdout",
     "output_type": "stream",
     "text": [
      "7 . ->  58380\n"
     ]
    },
    {
     "name": "stderr",
     "output_type": "stream",
     "text": [
      "[########################################################################] 100%\n"
     ]
    },
    {
     "name": "stdout",
     "output_type": "stream",
     "text": [
      "8 . ->  58501\n"
     ]
    },
    {
     "name": "stderr",
     "output_type": "stream",
     "text": [
      "[########################################################################] 100%\n"
     ]
    },
    {
     "name": "stdout",
     "output_type": "stream",
     "text": [
      "9 . ->  58631\n"
     ]
    },
    {
     "name": "stderr",
     "output_type": "stream",
     "text": [
      "[########################################################################] 100%\n"
     ]
    },
    {
     "name": "stdout",
     "output_type": "stream",
     "text": [
      "10 . ->  58760\n",
      "58760\n"
     ]
    }
   ],
   "source": [
    "tab_ada3 = CrossVal(model = AdaBoostClassifier(learning_rate=.1), \n",
    "                   estimator_list=[1000], \n",
    "                   train_data=train1, \n",
    "                   test_data=test1, \n",
    "                   kombinace=\"all\", \n",
    "                   params = [[4, 6], [8, 10], [12, 14, 16], range(5,17)],\n",
    "                   model_nm=\"AdaBoost_nestim=1000_lr=0.1\", \n",
    "                   dataset_nm=\"second\",\n",
    "                   model_name_param=False)"
   ]
  },
  {
   "cell_type": "code",
   "execution_count": 154,
   "metadata": {},
   "outputs": [
    {
     "data": {
      "text/html": [
       "<div>\n",
       "<style>\n",
       "    .dataframe thead tr:only-child th {\n",
       "        text-align: right;\n",
       "    }\n",
       "\n",
       "    .dataframe thead th {\n",
       "        text-align: left;\n",
       "    }\n",
       "\n",
       "    .dataframe tbody tr th {\n",
       "        vertical-align: top;\n",
       "    }\n",
       "</style>\n",
       "<table border=\"1\" class=\"dataframe\">\n",
       "  <thead>\n",
       "    <tr style=\"text-align: right;\">\n",
       "      <th></th>\n",
       "      <th>n_estim</th>\n",
       "      <th>Kombinace rysů</th>\n",
       "      <th>délky úseku</th>\n",
       "      <th>Accuracy</th>\n",
       "      <th>Chyby</th>\n",
       "      <th>F míra stavu 0</th>\n",
       "      <th>F míra stavu 1</th>\n",
       "      <th>F míra stavu 2</th>\n",
       "      <th>F míra průměrná</th>\n",
       "      <th>Precision stavu 0</th>\n",
       "      <th>Precision stavu 1</th>\n",
       "      <th>Precision stavu 2</th>\n",
       "      <th>Recall stavu 0</th>\n",
       "      <th>Recall stavu 1</th>\n",
       "      <th>Recall stavu 2</th>\n",
       "    </tr>\n",
       "  </thead>\n",
       "  <tbody>\n",
       "    <tr>\n",
       "      <th>0</th>\n",
       "      <td>400</td>\n",
       "      <td>(1, 1, 1, 1, 1)</td>\n",
       "      <td>[[4, 6], [8, 10], [12, 14, 16], (5, 6, 7, 8, 9...</td>\n",
       "      <td>0.799049</td>\n",
       "      <td>676</td>\n",
       "      <td>0.868664</td>\n",
       "      <td>0.666667</td>\n",
       "      <td>0.76492</td>\n",
       "      <td>0.76675</td>\n",
       "      <td>0.890201</td>\n",
       "      <td>0.505131</td>\n",
       "      <td>0.929382</td>\n",
       "      <td>0.848144</td>\n",
       "      <td>0.980088</td>\n",
       "      <td>0.649912</td>\n",
       "    </tr>\n",
       "  </tbody>\n",
       "</table>\n",
       "</div>"
      ],
      "text/plain": [
       "   n_estim   Kombinace rysů  \\\n",
       "0      400  (1, 1, 1, 1, 1)   \n",
       "\n",
       "                                         délky úseku  Accuracy  Chyby  \\\n",
       "0  [[4, 6], [8, 10], [12, 14, 16], (5, 6, 7, 8, 9...  0.799049    676   \n",
       "\n",
       "   F míra stavu 0  F míra stavu 1  F míra stavu 2  F míra průměrná  \\\n",
       "0        0.868664        0.666667         0.76492          0.76675   \n",
       "\n",
       "   Precision stavu 0  Precision stavu 1  Precision stavu 2  Recall stavu 0  \\\n",
       "0           0.890201           0.505131           0.929382        0.848144   \n",
       "\n",
       "   Recall stavu 1  Recall stavu 2  \n",
       "0        0.980088        0.649912  "
      ]
     },
     "execution_count": 154,
     "metadata": {},
     "output_type": "execute_result"
    }
   ],
   "source": [
    "tab_ada2[0]"
   ]
  },
  {
   "cell_type": "markdown",
   "metadata": {},
   "source": [
    "## Gradient boosting"
   ]
  },
  {
   "cell_type": "code",
   "execution_count": 155,
   "metadata": {
    "collapsed": true
   },
   "outputs": [
    {
     "name": "stderr",
     "output_type": "stream",
     "text": [
      "[########################################################################] 100%\n"
     ]
    },
    {
     "name": "stdout",
     "output_type": "stream",
     "text": [
      "1 . ->  100\n"
     ]
    },
    {
     "name": "stderr",
     "output_type": "stream",
     "text": [
      "[########################################################################] 100%\n"
     ]
    },
    {
     "name": "stdout",
     "output_type": "stream",
     "text": [
      "2 . ->  196\n"
     ]
    },
    {
     "name": "stderr",
     "output_type": "stream",
     "text": [
      "[########################################################################] 100%\n"
     ]
    },
    {
     "name": "stdout",
     "output_type": "stream",
     "text": [
      "3 . ->  297\n"
     ]
    },
    {
     "name": "stderr",
     "output_type": "stream",
     "text": [
      "[########################################################################] 100%\n"
     ]
    },
    {
     "name": "stdout",
     "output_type": "stream",
     "text": [
      "4 . ->  405\n"
     ]
    },
    {
     "name": "stderr",
     "output_type": "stream",
     "text": [
      "[########################################################################] 100%\n"
     ]
    },
    {
     "name": "stdout",
     "output_type": "stream",
     "text": [
      "5 . ->  520\n"
     ]
    },
    {
     "name": "stderr",
     "output_type": "stream",
     "text": [
      "[########################################################################] 100%\n"
     ]
    },
    {
     "name": "stdout",
     "output_type": "stream",
     "text": [
      "6 . ->  641\n"
     ]
    },
    {
     "name": "stderr",
     "output_type": "stream",
     "text": [
      "[########################################################################] 100%\n"
     ]
    },
    {
     "name": "stdout",
     "output_type": "stream",
     "text": [
      "7 . ->  753\n"
     ]
    },
    {
     "name": "stderr",
     "output_type": "stream",
     "text": [
      "[########################################################################] 100%\n"
     ]
    },
    {
     "name": "stdout",
     "output_type": "stream",
     "text": [
      "8 . ->  869\n"
     ]
    },
    {
     "name": "stderr",
     "output_type": "stream",
     "text": [
      "[########################################################################] 100%\n"
     ]
    },
    {
     "name": "stdout",
     "output_type": "stream",
     "text": [
      "9 . ->  976\n"
     ]
    },
    {
     "name": "stderr",
     "output_type": "stream",
     "text": [
      "[########################################################################] 100%\n"
     ]
    },
    {
     "name": "stdout",
     "output_type": "stream",
     "text": [
      "10 . ->  1074\n",
      "1074\n"
     ]
    }
   ],
   "source": [
    "tab_grad0 = CrossVal(model = GradientBoostingClassifier(), \n",
    "                   estimator_list=[400], \n",
    "                   train_data=train1, \n",
    "                   test_data=test1, \n",
    "                   kombinace=\"all\", \n",
    "                   params = [[4, 6], [8, 10], [12, 14, 16], range(5,17)],\n",
    "                   model_nm=\"GradientBoosting\", \n",
    "                   dataset_nm=\"second\",\n",
    "                   model_name_param=False)"
   ]
  },
  {
   "cell_type": "code",
   "execution_count": 156,
   "metadata": {
    "collapsed": true
   },
   "outputs": [
    {
     "name": "stderr",
     "output_type": "stream",
     "text": [
      "[########################################################################] 100%\n"
     ]
    },
    {
     "name": "stdout",
     "output_type": "stream",
     "text": [
      "1 . ->  241\n"
     ]
    },
    {
     "name": "stderr",
     "output_type": "stream",
     "text": [
      "[########################################################################] 100%\n"
     ]
    },
    {
     "name": "stdout",
     "output_type": "stream",
     "text": [
      "2 . ->  479\n"
     ]
    },
    {
     "name": "stderr",
     "output_type": "stream",
     "text": [
      "[########################################################################] 100%\n"
     ]
    },
    {
     "name": "stdout",
     "output_type": "stream",
     "text": [
      "3 . ->  762\n"
     ]
    },
    {
     "name": "stderr",
     "output_type": "stream",
     "text": [
      "[########################################################################] 100%\n"
     ]
    },
    {
     "name": "stdout",
     "output_type": "stream",
     "text": [
      "4 . ->  1041\n"
     ]
    },
    {
     "name": "stderr",
     "output_type": "stream",
     "text": [
      "[########################################################################] 100%\n"
     ]
    },
    {
     "name": "stdout",
     "output_type": "stream",
     "text": [
      "5 . ->  1286\n"
     ]
    },
    {
     "name": "stderr",
     "output_type": "stream",
     "text": [
      "[########################################################################] 100%\n"
     ]
    },
    {
     "name": "stdout",
     "output_type": "stream",
     "text": [
      "6 . ->  1531\n"
     ]
    },
    {
     "name": "stderr",
     "output_type": "stream",
     "text": [
      "[########################################################################] 100%\n"
     ]
    },
    {
     "name": "stdout",
     "output_type": "stream",
     "text": [
      "7 . ->  1763\n"
     ]
    },
    {
     "name": "stderr",
     "output_type": "stream",
     "text": [
      "[########################################################################] 100%\n"
     ]
    },
    {
     "name": "stdout",
     "output_type": "stream",
     "text": [
      "8 . ->  1998\n"
     ]
    },
    {
     "name": "stderr",
     "output_type": "stream",
     "text": [
      "[########################################################################] 100%\n"
     ]
    },
    {
     "name": "stdout",
     "output_type": "stream",
     "text": [
      "9 . ->  2237\n"
     ]
    },
    {
     "name": "stderr",
     "output_type": "stream",
     "text": [
      "[########################################################################] 100%\n"
     ]
    },
    {
     "name": "stdout",
     "output_type": "stream",
     "text": [
      "10 . ->  2495\n",
      "2495\n"
     ]
    }
   ],
   "source": [
    "tab_grad0 = CrossVal(model = GradientBoostingClassifier(), \n",
    "                   estimator_list=[1000], \n",
    "                   train_data=train1, \n",
    "                   test_data=test1, \n",
    "                   kombinace=\"all\", \n",
    "                   params = [[4, 6], [8, 10], [12, 14, 16], range(5,17)],\n",
    "                   model_nm=\"GradientBoosting_nestim=1000\", \n",
    "                   dataset_nm=\"second\",\n",
    "                   model_name_param=False)"
   ]
  },
  {
   "cell_type": "markdown",
   "metadata": {},
   "source": [
    "## Random Forest"
   ]
  },
  {
   "cell_type": "code",
   "execution_count": 157,
   "metadata": {
    "collapsed": true
   },
   "outputs": [
    {
     "name": "stderr",
     "output_type": "stream",
     "text": [
      "[########################################################################] 100%\n"
     ]
    },
    {
     "name": "stdout",
     "output_type": "stream",
     "text": [
      "1 . ->  345\n"
     ]
    },
    {
     "name": "stderr",
     "output_type": "stream",
     "text": [
      "[########################################################################] 100%\n"
     ]
    },
    {
     "name": "stdout",
     "output_type": "stream",
     "text": [
      "2 . ->  726\n"
     ]
    },
    {
     "name": "stderr",
     "output_type": "stream",
     "text": [
      "[########################################################################] 100%\n"
     ]
    },
    {
     "name": "stdout",
     "output_type": "stream",
     "text": [
      "3 . ->  1101\n"
     ]
    },
    {
     "name": "stderr",
     "output_type": "stream",
     "text": [
      "[########################################################################] 100%\n"
     ]
    },
    {
     "name": "stdout",
     "output_type": "stream",
     "text": [
      "4 . ->  1439\n"
     ]
    },
    {
     "name": "stderr",
     "output_type": "stream",
     "text": [
      "[########################################################################] 100%\n"
     ]
    },
    {
     "name": "stdout",
     "output_type": "stream",
     "text": [
      "5 . ->  1778\n"
     ]
    },
    {
     "name": "stderr",
     "output_type": "stream",
     "text": [
      "[########################################################################] 100%\n"
     ]
    },
    {
     "name": "stdout",
     "output_type": "stream",
     "text": [
      "6 . ->  2138\n"
     ]
    },
    {
     "name": "stderr",
     "output_type": "stream",
     "text": [
      "[########################################################################] 100%\n"
     ]
    },
    {
     "name": "stdout",
     "output_type": "stream",
     "text": [
      "7 . ->  2512\n"
     ]
    },
    {
     "name": "stderr",
     "output_type": "stream",
     "text": [
      "[########################################################################] 100%\n"
     ]
    },
    {
     "name": "stdout",
     "output_type": "stream",
     "text": [
      "8 . ->  2902\n"
     ]
    },
    {
     "name": "stderr",
     "output_type": "stream",
     "text": [
      "[########################################################################] 100%\n"
     ]
    },
    {
     "name": "stdout",
     "output_type": "stream",
     "text": [
      "9 . ->  3285\n"
     ]
    },
    {
     "name": "stderr",
     "output_type": "stream",
     "text": [
      "[########################################################################] 100%\n"
     ]
    },
    {
     "name": "stdout",
     "output_type": "stream",
     "text": [
      "10 . ->  3675\n",
      "3675\n"
     ]
    }
   ],
   "source": [
    "tab_RF_3_0 = CrossVal(model = RandomForestClassifier(criterion=\"entropy\", max_depth=3), \n",
    "                   estimator_list=np.linspace(5,250,50,dtype=int).tolist(), \n",
    "                   train_data=train1, \n",
    "                   test_data=test1, \n",
    "                   kombinace=\"all\", \n",
    "                   params = [[4, 6], [8, 10], [12, 14, 16], range(5,17)],\n",
    "                   model_nm=\"RandomForest_0\", \n",
    "                   dataset_nm=\"second\")"
   ]
  },
  {
   "cell_type": "code",
   "execution_count": 158,
   "metadata": {
    "collapsed": true
   },
   "outputs": [
    {
     "name": "stderr",
     "output_type": "stream",
     "text": [
      "[########################################################################] 100%\n"
     ]
    },
    {
     "name": "stdout",
     "output_type": "stream",
     "text": [
      "1 . ->  383\n"
     ]
    },
    {
     "name": "stderr",
     "output_type": "stream",
     "text": [
      "[########################################################################] 100%\n"
     ]
    },
    {
     "name": "stdout",
     "output_type": "stream",
     "text": [
      "2 . ->  740\n"
     ]
    },
    {
     "name": "stderr",
     "output_type": "stream",
     "text": [
      "[########################################################################] 100%\n"
     ]
    },
    {
     "name": "stdout",
     "output_type": "stream",
     "text": [
      "3 . ->  1141\n"
     ]
    },
    {
     "name": "stderr",
     "output_type": "stream",
     "text": [
      "[########################################################################] 100%\n"
     ]
    },
    {
     "name": "stdout",
     "output_type": "stream",
     "text": [
      "4 . ->  1528\n"
     ]
    },
    {
     "name": "stderr",
     "output_type": "stream",
     "text": [
      "[########################################################################] 100%\n"
     ]
    },
    {
     "name": "stdout",
     "output_type": "stream",
     "text": [
      "5 . ->  1914\n"
     ]
    },
    {
     "name": "stderr",
     "output_type": "stream",
     "text": [
      "[########################################################################] 100%\n"
     ]
    },
    {
     "name": "stdout",
     "output_type": "stream",
     "text": [
      "6 . ->  2295\n"
     ]
    },
    {
     "name": "stderr",
     "output_type": "stream",
     "text": [
      "[########################################################################] 100%\n"
     ]
    },
    {
     "name": "stdout",
     "output_type": "stream",
     "text": [
      "7 . ->  2667\n"
     ]
    },
    {
     "name": "stderr",
     "output_type": "stream",
     "text": [
      "[########################################################################] 100%\n"
     ]
    },
    {
     "name": "stdout",
     "output_type": "stream",
     "text": [
      "8 . ->  3053\n"
     ]
    },
    {
     "name": "stderr",
     "output_type": "stream",
     "text": [
      "[########################################################################] 100%\n"
     ]
    },
    {
     "name": "stdout",
     "output_type": "stream",
     "text": [
      "9 . ->  3435\n"
     ]
    },
    {
     "name": "stderr",
     "output_type": "stream",
     "text": [
      "[########################################################################] 100%\n"
     ]
    },
    {
     "name": "stdout",
     "output_type": "stream",
     "text": [
      "10 . ->  3821\n",
      "3821\n"
     ]
    }
   ],
   "source": [
    "tab_RF_3_1 = CrossVal(model = RandomForestClassifier(criterion=\"entropy\", max_depth=3), \n",
    "                   estimator_list=np.linspace(5,250,50,dtype=int).tolist(), \n",
    "                   train_data=train1, \n",
    "                   test_data=test1, \n",
    "                   kombinace=\"all\", \n",
    "                   params = [[4, 6], [8, 10], [12, 14, 16], range(5,17)],\n",
    "                   model_nm=\"RandomForest_1\", \n",
    "                   dataset_nm=\"second\")"
   ]
  },
  {
   "cell_type": "code",
   "execution_count": 159,
   "metadata": {
    "collapsed": true
   },
   "outputs": [
    {
     "name": "stderr",
     "output_type": "stream",
     "text": [
      "[########################################################################] 100%\n"
     ]
    },
    {
     "name": "stdout",
     "output_type": "stream",
     "text": [
      "1 . ->  350\n"
     ]
    },
    {
     "name": "stderr",
     "output_type": "stream",
     "text": [
      "[########################################################################] 100%\n"
     ]
    },
    {
     "name": "stdout",
     "output_type": "stream",
     "text": [
      "2 . ->  743\n"
     ]
    },
    {
     "name": "stderr",
     "output_type": "stream",
     "text": [
      "[########################################################################] 100%\n"
     ]
    },
    {
     "name": "stdout",
     "output_type": "stream",
     "text": [
      "3 . ->  1141\n"
     ]
    },
    {
     "name": "stderr",
     "output_type": "stream",
     "text": [
      "[########################################################################] 100%\n"
     ]
    },
    {
     "name": "stdout",
     "output_type": "stream",
     "text": [
      "4 . ->  1533\n"
     ]
    },
    {
     "name": "stderr",
     "output_type": "stream",
     "text": [
      "[########################################################################] 100%\n"
     ]
    },
    {
     "name": "stdout",
     "output_type": "stream",
     "text": [
      "5 . ->  1885\n"
     ]
    },
    {
     "name": "stderr",
     "output_type": "stream",
     "text": [
      "[########################################################################] 100%\n"
     ]
    },
    {
     "name": "stdout",
     "output_type": "stream",
     "text": [
      "6 . ->  2282\n"
     ]
    },
    {
     "name": "stderr",
     "output_type": "stream",
     "text": [
      "[########################################################################] 100%\n"
     ]
    },
    {
     "name": "stdout",
     "output_type": "stream",
     "text": [
      "7 . ->  2661\n"
     ]
    },
    {
     "name": "stderr",
     "output_type": "stream",
     "text": [
      "[########################################################################] 100%\n"
     ]
    },
    {
     "name": "stdout",
     "output_type": "stream",
     "text": [
      "8 . ->  3048\n"
     ]
    },
    {
     "name": "stderr",
     "output_type": "stream",
     "text": [
      "[########################################################################] 100%\n"
     ]
    },
    {
     "name": "stdout",
     "output_type": "stream",
     "text": [
      "9 . ->  3424\n"
     ]
    },
    {
     "name": "stderr",
     "output_type": "stream",
     "text": [
      "[########################################################################] 100%\n"
     ]
    },
    {
     "name": "stdout",
     "output_type": "stream",
     "text": [
      "10 . ->  3785\n",
      "3785\n"
     ]
    }
   ],
   "source": [
    "tab_RF_3_2 = CrossVal(model = RandomForestClassifier(criterion=\"entropy\", max_depth=3), \n",
    "                   estimator_list=np.linspace(5,250,50,dtype=int).tolist(), \n",
    "                   train_data=train1, \n",
    "                   test_data=test1, \n",
    "                   kombinace=\"all\", \n",
    "                   params = [[4, 6], [8, 10], [12, 14, 16], range(5,17)],\n",
    "                   model_nm=\"RandomForest_2\", \n",
    "                   dataset_nm=\"second\")"
   ]
  },
  {
   "cell_type": "code",
   "execution_count": 160,
   "metadata": {
    "collapsed": true
   },
   "outputs": [
    {
     "name": "stderr",
     "output_type": "stream",
     "text": [
      "[########################################################################] 100%\n"
     ]
    },
    {
     "name": "stdout",
     "output_type": "stream",
     "text": [
      "1 . ->  386\n"
     ]
    },
    {
     "name": "stderr",
     "output_type": "stream",
     "text": [
      "[########################################################################] 100%\n"
     ]
    },
    {
     "name": "stdout",
     "output_type": "stream",
     "text": [
      "2 . ->  769\n"
     ]
    },
    {
     "name": "stderr",
     "output_type": "stream",
     "text": [
      "[########################################################################] 100%\n"
     ]
    },
    {
     "name": "stdout",
     "output_type": "stream",
     "text": [
      "3 . ->  1162\n"
     ]
    },
    {
     "name": "stderr",
     "output_type": "stream",
     "text": [
      "[########################################################################] 100%\n"
     ]
    },
    {
     "name": "stdout",
     "output_type": "stream",
     "text": [
      "4 . ->  1540\n"
     ]
    },
    {
     "name": "stderr",
     "output_type": "stream",
     "text": [
      "[########################################################################] 100%\n"
     ]
    },
    {
     "name": "stdout",
     "output_type": "stream",
     "text": [
      "5 . ->  1923\n"
     ]
    },
    {
     "name": "stderr",
     "output_type": "stream",
     "text": [
      "[########################################################################] 100%\n"
     ]
    },
    {
     "name": "stdout",
     "output_type": "stream",
     "text": [
      "6 . ->  2321\n"
     ]
    },
    {
     "name": "stderr",
     "output_type": "stream",
     "text": [
      "[########################################################################] 100%\n"
     ]
    },
    {
     "name": "stdout",
     "output_type": "stream",
     "text": [
      "7 . ->  2676\n"
     ]
    },
    {
     "name": "stderr",
     "output_type": "stream",
     "text": [
      "[########################################################################] 100%\n"
     ]
    },
    {
     "name": "stdout",
     "output_type": "stream",
     "text": [
      "8 . ->  3056\n"
     ]
    },
    {
     "name": "stderr",
     "output_type": "stream",
     "text": [
      "[########################################################################] 100%\n"
     ]
    },
    {
     "name": "stdout",
     "output_type": "stream",
     "text": [
      "9 . ->  3435\n"
     ]
    },
    {
     "name": "stderr",
     "output_type": "stream",
     "text": [
      "[########################################################################] 100%\n"
     ]
    },
    {
     "name": "stdout",
     "output_type": "stream",
     "text": [
      "10 . ->  3795\n",
      "3795\n"
     ]
    }
   ],
   "source": [
    "tab_RF_3_3 = CrossVal(model = RandomForestClassifier(criterion=\"entropy\", max_depth=3), \n",
    "                   estimator_list=np.linspace(5,250,50,dtype=int).tolist(), \n",
    "                   train_data=train1, \n",
    "                   test_data=test1, \n",
    "                   kombinace=\"all\", \n",
    "                   params = [[4, 6], [8, 10], [12, 14, 16], range(5,17)],\n",
    "                   model_nm=\"RandomForest_3\", \n",
    "                   dataset_nm=\"second\")"
   ]
  },
  {
   "cell_type": "code",
   "execution_count": 161,
   "metadata": {
    "collapsed": true
   },
   "outputs": [
    {
     "name": "stderr",
     "output_type": "stream",
     "text": [
      "[########################################################################] 100%\n"
     ]
    },
    {
     "name": "stdout",
     "output_type": "stream",
     "text": [
      "1 . ->  383\n"
     ]
    },
    {
     "name": "stderr",
     "output_type": "stream",
     "text": [
      "[########################################################################] 100%\n"
     ]
    },
    {
     "name": "stdout",
     "output_type": "stream",
     "text": [
      "2 . ->  737\n"
     ]
    },
    {
     "name": "stderr",
     "output_type": "stream",
     "text": [
      "[########################################################################] 100%\n"
     ]
    },
    {
     "name": "stdout",
     "output_type": "stream",
     "text": [
      "3 . ->  1096\n"
     ]
    },
    {
     "name": "stderr",
     "output_type": "stream",
     "text": [
      "[########################################################################] 100%\n"
     ]
    },
    {
     "name": "stdout",
     "output_type": "stream",
     "text": [
      "4 . ->  1441\n"
     ]
    },
    {
     "name": "stderr",
     "output_type": "stream",
     "text": [
      "[########################################################################] 100%\n"
     ]
    },
    {
     "name": "stdout",
     "output_type": "stream",
     "text": [
      "5 . ->  1791\n"
     ]
    },
    {
     "name": "stderr",
     "output_type": "stream",
     "text": [
      "[########################################################################] 100%\n"
     ]
    },
    {
     "name": "stdout",
     "output_type": "stream",
     "text": [
      "6 . ->  2188\n"
     ]
    },
    {
     "name": "stderr",
     "output_type": "stream",
     "text": [
      "[########################################################################] 100%\n"
     ]
    },
    {
     "name": "stdout",
     "output_type": "stream",
     "text": [
      "7 . ->  2549\n"
     ]
    },
    {
     "name": "stderr",
     "output_type": "stream",
     "text": [
      "[########################################################################] 100%\n"
     ]
    },
    {
     "name": "stdout",
     "output_type": "stream",
     "text": [
      "8 . ->  2894\n"
     ]
    },
    {
     "name": "stderr",
     "output_type": "stream",
     "text": [
      "[########################################################################] 100%\n"
     ]
    },
    {
     "name": "stdout",
     "output_type": "stream",
     "text": [
      "9 . ->  3236\n"
     ]
    },
    {
     "name": "stderr",
     "output_type": "stream",
     "text": [
      "[########################################################################] 100%\n"
     ]
    },
    {
     "name": "stdout",
     "output_type": "stream",
     "text": [
      "10 . ->  3582\n",
      "3582\n"
     ]
    }
   ],
   "source": [
    "tab_RF_3_4 = CrossVal(model = RandomForestClassifier(criterion=\"entropy\", max_depth=3), \n",
    "                   estimator_list=np.linspace(5,250,50,dtype=int).tolist(), \n",
    "                   train_data=train1, \n",
    "                   test_data=test1, \n",
    "                   kombinace=\"all\", \n",
    "                   params = [[4, 6], [8, 10], [12, 14, 16], range(5,17)],\n",
    "                   model_nm=\"RandomForest_4\", \n",
    "                   dataset_nm=\"second\")"
   ]
  },
  {
   "cell_type": "code",
   "execution_count": 162,
   "metadata": {
    "collapsed": true
   },
   "outputs": [
    {
     "name": "stderr",
     "output_type": "stream",
     "text": [
      "[########################################################################] 100%\n"
     ]
    },
    {
     "name": "stdout",
     "output_type": "stream",
     "text": [
      "1 . ->  565\n"
     ]
    },
    {
     "name": "stderr",
     "output_type": "stream",
     "text": [
      "[########################################################################] 100%\n"
     ]
    },
    {
     "name": "stdout",
     "output_type": "stream",
     "text": [
      "2 . ->  1161\n"
     ]
    },
    {
     "name": "stderr",
     "output_type": "stream",
     "text": [
      "[########################################################################] 100%\n"
     ]
    },
    {
     "name": "stdout",
     "output_type": "stream",
     "text": [
      "3 . ->  1778\n"
     ]
    },
    {
     "name": "stderr",
     "output_type": "stream",
     "text": [
      "[########################################################################] 100%\n"
     ]
    },
    {
     "name": "stdout",
     "output_type": "stream",
     "text": [
      "4 . ->  2369\n"
     ]
    },
    {
     "name": "stderr",
     "output_type": "stream",
     "text": [
      "[########################################################################] 100%\n"
     ]
    },
    {
     "name": "stdout",
     "output_type": "stream",
     "text": [
      "5 . ->  2956\n"
     ]
    },
    {
     "name": "stderr",
     "output_type": "stream",
     "text": [
      "[########################################################################] 100%\n"
     ]
    },
    {
     "name": "stdout",
     "output_type": "stream",
     "text": [
      "6 . ->  3561\n"
     ]
    },
    {
     "name": "stderr",
     "output_type": "stream",
     "text": [
      "[########################################################################] 100%\n"
     ]
    },
    {
     "name": "stdout",
     "output_type": "stream",
     "text": [
      "7 . ->  4157\n"
     ]
    },
    {
     "name": "stderr",
     "output_type": "stream",
     "text": [
      "[########################################################################] 100%\n"
     ]
    },
    {
     "name": "stdout",
     "output_type": "stream",
     "text": [
      "8 . ->  4761\n"
     ]
    },
    {
     "name": "stderr",
     "output_type": "stream",
     "text": [
      "[########################################################################] 100%\n"
     ]
    },
    {
     "name": "stdout",
     "output_type": "stream",
     "text": [
      "9 . ->  5360\n"
     ]
    },
    {
     "name": "stderr",
     "output_type": "stream",
     "text": [
      "[########################################################################] 100%\n"
     ]
    },
    {
     "name": "stdout",
     "output_type": "stream",
     "text": [
      "10 . ->  5967\n",
      "5967\n"
     ]
    }
   ],
   "source": [
    "tab_RF_5_0 = CrossVal(model = RandomForestClassifier(criterion=\"entropy\", max_depth=5), \n",
    "                   estimator_list=np.linspace(5,250,50,dtype=int).tolist(), \n",
    "                   train_data=train1, \n",
    "                   test_data=test1, \n",
    "                   kombinace=\"all\", \n",
    "                   params = [[4, 6], [8, 10], [12, 14, 16], range(5,17)],\n",
    "                   model_nm=\"RandomForest_0\", \n",
    "                   dataset_nm=\"second\")"
   ]
  },
  {
   "cell_type": "code",
   "execution_count": 163,
   "metadata": {
    "collapsed": true
   },
   "outputs": [
    {
     "name": "stderr",
     "output_type": "stream",
     "text": [
      "[########################################################################] 100%\n"
     ]
    },
    {
     "name": "stdout",
     "output_type": "stream",
     "text": [
      "1 . ->  599\n"
     ]
    },
    {
     "name": "stderr",
     "output_type": "stream",
     "text": [
      "[########################################################################] 100%\n"
     ]
    },
    {
     "name": "stdout",
     "output_type": "stream",
     "text": [
      "2 . ->  1197\n"
     ]
    },
    {
     "name": "stderr",
     "output_type": "stream",
     "text": [
      "[########################################################################] 100%\n"
     ]
    },
    {
     "name": "stdout",
     "output_type": "stream",
     "text": [
      "3 . ->  1818\n"
     ]
    },
    {
     "name": "stderr",
     "output_type": "stream",
     "text": [
      "[########################################################################] 100%\n"
     ]
    },
    {
     "name": "stdout",
     "output_type": "stream",
     "text": [
      "4 . ->  2412\n"
     ]
    },
    {
     "name": "stderr",
     "output_type": "stream",
     "text": [
      "[########################################################################] 100%\n"
     ]
    },
    {
     "name": "stdout",
     "output_type": "stream",
     "text": [
      "5 . ->  3014\n"
     ]
    },
    {
     "name": "stderr",
     "output_type": "stream",
     "text": [
      "[########################################################################] 100%\n"
     ]
    },
    {
     "name": "stdout",
     "output_type": "stream",
     "text": [
      "6 . ->  3640\n"
     ]
    },
    {
     "name": "stderr",
     "output_type": "stream",
     "text": [
      "[########################################################################] 100%\n"
     ]
    },
    {
     "name": "stdout",
     "output_type": "stream",
     "text": [
      "7 . ->  4202\n"
     ]
    },
    {
     "name": "stderr",
     "output_type": "stream",
     "text": [
      "[########################################################################] 100%\n"
     ]
    },
    {
     "name": "stdout",
     "output_type": "stream",
     "text": [
      "8 . ->  4811\n"
     ]
    },
    {
     "name": "stderr",
     "output_type": "stream",
     "text": [
      "[########################################################################] 100%\n"
     ]
    },
    {
     "name": "stdout",
     "output_type": "stream",
     "text": [
      "9 . ->  5413\n"
     ]
    },
    {
     "name": "stderr",
     "output_type": "stream",
     "text": [
      "[########################################################################] 100%\n"
     ]
    },
    {
     "name": "stdout",
     "output_type": "stream",
     "text": [
      "10 . ->  6029\n",
      "6029\n"
     ]
    }
   ],
   "source": [
    "tab_RF_5_1 = CrossVal(model = RandomForestClassifier(criterion=\"entropy\", max_depth=5), \n",
    "                   estimator_list=np.linspace(5,250,50,dtype=int).tolist(), \n",
    "                   train_data=train1, \n",
    "                   test_data=test1, \n",
    "                   kombinace=\"all\", \n",
    "                   params = [[4, 6], [8, 10], [12, 14, 16], range(5,17)],\n",
    "                   model_nm=\"RandomForest_1\", \n",
    "                   dataset_nm=\"second\")"
   ]
  },
  {
   "cell_type": "code",
   "execution_count": 9,
   "metadata": {
    "collapsed": true
   },
   "outputs": [
    {
     "name": "stderr",
     "output_type": "stream",
     "text": [
      "[########################################################################] 100%\n"
     ]
    },
    {
     "name": "stdout",
     "output_type": "stream",
     "text": [
      "1 . ->  557\n"
     ]
    },
    {
     "name": "stderr",
     "output_type": "stream",
     "text": [
      "[########################################################################] 100%\n"
     ]
    },
    {
     "name": "stdout",
     "output_type": "stream",
     "text": [
      "2 . ->  1121\n"
     ]
    },
    {
     "name": "stderr",
     "output_type": "stream",
     "text": [
      "[########################################################################] 100%\n"
     ]
    },
    {
     "name": "stdout",
     "output_type": "stream",
     "text": [
      "3 . ->  1669\n"
     ]
    },
    {
     "name": "stderr",
     "output_type": "stream",
     "text": [
      "[########################################################################] 100%\n"
     ]
    },
    {
     "name": "stdout",
     "output_type": "stream",
     "text": [
      "4 . ->  2194\n"
     ]
    },
    {
     "name": "stderr",
     "output_type": "stream",
     "text": [
      "[########################################################################] 100%\n"
     ]
    },
    {
     "name": "stdout",
     "output_type": "stream",
     "text": [
      "5 . ->  2724\n"
     ]
    },
    {
     "name": "stderr",
     "output_type": "stream",
     "text": [
      "[########################################################################] 100%\n"
     ]
    },
    {
     "name": "stdout",
     "output_type": "stream",
     "text": [
      "6 . ->  3277\n"
     ]
    },
    {
     "name": "stderr",
     "output_type": "stream",
     "text": [
      "[########################################################################] 100%\n"
     ]
    },
    {
     "name": "stdout",
     "output_type": "stream",
     "text": [
      "7 . ->  3811\n"
     ]
    },
    {
     "name": "stderr",
     "output_type": "stream",
     "text": [
      "[########################################################################] 100%\n"
     ]
    },
    {
     "name": "stdout",
     "output_type": "stream",
     "text": [
      "8 . ->  4345\n"
     ]
    },
    {
     "name": "stderr",
     "output_type": "stream",
     "text": [
      "[########################################################################] 100%\n"
     ]
    },
    {
     "name": "stdout",
     "output_type": "stream",
     "text": [
      "9 . ->  4874\n"
     ]
    },
    {
     "name": "stderr",
     "output_type": "stream",
     "text": [
      "[########################################################################] 100%\n"
     ]
    },
    {
     "name": "stdout",
     "output_type": "stream",
     "text": [
      "10 . ->  5407\n",
      "5407\n"
     ]
    }
   ],
   "source": [
    "tab_RF_5_2 = CrossVal(model = RandomForestClassifier(criterion=\"entropy\", max_depth=5), \n",
    "                   estimator_list=np.linspace(5,250,50,dtype=int).tolist(), \n",
    "                   train_data=train1, \n",
    "                   test_data=test1, \n",
    "                   kombinace=\"all\", \n",
    "                   params = [[4, 6], [8, 10], [12, 14, 16], range(5,17)],\n",
    "                   model_nm=\"RandomForest_2\", \n",
    "                   dataset_nm=\"second\")"
   ]
  },
  {
   "cell_type": "code",
   "execution_count": 10,
   "metadata": {
    "collapsed": true
   },
   "outputs": [
    {
     "name": "stderr",
     "output_type": "stream",
     "text": [
      "[########################################################################] 100%\n"
     ]
    },
    {
     "name": "stdout",
     "output_type": "stream",
     "text": [
      "1 . ->  530\n"
     ]
    },
    {
     "name": "stderr",
     "output_type": "stream",
     "text": [
      "[########################################################################] 100%\n"
     ]
    },
    {
     "name": "stdout",
     "output_type": "stream",
     "text": [
      "2 . ->  1059\n"
     ]
    },
    {
     "name": "stderr",
     "output_type": "stream",
     "text": [
      "[########################################################################] 100%\n"
     ]
    },
    {
     "name": "stdout",
     "output_type": "stream",
     "text": [
      "3 . ->  1607\n"
     ]
    },
    {
     "name": "stderr",
     "output_type": "stream",
     "text": [
      "[########################################################################] 100%\n"
     ]
    },
    {
     "name": "stdout",
     "output_type": "stream",
     "text": [
      "4 . ->  2139\n"
     ]
    },
    {
     "name": "stderr",
     "output_type": "stream",
     "text": [
      "[########################################################################] 100%\n"
     ]
    },
    {
     "name": "stdout",
     "output_type": "stream",
     "text": [
      "5 . ->  2714\n"
     ]
    },
    {
     "name": "stderr",
     "output_type": "stream",
     "text": [
      "[########################################################################] 100%\n"
     ]
    },
    {
     "name": "stdout",
     "output_type": "stream",
     "text": [
      "6 . ->  3297\n"
     ]
    },
    {
     "name": "stderr",
     "output_type": "stream",
     "text": [
      "[########################################################################] 100%\n"
     ]
    },
    {
     "name": "stdout",
     "output_type": "stream",
     "text": [
      "7 . ->  3860\n"
     ]
    },
    {
     "name": "stderr",
     "output_type": "stream",
     "text": [
      "[########################################################################] 100%\n"
     ]
    },
    {
     "name": "stdout",
     "output_type": "stream",
     "text": [
      "8 . ->  4391\n"
     ]
    },
    {
     "name": "stderr",
     "output_type": "stream",
     "text": [
      "[########################################################################] 100%\n"
     ]
    },
    {
     "name": "stdout",
     "output_type": "stream",
     "text": [
      "9 . ->  4922\n"
     ]
    },
    {
     "name": "stderr",
     "output_type": "stream",
     "text": [
      "[########################################################################] 100%\n"
     ]
    },
    {
     "name": "stdout",
     "output_type": "stream",
     "text": [
      "10 . ->  5467\n",
      "5467\n"
     ]
    }
   ],
   "source": [
    "tab_RF_5_3 = CrossVal(model = RandomForestClassifier(criterion=\"entropy\", max_depth=5), \n",
    "                   estimator_list=np.linspace(5,250,50,dtype=int).tolist(), \n",
    "                   train_data=train1, \n",
    "                   test_data=test1, \n",
    "                   kombinace=\"all\", \n",
    "                   params = [[4, 6], [8, 10], [12, 14, 16], range(5,17)],\n",
    "                   model_nm=\"RandomForest_3\", \n",
    "                   dataset_nm=\"second\")"
   ]
  },
  {
   "cell_type": "code",
   "execution_count": 11,
   "metadata": {
    "collapsed": true
   },
   "outputs": [
    {
     "name": "stderr",
     "output_type": "stream",
     "text": [
      "[########################################################################] 100%\n"
     ]
    },
    {
     "name": "stdout",
     "output_type": "stream",
     "text": [
      "1 . ->  556\n"
     ]
    },
    {
     "name": "stderr",
     "output_type": "stream",
     "text": [
      "[########################################################################] 100%\n"
     ]
    },
    {
     "name": "stdout",
     "output_type": "stream",
     "text": [
      "2 . ->  1141\n"
     ]
    },
    {
     "name": "stderr",
     "output_type": "stream",
     "text": [
      "[########################################################################] 100%\n"
     ]
    },
    {
     "name": "stdout",
     "output_type": "stream",
     "text": [
      "3 . ->  1745\n"
     ]
    },
    {
     "name": "stderr",
     "output_type": "stream",
     "text": [
      "[########################################################################] 100%\n"
     ]
    },
    {
     "name": "stdout",
     "output_type": "stream",
     "text": [
      "4 . ->  2326\n"
     ]
    },
    {
     "name": "stderr",
     "output_type": "stream",
     "text": [
      "[########################################################################] 100%\n"
     ]
    },
    {
     "name": "stdout",
     "output_type": "stream",
     "text": [
      "5 . ->  2890\n"
     ]
    },
    {
     "name": "stderr",
     "output_type": "stream",
     "text": [
      "[########################################################################] 100%\n"
     ]
    },
    {
     "name": "stdout",
     "output_type": "stream",
     "text": [
      "6 . ->  3494\n"
     ]
    },
    {
     "name": "stderr",
     "output_type": "stream",
     "text": [
      "[########################################################################] 100%\n"
     ]
    },
    {
     "name": "stdout",
     "output_type": "stream",
     "text": [
      "7 . ->  4055\n"
     ]
    },
    {
     "name": "stderr",
     "output_type": "stream",
     "text": [
      "[########################################################################] 100%\n"
     ]
    },
    {
     "name": "stdout",
     "output_type": "stream",
     "text": [
      "8 . ->  4607\n"
     ]
    },
    {
     "name": "stderr",
     "output_type": "stream",
     "text": [
      "[########################################################################] 100%\n"
     ]
    },
    {
     "name": "stdout",
     "output_type": "stream",
     "text": [
      "9 . ->  5190\n"
     ]
    },
    {
     "name": "stderr",
     "output_type": "stream",
     "text": [
      "[########################################################################] 100%\n"
     ]
    },
    {
     "name": "stdout",
     "output_type": "stream",
     "text": [
      "10 . ->  5777\n",
      "5777\n"
     ]
    }
   ],
   "source": [
    "tab_RF_5_4 = CrossVal(model = RandomForestClassifier(criterion=\"entropy\", max_depth=5), \n",
    "                   estimator_list=np.linspace(5,250,50,dtype=int).tolist(), \n",
    "                   train_data=train1, \n",
    "                   test_data=test1, \n",
    "                   kombinace=\"all\", \n",
    "                   params = [[4, 6], [8, 10], [12, 14, 16], range(5,17)],\n",
    "                   model_nm=\"RandomForest_4\", \n",
    "                   dataset_nm=\"second\")"
   ]
  },
  {
   "cell_type": "code",
   "execution_count": null,
   "metadata": {
    "collapsed": true
   },
   "outputs": [],
   "source": []
  }
 ],
 "metadata": {
  "kernelspec": {
   "display_name": "Python 3",
   "language": "python",
   "name": "python3"
  },
  "language_info": {
   "codemirror_mode": {
    "name": "ipython",
    "version": 3
   },
   "file_extension": ".py",
   "mimetype": "text/x-python",
   "name": "python",
   "nbconvert_exporter": "python",
   "pygments_lexer": "ipython3",
   "version": "3.6.2"
  }
 },
 "nbformat": 4,
 "nbformat_minor": 2
}
